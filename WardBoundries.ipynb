{
 "cells": [
  {
   "cell_type": "code",
   "execution_count": 1,
   "metadata": {},
   "outputs": [],
   "source": [
    "import pandas as pd\n",
    "import numpy as np\n",
    "import matplotlib.pyplot as plt\n",
    "import folium\n",
    "import requests\n",
    "from shapely.geometry import Point\n",
    "from shapely.geometry.polygon import Polygon"
   ]
  },
  {
   "cell_type": "code",
   "execution_count": 2,
   "metadata": {},
   "outputs": [
    {
     "ename": "ImportError",
     "evalue": "Unable to find a usable engine; tried using: 'pyarrow', 'fastparquet'.\nA suitable version of pyarrow or fastparquet is required for parquet support.\nTrying to import the above resulted in these errors:\n - Missing optional dependency 'pyarrow'. pyarrow is required for parquet support. Use pip or conda to install pyarrow.\n - Missing optional dependency 'fastparquet'. fastparquet is required for parquet support. Use pip or conda to install fastparquet.",
     "output_type": "error",
     "traceback": [
      "\u001b[0;31m---------------------------------------------------------------------------\u001b[0m",
      "\u001b[0;31mImportError\u001b[0m                               Traceback (most recent call last)",
      "Input \u001b[0;32mIn [2]\u001b[0m, in \u001b[0;36m<cell line: 2>\u001b[0;34m()\u001b[0m\n\u001b[1;32m      1\u001b[0m \u001b[38;5;66;03m# open parquet file as dataframe\u001b[39;00m\n\u001b[0;32m----> 2\u001b[0m df \u001b[38;5;241m=\u001b[39m \u001b[43mpd\u001b[49m\u001b[38;5;241;43m.\u001b[39;49m\u001b[43mread_parquet\u001b[49m\u001b[43m(\u001b[49m\u001b[38;5;124;43m\"\u001b[39;49m\u001b[38;5;124;43mdata\u001b[39;49m\u001b[38;5;124;43m\\\u001b[39;49m\u001b[38;5;124;43mstreet.parquet\u001b[39;49m\u001b[38;5;124;43m\"\u001b[39;49m\u001b[43m)\u001b[49m\n\u001b[1;32m      4\u001b[0m \u001b[38;5;66;03m# Select rows where \"Crime type\" is \"Burglary\"\u001b[39;00m\n\u001b[1;32m      5\u001b[0m df_burglary \u001b[38;5;241m=\u001b[39m df\u001b[38;5;241m.\u001b[39mquery(\u001b[38;5;124m\"\u001b[39m\u001b[38;5;124m`Crime type` == \u001b[39m\u001b[38;5;124m'\u001b[39m\u001b[38;5;124mBurglary\u001b[39m\u001b[38;5;124m'\u001b[39m\u001b[38;5;124m\"\u001b[39m)\n",
      "File \u001b[0;32m~/.cache/pyv/tue/lib/python3.10/site-packages/pandas/io/parquet.py:499\u001b[0m, in \u001b[0;36mread_parquet\u001b[0;34m(path, engine, columns, storage_options, use_nullable_dtypes, **kwargs)\u001b[0m\n\u001b[1;32m    445\u001b[0m \u001b[38;5;129m@doc\u001b[39m(storage_options\u001b[38;5;241m=\u001b[39m_shared_docs[\u001b[38;5;124m\"\u001b[39m\u001b[38;5;124mstorage_options\u001b[39m\u001b[38;5;124m\"\u001b[39m])\n\u001b[1;32m    446\u001b[0m \u001b[38;5;28;01mdef\u001b[39;00m \u001b[38;5;21mread_parquet\u001b[39m(\n\u001b[1;32m    447\u001b[0m     path: FilePath \u001b[38;5;241m|\u001b[39m ReadBuffer[\u001b[38;5;28mbytes\u001b[39m],\n\u001b[0;32m   (...)\u001b[0m\n\u001b[1;32m    452\u001b[0m     \u001b[38;5;241m*\u001b[39m\u001b[38;5;241m*\u001b[39mkwargs,\n\u001b[1;32m    453\u001b[0m ) \u001b[38;5;241m-\u001b[39m\u001b[38;5;241m>\u001b[39m DataFrame:\n\u001b[1;32m    454\u001b[0m     \u001b[38;5;124;03m\"\"\"\u001b[39;00m\n\u001b[1;32m    455\u001b[0m \u001b[38;5;124;03m    Load a parquet object from the file path, returning a DataFrame.\u001b[39;00m\n\u001b[1;32m    456\u001b[0m \n\u001b[0;32m   (...)\u001b[0m\n\u001b[1;32m    497\u001b[0m \u001b[38;5;124;03m    DataFrame\u001b[39;00m\n\u001b[1;32m    498\u001b[0m \u001b[38;5;124;03m    \"\"\"\u001b[39;00m\n\u001b[0;32m--> 499\u001b[0m     impl \u001b[38;5;241m=\u001b[39m \u001b[43mget_engine\u001b[49m\u001b[43m(\u001b[49m\u001b[43mengine\u001b[49m\u001b[43m)\u001b[49m\n\u001b[1;32m    501\u001b[0m     \u001b[38;5;28;01mreturn\u001b[39;00m impl\u001b[38;5;241m.\u001b[39mread(\n\u001b[1;32m    502\u001b[0m         path,\n\u001b[1;32m    503\u001b[0m         columns\u001b[38;5;241m=\u001b[39mcolumns,\n\u001b[0;32m   (...)\u001b[0m\n\u001b[1;32m    506\u001b[0m         \u001b[38;5;241m*\u001b[39m\u001b[38;5;241m*\u001b[39mkwargs,\n\u001b[1;32m    507\u001b[0m     )\n",
      "File \u001b[0;32m~/.cache/pyv/tue/lib/python3.10/site-packages/pandas/io/parquet.py:52\u001b[0m, in \u001b[0;36mget_engine\u001b[0;34m(engine)\u001b[0m\n\u001b[1;32m     49\u001b[0m         \u001b[38;5;28;01mexcept\u001b[39;00m \u001b[38;5;167;01mImportError\u001b[39;00m \u001b[38;5;28;01mas\u001b[39;00m err:\n\u001b[1;32m     50\u001b[0m             error_msgs \u001b[38;5;241m+\u001b[39m\u001b[38;5;241m=\u001b[39m \u001b[38;5;124m\"\u001b[39m\u001b[38;5;130;01m\\n\u001b[39;00m\u001b[38;5;124m - \u001b[39m\u001b[38;5;124m\"\u001b[39m \u001b[38;5;241m+\u001b[39m \u001b[38;5;28mstr\u001b[39m(err)\n\u001b[0;32m---> 52\u001b[0m     \u001b[38;5;28;01mraise\u001b[39;00m \u001b[38;5;167;01mImportError\u001b[39;00m(\n\u001b[1;32m     53\u001b[0m         \u001b[38;5;124m\"\u001b[39m\u001b[38;5;124mUnable to find a usable engine; \u001b[39m\u001b[38;5;124m\"\u001b[39m\n\u001b[1;32m     54\u001b[0m         \u001b[38;5;124m\"\u001b[39m\u001b[38;5;124mtried using: \u001b[39m\u001b[38;5;124m'\u001b[39m\u001b[38;5;124mpyarrow\u001b[39m\u001b[38;5;124m'\u001b[39m\u001b[38;5;124m, \u001b[39m\u001b[38;5;124m'\u001b[39m\u001b[38;5;124mfastparquet\u001b[39m\u001b[38;5;124m'\u001b[39m\u001b[38;5;124m.\u001b[39m\u001b[38;5;130;01m\\n\u001b[39;00m\u001b[38;5;124m\"\u001b[39m\n\u001b[1;32m     55\u001b[0m         \u001b[38;5;124m\"\u001b[39m\u001b[38;5;124mA suitable version of \u001b[39m\u001b[38;5;124m\"\u001b[39m\n\u001b[1;32m     56\u001b[0m         \u001b[38;5;124m\"\u001b[39m\u001b[38;5;124mpyarrow or fastparquet is required for parquet \u001b[39m\u001b[38;5;124m\"\u001b[39m\n\u001b[1;32m     57\u001b[0m         \u001b[38;5;124m\"\u001b[39m\u001b[38;5;124msupport.\u001b[39m\u001b[38;5;130;01m\\n\u001b[39;00m\u001b[38;5;124m\"\u001b[39m\n\u001b[1;32m     58\u001b[0m         \u001b[38;5;124m\"\u001b[39m\u001b[38;5;124mTrying to import the above resulted in these errors:\u001b[39m\u001b[38;5;124m\"\u001b[39m\n\u001b[1;32m     59\u001b[0m         \u001b[38;5;124mf\u001b[39m\u001b[38;5;124m\"\u001b[39m\u001b[38;5;132;01m{\u001b[39;00merror_msgs\u001b[38;5;132;01m}\u001b[39;00m\u001b[38;5;124m\"\u001b[39m\n\u001b[1;32m     60\u001b[0m     )\n\u001b[1;32m     62\u001b[0m \u001b[38;5;28;01mif\u001b[39;00m engine \u001b[38;5;241m==\u001b[39m \u001b[38;5;124m\"\u001b[39m\u001b[38;5;124mpyarrow\u001b[39m\u001b[38;5;124m\"\u001b[39m:\n\u001b[1;32m     63\u001b[0m     \u001b[38;5;28;01mreturn\u001b[39;00m PyArrowImpl()\n",
      "\u001b[0;31mImportError\u001b[0m: Unable to find a usable engine; tried using: 'pyarrow', 'fastparquet'.\nA suitable version of pyarrow or fastparquet is required for parquet support.\nTrying to import the above resulted in these errors:\n - Missing optional dependency 'pyarrow'. pyarrow is required for parquet support. Use pip or conda to install pyarrow.\n - Missing optional dependency 'fastparquet'. fastparquet is required for parquet support. Use pip or conda to install fastparquet."
     ]
    }
   ],
   "source": [
    "# open parquet file as dataframe\n",
    "df = pd.read_parquet(\"data\\street.parquet\")\n",
    "\n",
    "# Select rows where \"Crime type\" is \"Burglary\"\n",
    "df_burglary = df.query(\"`Crime type` == 'Burglary'\")\n",
    "df_burglary.head()\n"
   ]
  },
  {
   "cell_type": "code",
   "execution_count": 3,
   "metadata": {},
   "outputs": [],
   "source": [
    "wards_barnet = [\"High Barnet\", \"Underhill\", \"Barnet Vale\", \"East Barnet\", \"Friern Barnet\",\"Woodhouse\", \n",
    "                \"Whetstone\", \"Brunswick Park\", \"Totteridge and Woodside\", \"Mill Hill\", \"Cricklewood\",\n",
    "                 \"Edgwarebury\", \"Burnt Oak\", \"Edgware\", \"Colindale South\", \"West Hendon\", \"Colindale North\",\"Hendon\",\n",
    "                 \"West Finchley\", \"East Finchley\", \"Garden Suburb\", \"Finchley Church End\", \"Golders Green\", \"Childs Hill\"]"
   ]
  },
  {
   "cell_type": "code",
   "execution_count": null,
   "metadata": {},
   "outputs": [],
   "source": [
    "\n",
    "# set the url\n",
    "url = \"https://data.police.uk/api/metropolitan/neighbourhoods\"\n",
    "\n",
    "# make a get request to the url\n",
    "response = requests.get(url)\n",
    "\n",
    "# convert the response to json format\n",
    "data = response.json()\n",
    "\n",
    "# Dataframe from the json data and select only where name value is in the wards_barnet list\n",
    "df_wards = pd.DataFrame(data).query(\"name in @wards_barnet\")\n",
    "\n",
    "df_wards.set_index(\"id\", inplace=True)\n",
    "\n",
    "df_wards[\"name\"].values"
   ]
  },
  {
   "cell_type": "code",
   "execution_count": null,
   "metadata": {},
   "outputs": [],
   "source": [
    "ids = df_wards.index.tolist()\n",
    "\n",
    "long = []\n",
    "lat = []\n",
    "\n",
    "for id in ids:\n",
    "    # set the url\n",
    "    url = f\"https://data.police.uk/api/metropolitan/{id}/boundary\"\n",
    "    # make a get request to the url\n",
    "    df = pd.DataFrame(requests.get(url).json())\n",
    "    # append the longitude and latitude to the lists\n",
    "    long.append(df[\"longitude\"].to_numpy().astype(float))\n",
    "    lat.append(df[\"latitude\"].to_numpy().astype(float))\n",
    "\n",
    "df_wards[\"longitude\"] = long\n",
    "df_wards[\"latitude\"] = lat\n",
    "# remove the first row because it was a duplicate\n",
    "df_wards = df_wards.iloc[1:]\n",
    "# new column boundaries which is a list of tuples of the longitude and latitude\n",
    "df_wards[\"boundaries\"] = df_wards.apply(lambda x: list(zip(x[\"longitude\"], x[\"latitude\"])), axis=1)\n",
    "\n",
    "df_wards.head()"
   ]
  },
  {
   "cell_type": "code",
   "execution_count": null,
   "metadata": {},
   "outputs": [],
   "source": [
    "m = folium.Map(location=[df_wards.iloc[0][\"latitude\"].mean(), df_wards.iloc[0][\"longitude\"].mean()], zoom_start=12)\n",
    "colors = [\"red\", \"blue\", \"black\"]\n",
    "\n",
    "idx = 0\n",
    "for lg, lt in df_wards[[\"longitude\", \"latitude\"]].to_numpy():\n",
    "    # create a map object\n",
    "    \n",
    "    # add the boundary to the map\n",
    "    df_temp = pd.DataFrame({\"longitude\": lg, \"latitude\": lt})\n",
    "    # create temp dataframe of longitude and latitude\n",
    "    np_array = df_temp[[\"latitude\", \"longitude\"]].to_numpy()\n",
    "    \n",
    "\n",
    "    folium.Polygon(locations=np_array, fill=True, color = colors[idx % len(colors)], fill_color = colors[idx % len(colors)]).add_to(m)\n",
    "    idx += 1\n",
    "    \n",
    "display(m)"
   ]
  },
  {
   "cell_type": "code",
   "execution_count": null,
   "metadata": {},
   "outputs": [],
   "source": [
    "\n",
    "def find_ward(row):\n",
    "    \"\"\"\n",
    "    Finds the ward where a crime took place. The function takes a row \n",
    "    from the df_burglary dataframe as input and returns the name of the ward\n",
    "    where the crime took place.\n",
    "    \"\"\"\n",
    "    \n",
    "    point = Point(row[\"Longitude\"], row[\"Latitude\"])\n",
    "    for idx in range(len(df_wards)):\n",
    "        # create a polygon from the ward boundaries\n",
    "        polygon = Polygon(df_wards.iloc[idx][\"boundaries\"])\n",
    "        # check if the burglary point is in the ward polygon\n",
    "        if polygon.contains(point):\n",
    "            return df_wards.iloc[idx][\"name\"]\n",
    "\n",
    "# create a new column in df_burglary with the ward name\n",
    "df_burglary[\"ward\"] = df_burglary.apply(find_ward, axis=1)\n",
    "\n",
    "# Changed month to datetime format with the format %Y-%m\n",
    "f = \"%Y-%m\"\n",
    "df_burglary[\"Month\"] = pd.to_datetime(df_burglary[\"Month\"], format=f)\n",
    "\n",
    "# save the burglary dataframe as a parquet file\n",
    "df_burglary.to_parquet(r\"data\\burglary.parquet\")"
   ]
  }
 ],
 "metadata": {
  "kernelspec": {
   "display_name": "Python 3 (ipykernel)",
   "language": "python",
   "name": "python3"
  },
  "language_info": {
   "codemirror_mode": {
    "name": "ipython",
    "version": 3
   },
   "file_extension": ".py",
   "mimetype": "text/x-python",
   "name": "python",
   "nbconvert_exporter": "python",
   "pygments_lexer": "ipython3",
   "version": "3.10.10"
  }
 },
 "nbformat": 4,
 "nbformat_minor": 4
}
