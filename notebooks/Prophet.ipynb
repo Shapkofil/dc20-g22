{
 "cells": [
  {
   "cell_type": "code",
   "execution_count": 2,
   "metadata": {},
   "outputs": [
    {
     "name": "stderr",
     "output_type": "stream",
     "text": [
      "c:\\Users\\izzfa\\AppData\\Local\\Programs\\Python\\Python39\\lib\\site-packages\\tqdm\\auto.py:21: TqdmWarning: IProgress not found. Please update jupyter and ipywidgets. See https://ipywidgets.readthedocs.io/en/stable/user_install.html\n",
      "  from .autonotebook import tqdm as notebook_tqdm\n"
     ]
    }
   ],
   "source": [
    "from prophet import Prophet\n",
    "import pandas as pd\n",
    "import numpy as np\n",
    "import pyarrow.parquet as pq\n",
    "import matplotlib.pyplot as plt\n",
    "import seaborn as sns\n",
    "from sklearn.metrics import mean_absolute_error, mean_squared_error, r2_score\n",
    "from govuk_bank_holidays.bank_holidays import BankHolidays\n"
   ]
  },
  {
   "attachments": {},
   "cell_type": "markdown",
   "metadata": {},
   "source": [
    "# Loading Data"
   ]
  },
  {
   "cell_type": "code",
   "execution_count": 3,
   "metadata": {},
   "outputs": [
    {
     "data": {
      "text/html": [
       "<div>\n",
       "<style scoped>\n",
       "    .dataframe tbody tr th:only-of-type {\n",
       "        vertical-align: middle;\n",
       "    }\n",
       "\n",
       "    .dataframe tbody tr th {\n",
       "        vertical-align: top;\n",
       "    }\n",
       "\n",
       "    .dataframe thead th {\n",
       "        text-align: right;\n",
       "    }\n",
       "</style>\n",
       "<table border=\"1\" class=\"dataframe\">\n",
       "  <thead>\n",
       "    <tr style=\"text-align: right;\">\n",
       "      <th></th>\n",
       "      <th>Crime ID</th>\n",
       "      <th>Month</th>\n",
       "      <th>Reported by</th>\n",
       "      <th>Falls within</th>\n",
       "      <th>Longitude</th>\n",
       "      <th>Latitude</th>\n",
       "      <th>Location</th>\n",
       "      <th>LSOA code</th>\n",
       "      <th>LSOA name</th>\n",
       "      <th>Crime type</th>\n",
       "      <th>Last outcome category</th>\n",
       "      <th>Context</th>\n",
       "      <th>LSOA21NM</th>\n",
       "      <th>WD22NM</th>\n",
       "      <th>LSOA Code</th>\n",
       "      <th>Mid-2020 population</th>\n",
       "      <th>Area Sq Km</th>\n",
       "      <th>People per Sq Km</th>\n",
       "      <th>Burglaries</th>\n",
       "    </tr>\n",
       "  </thead>\n",
       "  <tbody>\n",
       "    <tr>\n",
       "      <th>25504</th>\n",
       "      <td>None</td>\n",
       "      <td>2010-12-01</td>\n",
       "      <td>Metropolitan Police Service</td>\n",
       "      <td>Metropolitan Police Service</td>\n",
       "      <td>-0.164205</td>\n",
       "      <td>51.613222</td>\n",
       "      <td>On or near Lewes Road</td>\n",
       "      <td>E01000324</td>\n",
       "      <td>Barnet 015F</td>\n",
       "      <td>Burglary</td>\n",
       "      <td>None</td>\n",
       "      <td>NaN</td>\n",
       "      <td>Barnet 015F</td>\n",
       "      <td>Woodhouse</td>\n",
       "      <td>E01000324</td>\n",
       "      <td>1851</td>\n",
       "      <td>0.27</td>\n",
       "      <td>6820</td>\n",
       "      <td>10</td>\n",
       "    </tr>\n",
       "    <tr>\n",
       "      <th>31048</th>\n",
       "      <td>None</td>\n",
       "      <td>2010-12-01</td>\n",
       "      <td>Metropolitan Police Service</td>\n",
       "      <td>Metropolitan Police Service</td>\n",
       "      <td>-0.157661</td>\n",
       "      <td>51.652137</td>\n",
       "      <td>On or near Langford Road</td>\n",
       "      <td>E01000166</td>\n",
       "      <td>Barnet 003A</td>\n",
       "      <td>Burglary</td>\n",
       "      <td>None</td>\n",
       "      <td>NaN</td>\n",
       "      <td>Barnet 003A</td>\n",
       "      <td>East Barnet</td>\n",
       "      <td>E01000166</td>\n",
       "      <td>1619</td>\n",
       "      <td>0.37</td>\n",
       "      <td>4379</td>\n",
       "      <td>16</td>\n",
       "    </tr>\n",
       "    <tr>\n",
       "      <th>8551</th>\n",
       "      <td>None</td>\n",
       "      <td>2010-12-01</td>\n",
       "      <td>Metropolitan Police Service</td>\n",
       "      <td>Metropolitan Police Service</td>\n",
       "      <td>-0.186585</td>\n",
       "      <td>51.604371</td>\n",
       "      <td>On or near Willow Way</td>\n",
       "      <td>E01000298</td>\n",
       "      <td>Barnet 023D</td>\n",
       "      <td>Burglary</td>\n",
       "      <td>None</td>\n",
       "      <td>NaN</td>\n",
       "      <td>Barnet 023D</td>\n",
       "      <td>West Finchley</td>\n",
       "      <td>E01000298</td>\n",
       "      <td>2007</td>\n",
       "      <td>0.27</td>\n",
       "      <td>7545</td>\n",
       "      <td>27</td>\n",
       "    </tr>\n",
       "    <tr>\n",
       "      <th>19476</th>\n",
       "      <td>None</td>\n",
       "      <td>2010-12-01</td>\n",
       "      <td>Metropolitan Police Service</td>\n",
       "      <td>Metropolitan Police Service</td>\n",
       "      <td>-0.213734</td>\n",
       "      <td>51.567559</td>\n",
       "      <td>On or near Cotswold Gardens</td>\n",
       "      <td>E01000222</td>\n",
       "      <td>Barnet 040C</td>\n",
       "      <td>Burglary</td>\n",
       "      <td>None</td>\n",
       "      <td>NaN</td>\n",
       "      <td>Barnet 040C</td>\n",
       "      <td>Cricklewood</td>\n",
       "      <td>E01000222</td>\n",
       "      <td>1975</td>\n",
       "      <td>0.42</td>\n",
       "      <td>4748</td>\n",
       "      <td>11</td>\n",
       "    </tr>\n",
       "    <tr>\n",
       "      <th>19477</th>\n",
       "      <td>None</td>\n",
       "      <td>2010-12-01</td>\n",
       "      <td>Metropolitan Police Service</td>\n",
       "      <td>Metropolitan Police Service</td>\n",
       "      <td>-0.214454</td>\n",
       "      <td>51.570906</td>\n",
       "      <td>On or near Prayle Grove</td>\n",
       "      <td>E01000222</td>\n",
       "      <td>Barnet 040C</td>\n",
       "      <td>Burglary</td>\n",
       "      <td>None</td>\n",
       "      <td>NaN</td>\n",
       "      <td>Barnet 040C</td>\n",
       "      <td>Cricklewood</td>\n",
       "      <td>E01000222</td>\n",
       "      <td>1975</td>\n",
       "      <td>0.42</td>\n",
       "      <td>4748</td>\n",
       "      <td>11</td>\n",
       "    </tr>\n",
       "    <tr>\n",
       "      <th>...</th>\n",
       "      <td>...</td>\n",
       "      <td>...</td>\n",
       "      <td>...</td>\n",
       "      <td>...</td>\n",
       "      <td>...</td>\n",
       "      <td>...</td>\n",
       "      <td>...</td>\n",
       "      <td>...</td>\n",
       "      <td>...</td>\n",
       "      <td>...</td>\n",
       "      <td>...</td>\n",
       "      <td>...</td>\n",
       "      <td>...</td>\n",
       "      <td>...</td>\n",
       "      <td>...</td>\n",
       "      <td>...</td>\n",
       "      <td>...</td>\n",
       "      <td>...</td>\n",
       "      <td>...</td>\n",
       "    </tr>\n",
       "    <tr>\n",
       "      <th>30048</th>\n",
       "      <td>5edebc29e8ee6a316ce91e3dc7de4cacafe6901d6a1045...</td>\n",
       "      <td>2023-03-01</td>\n",
       "      <td>Metropolitan Police Service</td>\n",
       "      <td>Metropolitan Police Service</td>\n",
       "      <td>-0.188374</td>\n",
       "      <td>51.574652</td>\n",
       "      <td>On or near Corringham Road</td>\n",
       "      <td>E01000214</td>\n",
       "      <td>Barnet 038E</td>\n",
       "      <td>Burglary</td>\n",
       "      <td>Under investigation</td>\n",
       "      <td>NaN</td>\n",
       "      <td>Barnet 038E</td>\n",
       "      <td>Childs Hill</td>\n",
       "      <td>E01000214</td>\n",
       "      <td>1909</td>\n",
       "      <td>0.33</td>\n",
       "      <td>5762</td>\n",
       "      <td>20</td>\n",
       "    </tr>\n",
       "    <tr>\n",
       "      <th>18013</th>\n",
       "      <td>b6106017b050bf4b1f4d17100c391c6fcd626985049973...</td>\n",
       "      <td>2023-03-01</td>\n",
       "      <td>Metropolitan Police Service</td>\n",
       "      <td>Metropolitan Police Service</td>\n",
       "      <td>-0.215314</td>\n",
       "      <td>51.557290</td>\n",
       "      <td>On or near</td>\n",
       "      <td>E01000141</td>\n",
       "      <td>Barnet 039A</td>\n",
       "      <td>Burglary</td>\n",
       "      <td>Under investigation</td>\n",
       "      <td>NaN</td>\n",
       "      <td>Barnet 039A</td>\n",
       "      <td>Cricklewood</td>\n",
       "      <td>E01000141</td>\n",
       "      <td>2258</td>\n",
       "      <td>0.37</td>\n",
       "      <td>6094</td>\n",
       "      <td>9</td>\n",
       "    </tr>\n",
       "    <tr>\n",
       "      <th>18014</th>\n",
       "      <td>2ab650a481ac9e02643ee99659a846237f2d25006aab8e...</td>\n",
       "      <td>2023-03-01</td>\n",
       "      <td>Metropolitan Police Service</td>\n",
       "      <td>Metropolitan Police Service</td>\n",
       "      <td>-0.216684</td>\n",
       "      <td>51.559259</td>\n",
       "      <td>On or near Kara Way</td>\n",
       "      <td>E01000141</td>\n",
       "      <td>Barnet 039A</td>\n",
       "      <td>Burglary</td>\n",
       "      <td>Under investigation</td>\n",
       "      <td>NaN</td>\n",
       "      <td>Barnet 039A</td>\n",
       "      <td>Cricklewood</td>\n",
       "      <td>E01000141</td>\n",
       "      <td>2258</td>\n",
       "      <td>0.37</td>\n",
       "      <td>6094</td>\n",
       "      <td>9</td>\n",
       "    </tr>\n",
       "    <tr>\n",
       "      <th>38649</th>\n",
       "      <td>e52bf021cbf673d1a3742f2ffc7033f164958ebdf5ad25...</td>\n",
       "      <td>2023-03-01</td>\n",
       "      <td>Metropolitan Police Service</td>\n",
       "      <td>Metropolitan Police Service</td>\n",
       "      <td>-0.205638</td>\n",
       "      <td>51.652907</td>\n",
       "      <td>On or near Coe'S Alley</td>\n",
       "      <td>E01000250</td>\n",
       "      <td>Barnet 001C</td>\n",
       "      <td>Burglary</td>\n",
       "      <td>Under investigation</td>\n",
       "      <td>NaN</td>\n",
       "      <td>Barnet 001C</td>\n",
       "      <td>High Barnet</td>\n",
       "      <td>E01000250</td>\n",
       "      <td>2793</td>\n",
       "      <td>0.58</td>\n",
       "      <td>4803</td>\n",
       "      <td>6</td>\n",
       "    </tr>\n",
       "    <tr>\n",
       "      <th>35002</th>\n",
       "      <td>50984da3232e9ad7e32a647e6a0d2ad82ef5f16aa5aaab...</td>\n",
       "      <td>2023-03-01</td>\n",
       "      <td>Metropolitan Police Service</td>\n",
       "      <td>Metropolitan Police Service</td>\n",
       "      <td>-0.186333</td>\n",
       "      <td>51.596561</td>\n",
       "      <td>On or near Dudley Road</td>\n",
       "      <td>E01000197</td>\n",
       "      <td>Barnet 023A</td>\n",
       "      <td>Burglary</td>\n",
       "      <td>Under investigation</td>\n",
       "      <td>NaN</td>\n",
       "      <td>Barnet 023A</td>\n",
       "      <td>Finchley Church End</td>\n",
       "      <td>E01000197</td>\n",
       "      <td>2064</td>\n",
       "      <td>0.28</td>\n",
       "      <td>7451</td>\n",
       "      <td>18</td>\n",
       "    </tr>\n",
       "  </tbody>\n",
       "</table>\n",
       "<p>42511 rows × 19 columns</p>\n",
       "</div>"
      ],
      "text/plain": [
       "                                                Crime ID      Month  \\\n",
       "25504                                               None 2010-12-01   \n",
       "31048                                               None 2010-12-01   \n",
       "8551                                                None 2010-12-01   \n",
       "19476                                               None 2010-12-01   \n",
       "19477                                               None 2010-12-01   \n",
       "...                                                  ...        ...   \n",
       "30048  5edebc29e8ee6a316ce91e3dc7de4cacafe6901d6a1045... 2023-03-01   \n",
       "18013  b6106017b050bf4b1f4d17100c391c6fcd626985049973... 2023-03-01   \n",
       "18014  2ab650a481ac9e02643ee99659a846237f2d25006aab8e... 2023-03-01   \n",
       "38649  e52bf021cbf673d1a3742f2ffc7033f164958ebdf5ad25... 2023-03-01   \n",
       "35002  50984da3232e9ad7e32a647e6a0d2ad82ef5f16aa5aaab... 2023-03-01   \n",
       "\n",
       "                       Reported by                 Falls within  Longitude  \\\n",
       "25504  Metropolitan Police Service  Metropolitan Police Service  -0.164205   \n",
       "31048  Metropolitan Police Service  Metropolitan Police Service  -0.157661   \n",
       "8551   Metropolitan Police Service  Metropolitan Police Service  -0.186585   \n",
       "19476  Metropolitan Police Service  Metropolitan Police Service  -0.213734   \n",
       "19477  Metropolitan Police Service  Metropolitan Police Service  -0.214454   \n",
       "...                            ...                          ...        ...   \n",
       "30048  Metropolitan Police Service  Metropolitan Police Service  -0.188374   \n",
       "18013  Metropolitan Police Service  Metropolitan Police Service  -0.215314   \n",
       "18014  Metropolitan Police Service  Metropolitan Police Service  -0.216684   \n",
       "38649  Metropolitan Police Service  Metropolitan Police Service  -0.205638   \n",
       "35002  Metropolitan Police Service  Metropolitan Police Service  -0.186333   \n",
       "\n",
       "        Latitude                     Location  LSOA code    LSOA name  \\\n",
       "25504  51.613222        On or near Lewes Road  E01000324  Barnet 015F   \n",
       "31048  51.652137     On or near Langford Road  E01000166  Barnet 003A   \n",
       "8551   51.604371        On or near Willow Way  E01000298  Barnet 023D   \n",
       "19476  51.567559  On or near Cotswold Gardens  E01000222  Barnet 040C   \n",
       "19477  51.570906      On or near Prayle Grove  E01000222  Barnet 040C   \n",
       "...          ...                          ...        ...          ...   \n",
       "30048  51.574652   On or near Corringham Road  E01000214  Barnet 038E   \n",
       "18013  51.557290                  On or near   E01000141  Barnet 039A   \n",
       "18014  51.559259          On or near Kara Way  E01000141  Barnet 039A   \n",
       "38649  51.652907       On or near Coe'S Alley  E01000250  Barnet 001C   \n",
       "35002  51.596561       On or near Dudley Road  E01000197  Barnet 023A   \n",
       "\n",
       "      Crime type Last outcome category  Context     LSOA21NM  \\\n",
       "25504   Burglary                  None      NaN  Barnet 015F   \n",
       "31048   Burglary                  None      NaN  Barnet 003A   \n",
       "8551    Burglary                  None      NaN  Barnet 023D   \n",
       "19476   Burglary                  None      NaN  Barnet 040C   \n",
       "19477   Burglary                  None      NaN  Barnet 040C   \n",
       "...          ...                   ...      ...          ...   \n",
       "30048   Burglary   Under investigation      NaN  Barnet 038E   \n",
       "18013   Burglary   Under investigation      NaN  Barnet 039A   \n",
       "18014   Burglary   Under investigation      NaN  Barnet 039A   \n",
       "38649   Burglary   Under investigation      NaN  Barnet 001C   \n",
       "35002   Burglary   Under investigation      NaN  Barnet 023A   \n",
       "\n",
       "                    WD22NM  LSOA Code  Mid-2020 population  Area Sq Km  \\\n",
       "25504            Woodhouse  E01000324                 1851        0.27   \n",
       "31048          East Barnet  E01000166                 1619        0.37   \n",
       "8551         West Finchley  E01000298                 2007        0.27   \n",
       "19476          Cricklewood  E01000222                 1975        0.42   \n",
       "19477          Cricklewood  E01000222                 1975        0.42   \n",
       "...                    ...        ...                  ...         ...   \n",
       "30048          Childs Hill  E01000214                 1909        0.33   \n",
       "18013          Cricklewood  E01000141                 2258        0.37   \n",
       "18014          Cricklewood  E01000141                 2258        0.37   \n",
       "38649          High Barnet  E01000250                 2793        0.58   \n",
       "35002  Finchley Church End  E01000197                 2064        0.28   \n",
       "\n",
       "       People per Sq Km  Burglaries  \n",
       "25504              6820          10  \n",
       "31048              4379          16  \n",
       "8551               7545          27  \n",
       "19476              4748          11  \n",
       "19477              4748          11  \n",
       "...                 ...         ...  \n",
       "30048              5762          20  \n",
       "18013              6094           9  \n",
       "18014              6094           9  \n",
       "38649              4803           6  \n",
       "35002              7451          18  \n",
       "\n",
       "[42511 rows x 19 columns]"
      ]
     },
     "execution_count": 3,
     "metadata": {},
     "output_type": "execute_result"
    }
   ],
   "source": [
    "filepath_barn = \"../../Data/ward_data.parquet\"\n",
    "\n",
    "barnet = pq.read_pandas(filepath_barn).to_pandas()\n",
    "# Remove commas and convert to integers\n",
    "barnet['Mid-2020 population'] = barnet['Mid-2020 population'].str.replace(',', '').astype(int)\n",
    "barnet['People per Sq Km'] = barnet['People per Sq Km'].str.replace(',', '').astype(int)\n",
    "\n",
    "burglary_counts = barnet.groupby(['Month', 'WD22NM'])['Crime type'].count().reset_index()\n",
    "burglary_counts.rename(columns={'Crime type': 'Burglaries'}, inplace=True)\n",
    "barnet = barnet.merge(burglary_counts, on=['Month','WD22NM'], how='left')\n",
    "\n",
    "barnet['Month'] = pd.to_datetime(barnet['Month'])\n",
    "barnet = barnet.sort_values('Month')\n",
    "barnet"
   ]
  },
  {
   "attachments": {},
   "cell_type": "markdown",
   "metadata": {},
   "source": [
    "# Processing Data"
   ]
  },
  {
   "cell_type": "code",
   "execution_count": 118,
   "metadata": {},
   "outputs": [
    {
     "data": {
      "text/html": [
       "<div>\n",
       "<style scoped>\n",
       "    .dataframe tbody tr th:only-of-type {\n",
       "        vertical-align: middle;\n",
       "    }\n",
       "\n",
       "    .dataframe tbody tr th {\n",
       "        vertical-align: top;\n",
       "    }\n",
       "\n",
       "    .dataframe thead th {\n",
       "        text-align: right;\n",
       "    }\n",
       "</style>\n",
       "<table border=\"1\" class=\"dataframe\">\n",
       "  <thead>\n",
       "    <tr style=\"text-align: right;\">\n",
       "      <th>WD22NM</th>\n",
       "      <th>ds</th>\n",
       "      <th>Barnet Vale</th>\n",
       "      <th>Brunswick Park</th>\n",
       "      <th>Burnt Oak</th>\n",
       "      <th>Childs Hill</th>\n",
       "      <th>Colindale North</th>\n",
       "      <th>Cricklewood</th>\n",
       "      <th>East Barnet</th>\n",
       "      <th>East Finchley</th>\n",
       "      <th>Edgware</th>\n",
       "      <th>...</th>\n",
       "      <th>Mill Hill</th>\n",
       "      <th>Totteridge &amp; Woodside</th>\n",
       "      <th>Underhill</th>\n",
       "      <th>West Finchley</th>\n",
       "      <th>West Hendon</th>\n",
       "      <th>Whetstone</th>\n",
       "      <th>Woodhouse</th>\n",
       "      <th>Total</th>\n",
       "      <th>Mean</th>\n",
       "      <th>Std</th>\n",
       "    </tr>\n",
       "  </thead>\n",
       "  <tbody>\n",
       "    <tr>\n",
       "      <th>0</th>\n",
       "      <td>2010-12-01</td>\n",
       "      <td>13.0</td>\n",
       "      <td>13.0</td>\n",
       "      <td>10.0</td>\n",
       "      <td>20.0</td>\n",
       "      <td>7.0</td>\n",
       "      <td>11.0</td>\n",
       "      <td>16.0</td>\n",
       "      <td>18.0</td>\n",
       "      <td>20.0</td>\n",
       "      <td>...</td>\n",
       "      <td>25.0</td>\n",
       "      <td>10.0</td>\n",
       "      <td>8.0</td>\n",
       "      <td>27.0</td>\n",
       "      <td>16.0</td>\n",
       "      <td>9.0</td>\n",
       "      <td>10.0</td>\n",
       "      <td>363.0</td>\n",
       "      <td>30.250000</td>\n",
       "      <td>69.673793</td>\n",
       "    </tr>\n",
       "    <tr>\n",
       "      <th>1</th>\n",
       "      <td>2011-01-01</td>\n",
       "      <td>23.0</td>\n",
       "      <td>15.0</td>\n",
       "      <td>14.0</td>\n",
       "      <td>41.0</td>\n",
       "      <td>5.0</td>\n",
       "      <td>13.0</td>\n",
       "      <td>20.0</td>\n",
       "      <td>19.0</td>\n",
       "      <td>12.0</td>\n",
       "      <td>...</td>\n",
       "      <td>30.0</td>\n",
       "      <td>17.0</td>\n",
       "      <td>15.0</td>\n",
       "      <td>30.0</td>\n",
       "      <td>19.0</td>\n",
       "      <td>14.0</td>\n",
       "      <td>21.0</td>\n",
       "      <td>476.0</td>\n",
       "      <td>39.666667</td>\n",
       "      <td>91.288310</td>\n",
       "    </tr>\n",
       "    <tr>\n",
       "      <th>2</th>\n",
       "      <td>2011-02-01</td>\n",
       "      <td>20.0</td>\n",
       "      <td>22.0</td>\n",
       "      <td>10.0</td>\n",
       "      <td>24.0</td>\n",
       "      <td>5.0</td>\n",
       "      <td>20.0</td>\n",
       "      <td>12.0</td>\n",
       "      <td>13.0</td>\n",
       "      <td>13.0</td>\n",
       "      <td>...</td>\n",
       "      <td>18.0</td>\n",
       "      <td>13.0</td>\n",
       "      <td>5.0</td>\n",
       "      <td>23.0</td>\n",
       "      <td>22.0</td>\n",
       "      <td>15.0</td>\n",
       "      <td>17.0</td>\n",
       "      <td>395.0</td>\n",
       "      <td>32.916667</td>\n",
       "      <td>75.737990</td>\n",
       "    </tr>\n",
       "    <tr>\n",
       "      <th>3</th>\n",
       "      <td>2011-03-01</td>\n",
       "      <td>15.0</td>\n",
       "      <td>13.0</td>\n",
       "      <td>6.0</td>\n",
       "      <td>33.0</td>\n",
       "      <td>8.0</td>\n",
       "      <td>25.0</td>\n",
       "      <td>13.0</td>\n",
       "      <td>14.0</td>\n",
       "      <td>4.0</td>\n",
       "      <td>...</td>\n",
       "      <td>23.0</td>\n",
       "      <td>8.0</td>\n",
       "      <td>22.0</td>\n",
       "      <td>22.0</td>\n",
       "      <td>12.0</td>\n",
       "      <td>17.0</td>\n",
       "      <td>6.0</td>\n",
       "      <td>399.0</td>\n",
       "      <td>33.250000</td>\n",
       "      <td>76.768727</td>\n",
       "    </tr>\n",
       "    <tr>\n",
       "      <th>4</th>\n",
       "      <td>2011-04-01</td>\n",
       "      <td>25.0</td>\n",
       "      <td>15.0</td>\n",
       "      <td>16.0</td>\n",
       "      <td>37.0</td>\n",
       "      <td>6.0</td>\n",
       "      <td>28.0</td>\n",
       "      <td>15.0</td>\n",
       "      <td>8.0</td>\n",
       "      <td>9.0</td>\n",
       "      <td>...</td>\n",
       "      <td>15.0</td>\n",
       "      <td>16.0</td>\n",
       "      <td>18.0</td>\n",
       "      <td>23.0</td>\n",
       "      <td>15.0</td>\n",
       "      <td>17.0</td>\n",
       "      <td>11.0</td>\n",
       "      <td>403.0</td>\n",
       "      <td>33.583333</td>\n",
       "      <td>77.392354</td>\n",
       "    </tr>\n",
       "    <tr>\n",
       "      <th>...</th>\n",
       "      <td>...</td>\n",
       "      <td>...</td>\n",
       "      <td>...</td>\n",
       "      <td>...</td>\n",
       "      <td>...</td>\n",
       "      <td>...</td>\n",
       "      <td>...</td>\n",
       "      <td>...</td>\n",
       "      <td>...</td>\n",
       "      <td>...</td>\n",
       "      <td>...</td>\n",
       "      <td>...</td>\n",
       "      <td>...</td>\n",
       "      <td>...</td>\n",
       "      <td>...</td>\n",
       "      <td>...</td>\n",
       "      <td>...</td>\n",
       "      <td>...</td>\n",
       "      <td>...</td>\n",
       "      <td>...</td>\n",
       "      <td>...</td>\n",
       "    </tr>\n",
       "    <tr>\n",
       "      <th>143</th>\n",
       "      <td>2022-11-01</td>\n",
       "      <td>5.0</td>\n",
       "      <td>4.0</td>\n",
       "      <td>11.0</td>\n",
       "      <td>32.0</td>\n",
       "      <td>5.0</td>\n",
       "      <td>15.0</td>\n",
       "      <td>5.0</td>\n",
       "      <td>3.0</td>\n",
       "      <td>8.0</td>\n",
       "      <td>...</td>\n",
       "      <td>7.0</td>\n",
       "      <td>13.0</td>\n",
       "      <td>5.0</td>\n",
       "      <td>16.0</td>\n",
       "      <td>11.0</td>\n",
       "      <td>11.0</td>\n",
       "      <td>15.0</td>\n",
       "      <td>234.0</td>\n",
       "      <td>19.500000</td>\n",
       "      <td>45.137752</td>\n",
       "    </tr>\n",
       "    <tr>\n",
       "      <th>144</th>\n",
       "      <td>2022-12-01</td>\n",
       "      <td>9.0</td>\n",
       "      <td>5.0</td>\n",
       "      <td>13.0</td>\n",
       "      <td>21.0</td>\n",
       "      <td>6.0</td>\n",
       "      <td>13.0</td>\n",
       "      <td>11.0</td>\n",
       "      <td>6.0</td>\n",
       "      <td>10.0</td>\n",
       "      <td>...</td>\n",
       "      <td>13.0</td>\n",
       "      <td>15.0</td>\n",
       "      <td>3.0</td>\n",
       "      <td>9.0</td>\n",
       "      <td>9.0</td>\n",
       "      <td>10.0</td>\n",
       "      <td>7.0</td>\n",
       "      <td>211.0</td>\n",
       "      <td>18.347826</td>\n",
       "      <td>41.287548</td>\n",
       "    </tr>\n",
       "    <tr>\n",
       "      <th>145</th>\n",
       "      <td>2023-01-01</td>\n",
       "      <td>5.0</td>\n",
       "      <td>7.0</td>\n",
       "      <td>11.0</td>\n",
       "      <td>21.0</td>\n",
       "      <td>5.0</td>\n",
       "      <td>13.0</td>\n",
       "      <td>9.0</td>\n",
       "      <td>5.0</td>\n",
       "      <td>10.0</td>\n",
       "      <td>...</td>\n",
       "      <td>10.0</td>\n",
       "      <td>15.0</td>\n",
       "      <td>5.0</td>\n",
       "      <td>17.0</td>\n",
       "      <td>11.0</td>\n",
       "      <td>NaN</td>\n",
       "      <td>4.0</td>\n",
       "      <td>223.0</td>\n",
       "      <td>19.391304</td>\n",
       "      <td>43.648536</td>\n",
       "    </tr>\n",
       "    <tr>\n",
       "      <th>146</th>\n",
       "      <td>2023-02-01</td>\n",
       "      <td>2.0</td>\n",
       "      <td>14.0</td>\n",
       "      <td>4.0</td>\n",
       "      <td>21.0</td>\n",
       "      <td>3.0</td>\n",
       "      <td>15.0</td>\n",
       "      <td>5.0</td>\n",
       "      <td>5.0</td>\n",
       "      <td>11.0</td>\n",
       "      <td>...</td>\n",
       "      <td>12.0</td>\n",
       "      <td>12.0</td>\n",
       "      <td>2.0</td>\n",
       "      <td>5.0</td>\n",
       "      <td>10.0</td>\n",
       "      <td>3.0</td>\n",
       "      <td>6.0</td>\n",
       "      <td>184.0</td>\n",
       "      <td>15.333333</td>\n",
       "      <td>35.525421</td>\n",
       "    </tr>\n",
       "    <tr>\n",
       "      <th>147</th>\n",
       "      <td>2023-03-01</td>\n",
       "      <td>7.0</td>\n",
       "      <td>13.0</td>\n",
       "      <td>11.0</td>\n",
       "      <td>20.0</td>\n",
       "      <td>7.0</td>\n",
       "      <td>9.0</td>\n",
       "      <td>8.0</td>\n",
       "      <td>9.0</td>\n",
       "      <td>8.0</td>\n",
       "      <td>...</td>\n",
       "      <td>7.0</td>\n",
       "      <td>12.0</td>\n",
       "      <td>1.0</td>\n",
       "      <td>13.0</td>\n",
       "      <td>9.0</td>\n",
       "      <td>4.0</td>\n",
       "      <td>7.0</td>\n",
       "      <td>218.0</td>\n",
       "      <td>18.166667</td>\n",
       "      <td>41.876472</td>\n",
       "    </tr>\n",
       "  </tbody>\n",
       "</table>\n",
       "<p>148 rows × 27 columns</p>\n",
       "</div>"
      ],
      "text/plain": [
       "WD22NM         ds  Barnet Vale  Brunswick Park  Burnt Oak  Childs Hill  \\\n",
       "0      2010-12-01         13.0            13.0       10.0         20.0   \n",
       "1      2011-01-01         23.0            15.0       14.0         41.0   \n",
       "2      2011-02-01         20.0            22.0       10.0         24.0   \n",
       "3      2011-03-01         15.0            13.0        6.0         33.0   \n",
       "4      2011-04-01         25.0            15.0       16.0         37.0   \n",
       "..            ...          ...             ...        ...          ...   \n",
       "143    2022-11-01          5.0             4.0       11.0         32.0   \n",
       "144    2022-12-01          9.0             5.0       13.0         21.0   \n",
       "145    2023-01-01          5.0             7.0       11.0         21.0   \n",
       "146    2023-02-01          2.0            14.0        4.0         21.0   \n",
       "147    2023-03-01          7.0            13.0       11.0         20.0   \n",
       "\n",
       "WD22NM  Colindale North  Cricklewood  East Barnet  East Finchley  Edgware  \\\n",
       "0                   7.0         11.0         16.0           18.0     20.0   \n",
       "1                   5.0         13.0         20.0           19.0     12.0   \n",
       "2                   5.0         20.0         12.0           13.0     13.0   \n",
       "3                   8.0         25.0         13.0           14.0      4.0   \n",
       "4                   6.0         28.0         15.0            8.0      9.0   \n",
       "..                  ...          ...          ...            ...      ...   \n",
       "143                 5.0         15.0          5.0            3.0      8.0   \n",
       "144                 6.0         13.0         11.0            6.0     10.0   \n",
       "145                 5.0         13.0          9.0            5.0     10.0   \n",
       "146                 3.0         15.0          5.0            5.0     11.0   \n",
       "147                 7.0          9.0          8.0            9.0      8.0   \n",
       "\n",
       "WD22NM  ...  Mill Hill  Totteridge & Woodside  Underhill  West Finchley  \\\n",
       "0       ...       25.0                   10.0        8.0           27.0   \n",
       "1       ...       30.0                   17.0       15.0           30.0   \n",
       "2       ...       18.0                   13.0        5.0           23.0   \n",
       "3       ...       23.0                    8.0       22.0           22.0   \n",
       "4       ...       15.0                   16.0       18.0           23.0   \n",
       "..      ...        ...                    ...        ...            ...   \n",
       "143     ...        7.0                   13.0        5.0           16.0   \n",
       "144     ...       13.0                   15.0        3.0            9.0   \n",
       "145     ...       10.0                   15.0        5.0           17.0   \n",
       "146     ...       12.0                   12.0        2.0            5.0   \n",
       "147     ...        7.0                   12.0        1.0           13.0   \n",
       "\n",
       "WD22NM  West Hendon  Whetstone  Woodhouse  Total       Mean        Std  \n",
       "0              16.0        9.0       10.0  363.0  30.250000  69.673793  \n",
       "1              19.0       14.0       21.0  476.0  39.666667  91.288310  \n",
       "2              22.0       15.0       17.0  395.0  32.916667  75.737990  \n",
       "3              12.0       17.0        6.0  399.0  33.250000  76.768727  \n",
       "4              15.0       17.0       11.0  403.0  33.583333  77.392354  \n",
       "..              ...        ...        ...    ...        ...        ...  \n",
       "143            11.0       11.0       15.0  234.0  19.500000  45.137752  \n",
       "144             9.0       10.0        7.0  211.0  18.347826  41.287548  \n",
       "145            11.0        NaN        4.0  223.0  19.391304  43.648536  \n",
       "146            10.0        3.0        6.0  184.0  15.333333  35.525421  \n",
       "147             9.0        4.0        7.0  218.0  18.166667  41.876472  \n",
       "\n",
       "[148 rows x 27 columns]"
      ]
     },
     "execution_count": 118,
     "metadata": {},
     "output_type": "execute_result"
    }
   ],
   "source": [
    "allW = barnet[['Month', 'WD22NM', 'Burglaries']]\n",
    "allW = allW.drop_duplicates()\n",
    "\n",
    "# Group the data by ward and aggregate the number of burglaries\n",
    "allW = allW.groupby(['Month', 'WD22NM']).sum().reset_index()\n",
    "\n",
    "# Create a new dataframe with the dates and aggregated number of burglaries per ward\n",
    "ward_data = allW.pivot(index='Month', columns='WD22NM', values='Burglaries')\n",
    "ward_data = ward_data.reset_index()\n",
    "\n",
    "\n",
    "# Rename columns to match Prophet's requirements\n",
    "ward_data.rename(columns={'Month': 'ds'}, inplace=True)\n",
    "wd2 = ward_data.copy()\n",
    "# Create a column for the total number of burglaries across all wards\n",
    "wd2['Total'] = wd2.drop('ds', axis=1).sum(axis=1)\n",
    "wd2['Mean'] = wd2.drop('ds', axis=1).mean(axis=1)\n",
    "wd2['Std'] = wd2.drop('ds', axis=1).std(axis=1)\n",
    "# Set 'Date' column as the index\n",
    "ward_data.set_index('ds', inplace=True)\n",
    "\n",
    "# Linear interpolation to impute missing values or extend existing data\n",
    "df_interpolated = ward_data.interpolate(method='linear')\n",
    "\n",
    "# Reset index to restore the 'Date' column\n",
    "df_interpolated.reset_index(inplace=True)\n",
    "\n",
    "# Print the imputed dataframe\n",
    "# df_interpolated\n",
    "total = wd2[['ds','Total']].rename(columns={'Total': 'y'})\n",
    "mean = wd2[['ds','Mean']].rename(columns={'Mean': 'y'})\n",
    "std = wd2[['ds','Std']].rename(columns={'Std': 'y'})\n",
    "wd2"
   ]
  },
  {
   "attachments": {},
   "cell_type": "markdown",
   "metadata": {},
   "source": [
    "# Model for all of barnet burglaries"
   ]
  },
  {
   "cell_type": "code",
   "execution_count": 123,
   "metadata": {},
   "outputs": [],
   "source": [
    "# Define the start and end dates\n",
    "start_date = '2010-12-01'\n",
    "end_date = '2024-03-01'\n",
    "\n",
    "# Generate the date range with frequency set to 'MS' (Month Start)\n",
    "date_range = pd.date_range(start=start_date, end=end_date, freq='MS')"
   ]
  },
  {
   "cell_type": "code",
   "execution_count": 114,
   "metadata": {},
   "outputs": [
    {
     "name": "stderr",
     "output_type": "stream",
     "text": [
      "14:41:35 - cmdstanpy - INFO - Chain [1] start processing\n",
      "14:41:36 - cmdstanpy - INFO - Chain [1] done processing\n",
      "14:41:36 - cmdstanpy - INFO - Chain [1] start processing\n",
      "14:41:36 - cmdstanpy - INFO - Chain [1] done processing\n",
      "14:41:36 - cmdstanpy - INFO - Chain [1] start processing\n",
      "14:41:36 - cmdstanpy - INFO - Chain [1] done processing\n"
     ]
    }
   ],
   "source": [
    "m1 = Prophet(interval_width=0.95, seasonality_mode='additive',yearly_seasonality=True, weekly_seasonality=False, daily_seasonality=False, changepoint_prior_scale=0.2)\n",
    "m2 = Prophet(interval_width=0.95, seasonality_mode='additive',yearly_seasonality=True, weekly_seasonality=False, daily_seasonality=False, changepoint_prior_scale=0.05)\n",
    "m3 = Prophet(interval_width=0.95, seasonality_mode='additive',yearly_seasonality=True, weekly_seasonality=False, daily_seasonality=False, changepoint_prior_scale=0.1)\n",
    "\n",
    "model1 = m1.fit(total)\n",
    "model2 = m2.fit(mean)\n",
    "model3 = m3.fit(std)"
   ]
  },
  {
   "cell_type": "code",
   "execution_count": 124,
   "metadata": {},
   "outputs": [
    {
     "data": {
      "text/html": [
       "<div>\n",
       "<style scoped>\n",
       "    .dataframe tbody tr th:only-of-type {\n",
       "        vertical-align: middle;\n",
       "    }\n",
       "\n",
       "    .dataframe tbody tr th {\n",
       "        vertical-align: top;\n",
       "    }\n",
       "\n",
       "    .dataframe thead th {\n",
       "        text-align: right;\n",
       "    }\n",
       "</style>\n",
       "<table border=\"1\" class=\"dataframe\">\n",
       "  <thead>\n",
       "    <tr style=\"text-align: right;\">\n",
       "      <th></th>\n",
       "      <th>ds</th>\n",
       "      <th>Total</th>\n",
       "      <th>Mean</th>\n",
       "      <th>Std</th>\n",
       "    </tr>\n",
       "  </thead>\n",
       "  <tbody>\n",
       "    <tr>\n",
       "      <th>0</th>\n",
       "      <td>2010-12-01</td>\n",
       "      <td>436.408195</td>\n",
       "      <td>35.217555</td>\n",
       "      <td>83.266714</td>\n",
       "    </tr>\n",
       "    <tr>\n",
       "      <th>1</th>\n",
       "      <td>2011-01-01</td>\n",
       "      <td>446.500136</td>\n",
       "      <td>36.012577</td>\n",
       "      <td>85.105225</td>\n",
       "    </tr>\n",
       "    <tr>\n",
       "      <th>2</th>\n",
       "      <td>2011-02-01</td>\n",
       "      <td>413.270692</td>\n",
       "      <td>33.271713</td>\n",
       "      <td>78.807473</td>\n",
       "    </tr>\n",
       "    <tr>\n",
       "      <th>3</th>\n",
       "      <td>2011-03-01</td>\n",
       "      <td>409.604412</td>\n",
       "      <td>32.571956</td>\n",
       "      <td>78.181302</td>\n",
       "    </tr>\n",
       "    <tr>\n",
       "      <th>4</th>\n",
       "      <td>2011-04-01</td>\n",
       "      <td>387.456078</td>\n",
       "      <td>31.158444</td>\n",
       "      <td>73.560399</td>\n",
       "    </tr>\n",
       "    <tr>\n",
       "      <th>...</th>\n",
       "      <td>...</td>\n",
       "      <td>...</td>\n",
       "      <td>...</td>\n",
       "      <td>...</td>\n",
       "    </tr>\n",
       "    <tr>\n",
       "      <th>155</th>\n",
       "      <td>2023-11-01</td>\n",
       "      <td>196.229095</td>\n",
       "      <td>17.125433</td>\n",
       "      <td>37.776019</td>\n",
       "    </tr>\n",
       "    <tr>\n",
       "      <th>156</th>\n",
       "      <td>2023-12-01</td>\n",
       "      <td>220.691371</td>\n",
       "      <td>20.331877</td>\n",
       "      <td>42.297910</td>\n",
       "    </tr>\n",
       "    <tr>\n",
       "      <th>157</th>\n",
       "      <td>2024-01-01</td>\n",
       "      <td>200.105504</td>\n",
       "      <td>18.458264</td>\n",
       "      <td>38.411737</td>\n",
       "    </tr>\n",
       "    <tr>\n",
       "      <th>158</th>\n",
       "      <td>2024-02-01</td>\n",
       "      <td>145.988180</td>\n",
       "      <td>14.418726</td>\n",
       "      <td>28.904290</td>\n",
       "    </tr>\n",
       "    <tr>\n",
       "      <th>159</th>\n",
       "      <td>2024-03-01</td>\n",
       "      <td>135.265372</td>\n",
       "      <td>12.080826</td>\n",
       "      <td>26.292800</td>\n",
       "    </tr>\n",
       "  </tbody>\n",
       "</table>\n",
       "<p>160 rows × 4 columns</p>\n",
       "</div>"
      ],
      "text/plain": [
       "            ds       Total       Mean        Std\n",
       "0   2010-12-01  436.408195  35.217555  83.266714\n",
       "1   2011-01-01  446.500136  36.012577  85.105225\n",
       "2   2011-02-01  413.270692  33.271713  78.807473\n",
       "3   2011-03-01  409.604412  32.571956  78.181302\n",
       "4   2011-04-01  387.456078  31.158444  73.560399\n",
       "..         ...         ...        ...        ...\n",
       "155 2023-11-01  196.229095  17.125433  37.776019\n",
       "156 2023-12-01  220.691371  20.331877  42.297910\n",
       "157 2024-01-01  200.105504  18.458264  38.411737\n",
       "158 2024-02-01  145.988180  14.418726  28.904290\n",
       "159 2024-03-01  135.265372  12.080826  26.292800\n",
       "\n",
       "[160 rows x 4 columns]"
      ]
     },
     "execution_count": 124,
     "metadata": {},
     "output_type": "execute_result"
    }
   ],
   "source": [
    "# Make predictions for each ward\n",
    "future1 = m1.make_future_dataframe(periods=12, freq='M')\n",
    "future2 = m2.make_future_dataframe(periods=12, freq='M')\n",
    "future3 = m3.make_future_dataframe(periods=12, freq='M')\n",
    "forecast1 = m1.predict(future1)\n",
    "forecast2 = m2.predict(future2)\n",
    "forecast3 = m3.predict(future3)\n",
    "forecast1.set_index('ds', inplace=True)\n",
    "forecast2.set_index('ds', inplace=True)\n",
    "forecast3.set_index('ds', inplace=True)\n",
    "\n",
    "regressors = pd.DataFrame()\n",
    "regressors['Total'] = forecast1[['yhat']]\n",
    "regressors['Mean'] = forecast2[['yhat']]\n",
    "regressors['Std'] = forecast3[['yhat']]\n",
    "regressors = regressors.reset_index()\n",
    "regressors['ds'] = date_range\n",
    "regressors"
   ]
  },
  {
   "attachments": {},
   "cell_type": "markdown",
   "metadata": {},
   "source": [
    "# Model for per ward"
   ]
  },
  {
   "cell_type": "code",
   "execution_count": 99,
   "metadata": {},
   "outputs": [
    {
     "name": "stderr",
     "output_type": "stream",
     "text": [
      "14:28:22 - cmdstanpy - INFO - Chain [1] start processing\n",
      "14:28:22 - cmdstanpy - INFO - Chain [1] done processing\n",
      "14:28:22 - cmdstanpy - INFO - Chain [1] start processing\n",
      "14:28:22 - cmdstanpy - INFO - Chain [1] done processing\n",
      "14:28:22 - cmdstanpy - INFO - Chain [1] start processing\n",
      "14:28:22 - cmdstanpy - INFO - Chain [1] done processing\n",
      "14:28:22 - cmdstanpy - INFO - Chain [1] start processing\n",
      "14:28:23 - cmdstanpy - INFO - Chain [1] done processing\n",
      "14:28:23 - cmdstanpy - INFO - Chain [1] start processing\n",
      "14:28:23 - cmdstanpy - INFO - Chain [1] done processing\n",
      "14:28:23 - cmdstanpy - INFO - Chain [1] start processing\n",
      "14:28:23 - cmdstanpy - INFO - Chain [1] done processing\n",
      "14:28:23 - cmdstanpy - INFO - Chain [1] start processing\n",
      "14:28:23 - cmdstanpy - INFO - Chain [1] done processing\n",
      "14:28:23 - cmdstanpy - INFO - Chain [1] start processing\n",
      "14:28:24 - cmdstanpy - INFO - Chain [1] done processing\n",
      "14:28:24 - cmdstanpy - INFO - Chain [1] start processing\n",
      "14:28:24 - cmdstanpy - INFO - Chain [1] done processing\n",
      "14:28:24 - cmdstanpy - INFO - Chain [1] start processing\n",
      "14:28:24 - cmdstanpy - INFO - Chain [1] done processing\n",
      "14:28:24 - cmdstanpy - INFO - Chain [1] start processing\n",
      "14:28:24 - cmdstanpy - INFO - Chain [1] done processing\n",
      "14:28:25 - cmdstanpy - INFO - Chain [1] start processing\n",
      "14:28:25 - cmdstanpy - INFO - Chain [1] done processing\n",
      "14:28:25 - cmdstanpy - INFO - Chain [1] start processing\n",
      "14:28:25 - cmdstanpy - INFO - Chain [1] done processing\n",
      "14:28:25 - cmdstanpy - INFO - Chain [1] start processing\n",
      "14:28:25 - cmdstanpy - INFO - Chain [1] done processing\n",
      "14:28:25 - cmdstanpy - INFO - Chain [1] start processing\n",
      "14:28:25 - cmdstanpy - INFO - Chain [1] done processing\n",
      "14:28:26 - cmdstanpy - INFO - Chain [1] start processing\n",
      "14:28:26 - cmdstanpy - INFO - Chain [1] done processing\n",
      "14:28:26 - cmdstanpy - INFO - Chain [1] start processing\n",
      "14:28:26 - cmdstanpy - INFO - Chain [1] done processing\n",
      "14:28:26 - cmdstanpy - INFO - Chain [1] start processing\n",
      "14:28:26 - cmdstanpy - INFO - Chain [1] done processing\n",
      "14:28:26 - cmdstanpy - INFO - Chain [1] start processing\n",
      "14:28:27 - cmdstanpy - INFO - Chain [1] done processing\n",
      "14:28:27 - cmdstanpy - INFO - Chain [1] start processing\n",
      "14:28:27 - cmdstanpy - INFO - Chain [1] done processing\n",
      "14:28:27 - cmdstanpy - INFO - Chain [1] start processing\n",
      "14:28:27 - cmdstanpy - INFO - Chain [1] done processing\n",
      "14:28:27 - cmdstanpy - INFO - Chain [1] start processing\n",
      "14:28:27 - cmdstanpy - INFO - Chain [1] done processing\n",
      "14:28:28 - cmdstanpy - INFO - Chain [1] start processing\n",
      "14:28:28 - cmdstanpy - INFO - Chain [1] done processing\n"
     ]
    }
   ],
   "source": [
    "# Initialize a dictionary to store the forecasts per ward\n",
    "ward_forecasts = {}\n",
    "# Iterate over each ward\n",
    "for ward in df_interpolated.columns[1:]:\n",
    "    # Create a new dataframe for the current ward\n",
    "    ward_df = df_interpolated[['ds', ward]].rename(columns={ward: 'y'})\n",
    "    m4 = Prophet(interval_width=0.95, seasonality_mode='additive',yearly_seasonality=True, \n",
    "                 weekly_seasonality=False, daily_seasonality=False, changepoint_prior_scale=0.2, seasonality_prior_scale=7.0,)\n",
    "    \n",
    "    m4.fit(ward_df)\n",
    "    # Make future predictions for the current ward\n",
    "    future = m4.make_future_dataframe(periods=12, freq='M')\n",
    "    \n",
    "\n",
    "    forecast = m4.predict(future)\n",
    "\n",
    "    # forecast.set_index('ds', inplace=True)\n",
    "\n",
    "    # Store the forecast for the current ward in the dictionary\n",
    "    # ward_forecasts[ward] = forecast[['ds', 'yhat', 'yhat_lower', 'yhat_upper']]\n",
    "    ward_forecasts[ward] = forecast\n",
    "\n"
   ]
  },
  {
   "cell_type": "code",
   "execution_count": 100,
   "metadata": {},
   "outputs": [
    {
     "data": {
      "text/html": [
       "<div>\n",
       "<style scoped>\n",
       "    .dataframe tbody tr th:only-of-type {\n",
       "        vertical-align: middle;\n",
       "    }\n",
       "\n",
       "    .dataframe tbody tr th {\n",
       "        vertical-align: top;\n",
       "    }\n",
       "\n",
       "    .dataframe thead th {\n",
       "        text-align: right;\n",
       "    }\n",
       "</style>\n",
       "<table border=\"1\" class=\"dataframe\">\n",
       "  <thead>\n",
       "    <tr style=\"text-align: right;\">\n",
       "      <th></th>\n",
       "      <th>ds</th>\n",
       "      <th>trend</th>\n",
       "      <th>yhat_lower</th>\n",
       "      <th>yhat_upper</th>\n",
       "      <th>trend_lower</th>\n",
       "      <th>trend_upper</th>\n",
       "      <th>additive_terms</th>\n",
       "      <th>additive_terms_lower</th>\n",
       "      <th>additive_terms_upper</th>\n",
       "      <th>yearly</th>\n",
       "      <th>yearly_lower</th>\n",
       "      <th>yearly_upper</th>\n",
       "      <th>multiplicative_terms</th>\n",
       "      <th>multiplicative_terms_lower</th>\n",
       "      <th>multiplicative_terms_upper</th>\n",
       "      <th>yhat</th>\n",
       "    </tr>\n",
       "  </thead>\n",
       "  <tbody>\n",
       "    <tr>\n",
       "      <th>0</th>\n",
       "      <td>2010-12-01</td>\n",
       "      <td>19.587925</td>\n",
       "      <td>14.182426</td>\n",
       "      <td>33.219248</td>\n",
       "      <td>19.587925</td>\n",
       "      <td>19.587925</td>\n",
       "      <td>4.261620</td>\n",
       "      <td>4.261620</td>\n",
       "      <td>4.261620</td>\n",
       "      <td>4.261620</td>\n",
       "      <td>4.261620</td>\n",
       "      <td>4.261620</td>\n",
       "      <td>0.0</td>\n",
       "      <td>0.0</td>\n",
       "      <td>0.0</td>\n",
       "      <td>23.849545</td>\n",
       "    </tr>\n",
       "    <tr>\n",
       "      <th>1</th>\n",
       "      <td>2011-01-01</td>\n",
       "      <td>19.496808</td>\n",
       "      <td>11.405733</td>\n",
       "      <td>30.049519</td>\n",
       "      <td>19.496808</td>\n",
       "      <td>19.496808</td>\n",
       "      <td>1.488042</td>\n",
       "      <td>1.488042</td>\n",
       "      <td>1.488042</td>\n",
       "      <td>1.488042</td>\n",
       "      <td>1.488042</td>\n",
       "      <td>1.488042</td>\n",
       "      <td>0.0</td>\n",
       "      <td>0.0</td>\n",
       "      <td>0.0</td>\n",
       "      <td>20.984850</td>\n",
       "    </tr>\n",
       "    <tr>\n",
       "      <th>2</th>\n",
       "      <td>2011-02-01</td>\n",
       "      <td>19.405690</td>\n",
       "      <td>9.847246</td>\n",
       "      <td>28.756528</td>\n",
       "      <td>19.405690</td>\n",
       "      <td>19.405690</td>\n",
       "      <td>-0.162080</td>\n",
       "      <td>-0.162080</td>\n",
       "      <td>-0.162080</td>\n",
       "      <td>-0.162080</td>\n",
       "      <td>-0.162080</td>\n",
       "      <td>-0.162080</td>\n",
       "      <td>0.0</td>\n",
       "      <td>0.0</td>\n",
       "      <td>0.0</td>\n",
       "      <td>19.243610</td>\n",
       "    </tr>\n",
       "    <tr>\n",
       "      <th>3</th>\n",
       "      <td>2011-03-01</td>\n",
       "      <td>19.323390</td>\n",
       "      <td>9.516180</td>\n",
       "      <td>28.059442</td>\n",
       "      <td>19.323390</td>\n",
       "      <td>19.323390</td>\n",
       "      <td>-0.462317</td>\n",
       "      <td>-0.462317</td>\n",
       "      <td>-0.462317</td>\n",
       "      <td>-0.462317</td>\n",
       "      <td>-0.462317</td>\n",
       "      <td>-0.462317</td>\n",
       "      <td>0.0</td>\n",
       "      <td>0.0</td>\n",
       "      <td>0.0</td>\n",
       "      <td>18.861074</td>\n",
       "    </tr>\n",
       "    <tr>\n",
       "      <th>4</th>\n",
       "      <td>2011-04-01</td>\n",
       "      <td>19.232273</td>\n",
       "      <td>8.133299</td>\n",
       "      <td>26.615110</td>\n",
       "      <td>19.232273</td>\n",
       "      <td>19.232273</td>\n",
       "      <td>-2.307112</td>\n",
       "      <td>-2.307112</td>\n",
       "      <td>-2.307112</td>\n",
       "      <td>-2.307112</td>\n",
       "      <td>-2.307112</td>\n",
       "      <td>-2.307112</td>\n",
       "      <td>0.0</td>\n",
       "      <td>0.0</td>\n",
       "      <td>0.0</td>\n",
       "      <td>16.925161</td>\n",
       "    </tr>\n",
       "    <tr>\n",
       "      <th>...</th>\n",
       "      <td>...</td>\n",
       "      <td>...</td>\n",
       "      <td>...</td>\n",
       "      <td>...</td>\n",
       "      <td>...</td>\n",
       "      <td>...</td>\n",
       "      <td>...</td>\n",
       "      <td>...</td>\n",
       "      <td>...</td>\n",
       "      <td>...</td>\n",
       "      <td>...</td>\n",
       "      <td>...</td>\n",
       "      <td>...</td>\n",
       "      <td>...</td>\n",
       "      <td>...</td>\n",
       "      <td>...</td>\n",
       "    </tr>\n",
       "    <tr>\n",
       "      <th>155</th>\n",
       "      <td>2023-10-31</td>\n",
       "      <td>3.844583</td>\n",
       "      <td>1.295827</td>\n",
       "      <td>19.038352</td>\n",
       "      <td>3.820910</td>\n",
       "      <td>3.866517</td>\n",
       "      <td>6.153903</td>\n",
       "      <td>6.153903</td>\n",
       "      <td>6.153903</td>\n",
       "      <td>6.153903</td>\n",
       "      <td>6.153903</td>\n",
       "      <td>6.153903</td>\n",
       "      <td>0.0</td>\n",
       "      <td>0.0</td>\n",
       "      <td>0.0</td>\n",
       "      <td>9.998485</td>\n",
       "    </tr>\n",
       "    <tr>\n",
       "      <th>156</th>\n",
       "      <td>2023-11-30</td>\n",
       "      <td>3.719993</td>\n",
       "      <td>-5.160217</td>\n",
       "      <td>13.915877</td>\n",
       "      <td>3.692059</td>\n",
       "      <td>3.746798</td>\n",
       "      <td>0.557585</td>\n",
       "      <td>0.557585</td>\n",
       "      <td>0.557585</td>\n",
       "      <td>0.557585</td>\n",
       "      <td>0.557585</td>\n",
       "      <td>0.557585</td>\n",
       "      <td>0.0</td>\n",
       "      <td>0.0</td>\n",
       "      <td>0.0</td>\n",
       "      <td>4.277578</td>\n",
       "    </tr>\n",
       "    <tr>\n",
       "      <th>157</th>\n",
       "      <td>2023-12-31</td>\n",
       "      <td>3.591250</td>\n",
       "      <td>-5.064846</td>\n",
       "      <td>13.515561</td>\n",
       "      <td>3.557432</td>\n",
       "      <td>3.622200</td>\n",
       "      <td>1.090427</td>\n",
       "      <td>1.090427</td>\n",
       "      <td>1.090427</td>\n",
       "      <td>1.090427</td>\n",
       "      <td>1.090427</td>\n",
       "      <td>1.090427</td>\n",
       "      <td>0.0</td>\n",
       "      <td>0.0</td>\n",
       "      <td>0.0</td>\n",
       "      <td>4.681677</td>\n",
       "    </tr>\n",
       "    <tr>\n",
       "      <th>158</th>\n",
       "      <td>2024-01-31</td>\n",
       "      <td>3.462508</td>\n",
       "      <td>-7.360389</td>\n",
       "      <td>11.651290</td>\n",
       "      <td>3.422221</td>\n",
       "      <td>3.498228</td>\n",
       "      <td>-1.216769</td>\n",
       "      <td>-1.216769</td>\n",
       "      <td>-1.216769</td>\n",
       "      <td>-1.216769</td>\n",
       "      <td>-1.216769</td>\n",
       "      <td>-1.216769</td>\n",
       "      <td>0.0</td>\n",
       "      <td>0.0</td>\n",
       "      <td>0.0</td>\n",
       "      <td>2.245739</td>\n",
       "    </tr>\n",
       "    <tr>\n",
       "      <th>159</th>\n",
       "      <td>2024-02-29</td>\n",
       "      <td>3.342071</td>\n",
       "      <td>-6.898096</td>\n",
       "      <td>11.686704</td>\n",
       "      <td>3.295042</td>\n",
       "      <td>3.381995</td>\n",
       "      <td>-1.005433</td>\n",
       "      <td>-1.005433</td>\n",
       "      <td>-1.005433</td>\n",
       "      <td>-1.005433</td>\n",
       "      <td>-1.005433</td>\n",
       "      <td>-1.005433</td>\n",
       "      <td>0.0</td>\n",
       "      <td>0.0</td>\n",
       "      <td>0.0</td>\n",
       "      <td>2.336638</td>\n",
       "    </tr>\n",
       "  </tbody>\n",
       "</table>\n",
       "<p>160 rows × 16 columns</p>\n",
       "</div>"
      ],
      "text/plain": [
       "            ds      trend  yhat_lower  yhat_upper  trend_lower  trend_upper  \\\n",
       "0   2010-12-01  19.587925   14.182426   33.219248    19.587925    19.587925   \n",
       "1   2011-01-01  19.496808   11.405733   30.049519    19.496808    19.496808   \n",
       "2   2011-02-01  19.405690    9.847246   28.756528    19.405690    19.405690   \n",
       "3   2011-03-01  19.323390    9.516180   28.059442    19.323390    19.323390   \n",
       "4   2011-04-01  19.232273    8.133299   26.615110    19.232273    19.232273   \n",
       "..         ...        ...         ...         ...          ...          ...   \n",
       "155 2023-10-31   3.844583    1.295827   19.038352     3.820910     3.866517   \n",
       "156 2023-11-30   3.719993   -5.160217   13.915877     3.692059     3.746798   \n",
       "157 2023-12-31   3.591250   -5.064846   13.515561     3.557432     3.622200   \n",
       "158 2024-01-31   3.462508   -7.360389   11.651290     3.422221     3.498228   \n",
       "159 2024-02-29   3.342071   -6.898096   11.686704     3.295042     3.381995   \n",
       "\n",
       "     additive_terms  additive_terms_lower  additive_terms_upper    yearly  \\\n",
       "0          4.261620              4.261620              4.261620  4.261620   \n",
       "1          1.488042              1.488042              1.488042  1.488042   \n",
       "2         -0.162080             -0.162080             -0.162080 -0.162080   \n",
       "3         -0.462317             -0.462317             -0.462317 -0.462317   \n",
       "4         -2.307112             -2.307112             -2.307112 -2.307112   \n",
       "..              ...                   ...                   ...       ...   \n",
       "155        6.153903              6.153903              6.153903  6.153903   \n",
       "156        0.557585              0.557585              0.557585  0.557585   \n",
       "157        1.090427              1.090427              1.090427  1.090427   \n",
       "158       -1.216769             -1.216769             -1.216769 -1.216769   \n",
       "159       -1.005433             -1.005433             -1.005433 -1.005433   \n",
       "\n",
       "     yearly_lower  yearly_upper  multiplicative_terms  \\\n",
       "0        4.261620      4.261620                   0.0   \n",
       "1        1.488042      1.488042                   0.0   \n",
       "2       -0.162080     -0.162080                   0.0   \n",
       "3       -0.462317     -0.462317                   0.0   \n",
       "4       -2.307112     -2.307112                   0.0   \n",
       "..            ...           ...                   ...   \n",
       "155      6.153903      6.153903                   0.0   \n",
       "156      0.557585      0.557585                   0.0   \n",
       "157      1.090427      1.090427                   0.0   \n",
       "158     -1.216769     -1.216769                   0.0   \n",
       "159     -1.005433     -1.005433                   0.0   \n",
       "\n",
       "     multiplicative_terms_lower  multiplicative_terms_upper       yhat  \n",
       "0                           0.0                         0.0  23.849545  \n",
       "1                           0.0                         0.0  20.984850  \n",
       "2                           0.0                         0.0  19.243610  \n",
       "3                           0.0                         0.0  18.861074  \n",
       "4                           0.0                         0.0  16.925161  \n",
       "..                          ...                         ...        ...  \n",
       "155                         0.0                         0.0   9.998485  \n",
       "156                         0.0                         0.0   4.277578  \n",
       "157                         0.0                         0.0   4.681677  \n",
       "158                         0.0                         0.0   2.245739  \n",
       "159                         0.0                         0.0   2.336638  \n",
       "\n",
       "[160 rows x 16 columns]"
      ]
     },
     "execution_count": 100,
     "metadata": {},
     "output_type": "execute_result"
    }
   ],
   "source": [
    "# Access the forecast for a specific ward\n",
    "specific_ward_forecast = ward_forecasts['Barnet Vale']\n",
    "# Print the forecast for a specific ward\n",
    "specific_ward_forecast\n"
   ]
  },
  {
   "cell_type": "code",
   "execution_count": 101,
   "metadata": {},
   "outputs": [],
   "source": [
    "# Define the start and end dates\n",
    "start_date = '2010-12-01'\n",
    "end_date = '2024-03-01'\n",
    "\n",
    "# Generate the date range with frequency set to 'MS' (Month Start)\n",
    "date_range = pd.date_range(start=start_date, end=end_date, freq='MS')\n"
   ]
  },
  {
   "cell_type": "code",
   "execution_count": 127,
   "metadata": {},
   "outputs": [],
   "source": [
    "import math\n",
    "forecastedW = {}\n",
    "\n",
    "for ward in ward_forecasts:\n",
    "    \n",
    "    # Get the last two forecasted values for the ward\n",
    "    # values = ward_forecasts[ward]['yhat'].iloc[-2:].values.tolist()\n",
    "    values = ward_forecasts[ward]['yhat'].values.tolist()\n",
    "    # Get the absolute values of the 'values' list\n",
    "    abs_values = [math.ceil(abs(value)) for value in values]\n",
    "        \n",
    "    # Append the ward and its values to the dictionary\n",
    "    forecastedW[ward] = abs_values\n",
    "\n",
    "new_df = pd.DataFrame(forecastedW)\n",
    "# new_df['Dates'] = ['2023-04-01', '2023-05-01']\n",
    "new_df['Dates'] = date_range\n",
    "new_df = new_df.set_index(['Dates'])\n",
    "\n",
    "# Save to a CSV file\n",
    "# new_df.to_csv(r\"C:\\Users\\izzfa\\Documents\\Data Science\\Year 2\\Y2Q4\\DC2\\Forecast.csv\")\n",
    "\n"
   ]
  },
  {
   "cell_type": "code",
   "execution_count": 91,
   "metadata": {},
   "outputs": [
    {
     "data": {
      "application/vnd.plotly.v1+json": {
       "config": {
        "plotlyServerURL": "https://plot.ly"
       },
       "data": [
        {
         "name": "2023-04-01",
         "type": "bar",
         "x": [
          "Barnet Vale",
          "Brunswick Park",
          "Burnt Oak",
          "Childs Hill",
          "Colindale North",
          "Cricklewood",
          "East Barnet",
          "East Finchley",
          "Edgware",
          "Edgwarebury",
          "Finchley Church End",
          "Friern Barnet",
          "Garden Suburb",
          "Golders Green",
          "Hendon",
          "High Barnet",
          "Mill Hill",
          "Totteridge & Woodside",
          "Underhill",
          "West Finchley",
          "West Hendon",
          "Whetstone",
          "Woodhouse"
         ],
         "y": [
          6,
          1,
          13,
          18,
          5,
          14,
          8,
          2,
          8,
          3,
          17,
          6,
          7,
          12,
          24,
          18,
          10,
          15,
          1,
          11,
          5,
          4,
          9
         ]
        },
        {
         "name": "2023-05-01",
         "type": "bar",
         "x": [
          "Barnet Vale",
          "Brunswick Park",
          "Burnt Oak",
          "Childs Hill",
          "Colindale North",
          "Cricklewood",
          "East Barnet",
          "East Finchley",
          "Edgware",
          "Edgwarebury",
          "Finchley Church End",
          "Friern Barnet",
          "Garden Suburb",
          "Golders Green",
          "Hendon",
          "High Barnet",
          "Mill Hill",
          "Totteridge & Woodside",
          "Underhill",
          "West Finchley",
          "West Hendon",
          "Whetstone",
          "Woodhouse"
         ],
         "y": [
          13,
          10,
          12,
          25,
          5,
          4,
          5,
          15,
          8,
          11,
          11,
          11,
          4,
          1,
          8,
          16,
          12,
          9,
          5,
          1,
          11,
          11,
          7
         ]
        }
       ],
       "layout": {
        "barmode": "group",
        "template": {
         "data": {
          "bar": [
           {
            "error_x": {
             "color": "#2a3f5f"
            },
            "error_y": {
             "color": "#2a3f5f"
            },
            "marker": {
             "line": {
              "color": "#E5ECF6",
              "width": 0.5
             },
             "pattern": {
              "fillmode": "overlay",
              "size": 10,
              "solidity": 0.2
             }
            },
            "type": "bar"
           }
          ],
          "barpolar": [
           {
            "marker": {
             "line": {
              "color": "#E5ECF6",
              "width": 0.5
             },
             "pattern": {
              "fillmode": "overlay",
              "size": 10,
              "solidity": 0.2
             }
            },
            "type": "barpolar"
           }
          ],
          "carpet": [
           {
            "aaxis": {
             "endlinecolor": "#2a3f5f",
             "gridcolor": "white",
             "linecolor": "white",
             "minorgridcolor": "white",
             "startlinecolor": "#2a3f5f"
            },
            "baxis": {
             "endlinecolor": "#2a3f5f",
             "gridcolor": "white",
             "linecolor": "white",
             "minorgridcolor": "white",
             "startlinecolor": "#2a3f5f"
            },
            "type": "carpet"
           }
          ],
          "choropleth": [
           {
            "colorbar": {
             "outlinewidth": 0,
             "ticks": ""
            },
            "type": "choropleth"
           }
          ],
          "contour": [
           {
            "colorbar": {
             "outlinewidth": 0,
             "ticks": ""
            },
            "colorscale": [
             [
              0,
              "#0d0887"
             ],
             [
              0.1111111111111111,
              "#46039f"
             ],
             [
              0.2222222222222222,
              "#7201a8"
             ],
             [
              0.3333333333333333,
              "#9c179e"
             ],
             [
              0.4444444444444444,
              "#bd3786"
             ],
             [
              0.5555555555555556,
              "#d8576b"
             ],
             [
              0.6666666666666666,
              "#ed7953"
             ],
             [
              0.7777777777777778,
              "#fb9f3a"
             ],
             [
              0.8888888888888888,
              "#fdca26"
             ],
             [
              1,
              "#f0f921"
             ]
            ],
            "type": "contour"
           }
          ],
          "contourcarpet": [
           {
            "colorbar": {
             "outlinewidth": 0,
             "ticks": ""
            },
            "type": "contourcarpet"
           }
          ],
          "heatmap": [
           {
            "colorbar": {
             "outlinewidth": 0,
             "ticks": ""
            },
            "colorscale": [
             [
              0,
              "#0d0887"
             ],
             [
              0.1111111111111111,
              "#46039f"
             ],
             [
              0.2222222222222222,
              "#7201a8"
             ],
             [
              0.3333333333333333,
              "#9c179e"
             ],
             [
              0.4444444444444444,
              "#bd3786"
             ],
             [
              0.5555555555555556,
              "#d8576b"
             ],
             [
              0.6666666666666666,
              "#ed7953"
             ],
             [
              0.7777777777777778,
              "#fb9f3a"
             ],
             [
              0.8888888888888888,
              "#fdca26"
             ],
             [
              1,
              "#f0f921"
             ]
            ],
            "type": "heatmap"
           }
          ],
          "heatmapgl": [
           {
            "colorbar": {
             "outlinewidth": 0,
             "ticks": ""
            },
            "colorscale": [
             [
              0,
              "#0d0887"
             ],
             [
              0.1111111111111111,
              "#46039f"
             ],
             [
              0.2222222222222222,
              "#7201a8"
             ],
             [
              0.3333333333333333,
              "#9c179e"
             ],
             [
              0.4444444444444444,
              "#bd3786"
             ],
             [
              0.5555555555555556,
              "#d8576b"
             ],
             [
              0.6666666666666666,
              "#ed7953"
             ],
             [
              0.7777777777777778,
              "#fb9f3a"
             ],
             [
              0.8888888888888888,
              "#fdca26"
             ],
             [
              1,
              "#f0f921"
             ]
            ],
            "type": "heatmapgl"
           }
          ],
          "histogram": [
           {
            "marker": {
             "pattern": {
              "fillmode": "overlay",
              "size": 10,
              "solidity": 0.2
             }
            },
            "type": "histogram"
           }
          ],
          "histogram2d": [
           {
            "colorbar": {
             "outlinewidth": 0,
             "ticks": ""
            },
            "colorscale": [
             [
              0,
              "#0d0887"
             ],
             [
              0.1111111111111111,
              "#46039f"
             ],
             [
              0.2222222222222222,
              "#7201a8"
             ],
             [
              0.3333333333333333,
              "#9c179e"
             ],
             [
              0.4444444444444444,
              "#bd3786"
             ],
             [
              0.5555555555555556,
              "#d8576b"
             ],
             [
              0.6666666666666666,
              "#ed7953"
             ],
             [
              0.7777777777777778,
              "#fb9f3a"
             ],
             [
              0.8888888888888888,
              "#fdca26"
             ],
             [
              1,
              "#f0f921"
             ]
            ],
            "type": "histogram2d"
           }
          ],
          "histogram2dcontour": [
           {
            "colorbar": {
             "outlinewidth": 0,
             "ticks": ""
            },
            "colorscale": [
             [
              0,
              "#0d0887"
             ],
             [
              0.1111111111111111,
              "#46039f"
             ],
             [
              0.2222222222222222,
              "#7201a8"
             ],
             [
              0.3333333333333333,
              "#9c179e"
             ],
             [
              0.4444444444444444,
              "#bd3786"
             ],
             [
              0.5555555555555556,
              "#d8576b"
             ],
             [
              0.6666666666666666,
              "#ed7953"
             ],
             [
              0.7777777777777778,
              "#fb9f3a"
             ],
             [
              0.8888888888888888,
              "#fdca26"
             ],
             [
              1,
              "#f0f921"
             ]
            ],
            "type": "histogram2dcontour"
           }
          ],
          "mesh3d": [
           {
            "colorbar": {
             "outlinewidth": 0,
             "ticks": ""
            },
            "type": "mesh3d"
           }
          ],
          "parcoords": [
           {
            "line": {
             "colorbar": {
              "outlinewidth": 0,
              "ticks": ""
             }
            },
            "type": "parcoords"
           }
          ],
          "pie": [
           {
            "automargin": true,
            "type": "pie"
           }
          ],
          "scatter": [
           {
            "fillpattern": {
             "fillmode": "overlay",
             "size": 10,
             "solidity": 0.2
            },
            "type": "scatter"
           }
          ],
          "scatter3d": [
           {
            "line": {
             "colorbar": {
              "outlinewidth": 0,
              "ticks": ""
             }
            },
            "marker": {
             "colorbar": {
              "outlinewidth": 0,
              "ticks": ""
             }
            },
            "type": "scatter3d"
           }
          ],
          "scattercarpet": [
           {
            "marker": {
             "colorbar": {
              "outlinewidth": 0,
              "ticks": ""
             }
            },
            "type": "scattercarpet"
           }
          ],
          "scattergeo": [
           {
            "marker": {
             "colorbar": {
              "outlinewidth": 0,
              "ticks": ""
             }
            },
            "type": "scattergeo"
           }
          ],
          "scattergl": [
           {
            "marker": {
             "colorbar": {
              "outlinewidth": 0,
              "ticks": ""
             }
            },
            "type": "scattergl"
           }
          ],
          "scattermapbox": [
           {
            "marker": {
             "colorbar": {
              "outlinewidth": 0,
              "ticks": ""
             }
            },
            "type": "scattermapbox"
           }
          ],
          "scatterpolar": [
           {
            "marker": {
             "colorbar": {
              "outlinewidth": 0,
              "ticks": ""
             }
            },
            "type": "scatterpolar"
           }
          ],
          "scatterpolargl": [
           {
            "marker": {
             "colorbar": {
              "outlinewidth": 0,
              "ticks": ""
             }
            },
            "type": "scatterpolargl"
           }
          ],
          "scatterternary": [
           {
            "marker": {
             "colorbar": {
              "outlinewidth": 0,
              "ticks": ""
             }
            },
            "type": "scatterternary"
           }
          ],
          "surface": [
           {
            "colorbar": {
             "outlinewidth": 0,
             "ticks": ""
            },
            "colorscale": [
             [
              0,
              "#0d0887"
             ],
             [
              0.1111111111111111,
              "#46039f"
             ],
             [
              0.2222222222222222,
              "#7201a8"
             ],
             [
              0.3333333333333333,
              "#9c179e"
             ],
             [
              0.4444444444444444,
              "#bd3786"
             ],
             [
              0.5555555555555556,
              "#d8576b"
             ],
             [
              0.6666666666666666,
              "#ed7953"
             ],
             [
              0.7777777777777778,
              "#fb9f3a"
             ],
             [
              0.8888888888888888,
              "#fdca26"
             ],
             [
              1,
              "#f0f921"
             ]
            ],
            "type": "surface"
           }
          ],
          "table": [
           {
            "cells": {
             "fill": {
              "color": "#EBF0F8"
             },
             "line": {
              "color": "white"
             }
            },
            "header": {
             "fill": {
              "color": "#C8D4E3"
             },
             "line": {
              "color": "white"
             }
            },
            "type": "table"
           }
          ]
         },
         "layout": {
          "annotationdefaults": {
           "arrowcolor": "#2a3f5f",
           "arrowhead": 0,
           "arrowwidth": 1
          },
          "autotypenumbers": "strict",
          "coloraxis": {
           "colorbar": {
            "outlinewidth": 0,
            "ticks": ""
           }
          },
          "colorscale": {
           "diverging": [
            [
             0,
             "#8e0152"
            ],
            [
             0.1,
             "#c51b7d"
            ],
            [
             0.2,
             "#de77ae"
            ],
            [
             0.3,
             "#f1b6da"
            ],
            [
             0.4,
             "#fde0ef"
            ],
            [
             0.5,
             "#f7f7f7"
            ],
            [
             0.6,
             "#e6f5d0"
            ],
            [
             0.7,
             "#b8e186"
            ],
            [
             0.8,
             "#7fbc41"
            ],
            [
             0.9,
             "#4d9221"
            ],
            [
             1,
             "#276419"
            ]
           ],
           "sequential": [
            [
             0,
             "#0d0887"
            ],
            [
             0.1111111111111111,
             "#46039f"
            ],
            [
             0.2222222222222222,
             "#7201a8"
            ],
            [
             0.3333333333333333,
             "#9c179e"
            ],
            [
             0.4444444444444444,
             "#bd3786"
            ],
            [
             0.5555555555555556,
             "#d8576b"
            ],
            [
             0.6666666666666666,
             "#ed7953"
            ],
            [
             0.7777777777777778,
             "#fb9f3a"
            ],
            [
             0.8888888888888888,
             "#fdca26"
            ],
            [
             1,
             "#f0f921"
            ]
           ],
           "sequentialminus": [
            [
             0,
             "#0d0887"
            ],
            [
             0.1111111111111111,
             "#46039f"
            ],
            [
             0.2222222222222222,
             "#7201a8"
            ],
            [
             0.3333333333333333,
             "#9c179e"
            ],
            [
             0.4444444444444444,
             "#bd3786"
            ],
            [
             0.5555555555555556,
             "#d8576b"
            ],
            [
             0.6666666666666666,
             "#ed7953"
            ],
            [
             0.7777777777777778,
             "#fb9f3a"
            ],
            [
             0.8888888888888888,
             "#fdca26"
            ],
            [
             1,
             "#f0f921"
            ]
           ]
          },
          "colorway": [
           "#636efa",
           "#EF553B",
           "#00cc96",
           "#ab63fa",
           "#FFA15A",
           "#19d3f3",
           "#FF6692",
           "#B6E880",
           "#FF97FF",
           "#FECB52"
          ],
          "font": {
           "color": "#2a3f5f"
          },
          "geo": {
           "bgcolor": "white",
           "lakecolor": "white",
           "landcolor": "#E5ECF6",
           "showlakes": true,
           "showland": true,
           "subunitcolor": "white"
          },
          "hoverlabel": {
           "align": "left"
          },
          "hovermode": "closest",
          "mapbox": {
           "style": "light"
          },
          "paper_bgcolor": "white",
          "plot_bgcolor": "#E5ECF6",
          "polar": {
           "angularaxis": {
            "gridcolor": "white",
            "linecolor": "white",
            "ticks": ""
           },
           "bgcolor": "#E5ECF6",
           "radialaxis": {
            "gridcolor": "white",
            "linecolor": "white",
            "ticks": ""
           }
          },
          "scene": {
           "xaxis": {
            "backgroundcolor": "#E5ECF6",
            "gridcolor": "white",
            "gridwidth": 2,
            "linecolor": "white",
            "showbackground": true,
            "ticks": "",
            "zerolinecolor": "white"
           },
           "yaxis": {
            "backgroundcolor": "#E5ECF6",
            "gridcolor": "white",
            "gridwidth": 2,
            "linecolor": "white",
            "showbackground": true,
            "ticks": "",
            "zerolinecolor": "white"
           },
           "zaxis": {
            "backgroundcolor": "#E5ECF6",
            "gridcolor": "white",
            "gridwidth": 2,
            "linecolor": "white",
            "showbackground": true,
            "ticks": "",
            "zerolinecolor": "white"
           }
          },
          "shapedefaults": {
           "line": {
            "color": "#2a3f5f"
           }
          },
          "ternary": {
           "aaxis": {
            "gridcolor": "white",
            "linecolor": "white",
            "ticks": ""
           },
           "baxis": {
            "gridcolor": "white",
            "linecolor": "white",
            "ticks": ""
           },
           "bgcolor": "#E5ECF6",
           "caxis": {
            "gridcolor": "white",
            "linecolor": "white",
            "ticks": ""
           }
          },
          "title": {
           "x": 0.05
          },
          "xaxis": {
           "automargin": true,
           "gridcolor": "white",
           "linecolor": "white",
           "ticks": "",
           "title": {
            "standoff": 15
           },
           "zerolinecolor": "white",
           "zerolinewidth": 2
          },
          "yaxis": {
           "automargin": true,
           "gridcolor": "white",
           "linecolor": "white",
           "ticks": "",
           "title": {
            "standoff": 15
           },
           "zerolinecolor": "white",
           "zerolinewidth": 2
          }
         }
        },
        "title": {
         "text": "Grouped Bar Chart"
        },
        "xaxis": {
         "title": {
          "text": "Wards"
         }
        },
        "yaxis": {
         "title": {
          "text": "Values"
         }
        }
       }
      }
     },
     "metadata": {},
     "output_type": "display_data"
    }
   ],
   "source": [
    "import plotly.graph_objects as go\n",
    "\n",
    "# Define the ward names\n",
    "ward_names = new_df.columns.tolist()\n",
    "\n",
    "# Define the dates\n",
    "dates = new_df.index.tolist()\n",
    "\n",
    "# Create a trace for each date\n",
    "traces = []\n",
    "for i, date in enumerate(dates):\n",
    "    trace = go.Bar(\n",
    "        x=ward_names,\n",
    "        y=new_df.iloc[i],\n",
    "        name=date\n",
    "    )\n",
    "    traces.append(trace)\n",
    "\n",
    "# Create the layout\n",
    "layout = go.Layout(\n",
    "    title='Grouped Bar Chart',\n",
    "    xaxis=dict(title='Wards'),\n",
    "    yaxis=dict(title='Values'),\n",
    "    barmode='group'\n",
    ")\n",
    "\n",
    "# Create the figure\n",
    "fig = go.Figure(data=traces, layout=layout)\n",
    "\n",
    "# Show the figure\n",
    "fig.show()\n"
   ]
  },
  {
   "cell_type": "code",
   "execution_count": 103,
   "metadata": {},
   "outputs": [
    {
     "data": {
      "image/png": "[encoded data removed]",
      "text/plain": [
       "<Figure size 1000x600 with 1 Axes>"
      ]
     },
     "metadata": {},
     "output_type": "display_data"
    }
   ],
   "source": [
    "plot3 = m4.plot(specific_ward_forecast)"
   ]
  },
  {
   "cell_type": "code",
   "execution_count": 53,
   "metadata": {},
   "outputs": [
    {
     "data": {
      "image/png": "[encoded data removed]",
      "text/plain": [
       "<Figure size 900x600 with 2 Axes>"
      ]
     },
     "metadata": {},
     "output_type": "display_data"
    }
   ],
   "source": [
    "plot3 = m4.plot_components(specific_ward_forecast)"
   ]
  },
  {
   "cell_type": "code",
   "execution_count": 105,
   "metadata": {},
   "outputs": [
    {
     "data": {
      "text/plain": [
       "22.772056430701813"
      ]
     },
     "execution_count": 105,
     "metadata": {},
     "output_type": "execute_result"
    }
   ],
   "source": [
    "pred = specific_ward_forecast[specific_ward_forecast['ds']<='2023-03-01']\n",
    "# Calculate MSE\n",
    "mse = mean_squared_error(df_interpolated['Barnet Vale'], pred['yhat'])\n",
    "mse"
   ]
  },
  {
   "cell_type": "code",
   "execution_count": 135,
   "metadata": {},
   "outputs": [
    {
     "name": "stdout",
     "output_type": "stream",
     "text": [
      "0.5103259518295635\n",
      "0.588275868689442\n",
      "0.2878554504332883\n",
      "0.35505294107547525\n",
      "0.14490408563849777\n",
      "0.27264173880387277\n",
      "0.5865068613640125\n",
      "0.30016526531659227\n",
      "0.35659267086061575\n",
      "0.42445723157854887\n",
      "0.29902798383234563\n",
      "0.6292195541757499\n",
      "0.4144358763248761\n",
      "0.37693688566080175\n",
      "0.26291845141081716\n",
      "0.4642606077745167\n",
      "0.5016841118140394\n",
      "0.3341486196369652\n",
      "0.4104337534297693\n",
      "0.5164268090599013\n",
      "0.433413149449401\n",
      "0.40152524708830284\n",
      "0.508608651329167\n"
     ]
    },
    {
     "data": {
      "text/plain": [
       "0.4078181637641983"
      ]
     },
     "execution_count": 135,
     "metadata": {},
     "output_type": "execute_result"
    }
   ],
   "source": [
    "# Calculate R2 score\n",
    "total = 0\n",
    "for ward in ward_forecasts:\n",
    "    specific_ward_forecast = ward_forecasts[ward]\n",
    "    pred = specific_ward_forecast[specific_ward_forecast['ds']<='2023-03-01']\n",
    "    r2 = r2_score(df_interpolated[ward], pred['yhat'])\n",
    "    print(r2)\n",
    "    total += r2\n",
    "\n",
    "total/len(ward_forecasts)"
   ]
  },
  {
   "cell_type": "code",
   "execution_count": null,
   "metadata": {},
   "outputs": [],
   "source": []
  }
 ],
 "metadata": {
  "kernelspec": {
   "display_name": "Python 3",
   "language": "python",
   "name": "python3"
  },
  "language_info": {
   "codemirror_mode": {
    "name": "ipython",
    "version": 3
   },
   "file_extension": ".py",
   "mimetype": "text/x-python",
   "name": "python",
   "nbconvert_exporter": "python",
   "pygments_lexer": "ipython3",
   "version": "3.9.5"
  },
  "orig_nbformat": 4
 },
 "nbformat": 4,
 "nbformat_minor": 2
}
