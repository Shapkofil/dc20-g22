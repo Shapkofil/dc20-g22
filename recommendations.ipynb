{
 "cells": [
  {
   "cell_type": "code",
   "execution_count": 1,
   "metadata": {},
   "outputs": [
    {
     "data": {
      "text/html": [
       "<div>\n",
       "<style scoped>\n",
       "    .dataframe tbody tr th:only-of-type {\n",
       "        vertical-align: middle;\n",
       "    }\n",
       "\n",
       "    .dataframe tbody tr th {\n",
       "        vertical-align: top;\n",
       "    }\n",
       "\n",
       "    .dataframe thead th {\n",
       "        text-align: right;\n",
       "    }\n",
       "</style>\n",
       "<table border=\"1\" class=\"dataframe\">\n",
       "  <thead>\n",
       "    <tr style=\"text-align: right;\">\n",
       "      <th></th>\n",
       "      <th>Barnet Vale</th>\n",
       "      <th>Brunswick Park</th>\n",
       "      <th>Burnt Oak</th>\n",
       "      <th>Childs Hill</th>\n",
       "      <th>Colindale North</th>\n",
       "      <th>Cricklewood</th>\n",
       "      <th>East Barnet</th>\n",
       "      <th>East Finchley</th>\n",
       "      <th>Edgware</th>\n",
       "      <th>Edgwarebury</th>\n",
       "      <th>...</th>\n",
       "      <th>Golders Green</th>\n",
       "      <th>Hendon</th>\n",
       "      <th>High Barnet</th>\n",
       "      <th>Mill Hill</th>\n",
       "      <th>Totteridge &amp; Woodside</th>\n",
       "      <th>Underhill</th>\n",
       "      <th>West Finchley</th>\n",
       "      <th>West Hendon</th>\n",
       "      <th>Whetstone</th>\n",
       "      <th>Woodhouse</th>\n",
       "    </tr>\n",
       "    <tr>\n",
       "      <th>Month</th>\n",
       "      <th></th>\n",
       "      <th></th>\n",
       "      <th></th>\n",
       "      <th></th>\n",
       "      <th></th>\n",
       "      <th></th>\n",
       "      <th></th>\n",
       "      <th></th>\n",
       "      <th></th>\n",
       "      <th></th>\n",
       "      <th></th>\n",
       "      <th></th>\n",
       "      <th></th>\n",
       "      <th></th>\n",
       "      <th></th>\n",
       "      <th></th>\n",
       "      <th></th>\n",
       "      <th></th>\n",
       "      <th></th>\n",
       "      <th></th>\n",
       "      <th></th>\n",
       "    </tr>\n",
       "  </thead>\n",
       "  <tbody>\n",
       "    <tr>\n",
       "      <th>2022-04-01</th>\n",
       "      <td>7</td>\n",
       "      <td>3</td>\n",
       "      <td>4</td>\n",
       "      <td>18</td>\n",
       "      <td>4</td>\n",
       "      <td>4</td>\n",
       "      <td>2</td>\n",
       "      <td>4</td>\n",
       "      <td>8</td>\n",
       "      <td>4</td>\n",
       "      <td>...</td>\n",
       "      <td>8</td>\n",
       "      <td>17</td>\n",
       "      <td>7</td>\n",
       "      <td>9</td>\n",
       "      <td>8</td>\n",
       "      <td>3</td>\n",
       "      <td>5</td>\n",
       "      <td>6</td>\n",
       "      <td>10</td>\n",
       "      <td>4</td>\n",
       "    </tr>\n",
       "    <tr>\n",
       "      <th>2022-05-01</th>\n",
       "      <td>7</td>\n",
       "      <td>7</td>\n",
       "      <td>11</td>\n",
       "      <td>25</td>\n",
       "      <td>4</td>\n",
       "      <td>12</td>\n",
       "      <td>7</td>\n",
       "      <td>17</td>\n",
       "      <td>7</td>\n",
       "      <td>3</td>\n",
       "      <td>...</td>\n",
       "      <td>9</td>\n",
       "      <td>18</td>\n",
       "      <td>7</td>\n",
       "      <td>5</td>\n",
       "      <td>6</td>\n",
       "      <td>6</td>\n",
       "      <td>5</td>\n",
       "      <td>7</td>\n",
       "      <td>7</td>\n",
       "      <td>5</td>\n",
       "    </tr>\n",
       "    <tr>\n",
       "      <th>2022-06-01</th>\n",
       "      <td>11</td>\n",
       "      <td>4</td>\n",
       "      <td>18</td>\n",
       "      <td>19</td>\n",
       "      <td>4</td>\n",
       "      <td>8</td>\n",
       "      <td>6</td>\n",
       "      <td>9</td>\n",
       "      <td>11</td>\n",
       "      <td>5</td>\n",
       "      <td>...</td>\n",
       "      <td>9</td>\n",
       "      <td>13</td>\n",
       "      <td>5</td>\n",
       "      <td>5</td>\n",
       "      <td>4</td>\n",
       "      <td>5</td>\n",
       "      <td>9</td>\n",
       "      <td>8</td>\n",
       "      <td>6</td>\n",
       "      <td>7</td>\n",
       "    </tr>\n",
       "    <tr>\n",
       "      <th>2022-07-01</th>\n",
       "      <td>6</td>\n",
       "      <td>3</td>\n",
       "      <td>7</td>\n",
       "      <td>15</td>\n",
       "      <td>8</td>\n",
       "      <td>5</td>\n",
       "      <td>5</td>\n",
       "      <td>7</td>\n",
       "      <td>11</td>\n",
       "      <td>4</td>\n",
       "      <td>...</td>\n",
       "      <td>15</td>\n",
       "      <td>13</td>\n",
       "      <td>2</td>\n",
       "      <td>9</td>\n",
       "      <td>10</td>\n",
       "      <td>2</td>\n",
       "      <td>6</td>\n",
       "      <td>8</td>\n",
       "      <td>6</td>\n",
       "      <td>5</td>\n",
       "    </tr>\n",
       "    <tr>\n",
       "      <th>2022-08-01</th>\n",
       "      <td>3</td>\n",
       "      <td>6</td>\n",
       "      <td>9</td>\n",
       "      <td>18</td>\n",
       "      <td>4</td>\n",
       "      <td>8</td>\n",
       "      <td>2</td>\n",
       "      <td>6</td>\n",
       "      <td>7</td>\n",
       "      <td>4</td>\n",
       "      <td>...</td>\n",
       "      <td>11</td>\n",
       "      <td>4</td>\n",
       "      <td>8</td>\n",
       "      <td>5</td>\n",
       "      <td>4</td>\n",
       "      <td>2</td>\n",
       "      <td>13</td>\n",
       "      <td>13</td>\n",
       "      <td>6</td>\n",
       "      <td>3</td>\n",
       "    </tr>\n",
       "    <tr>\n",
       "      <th>2022-09-01</th>\n",
       "      <td>4</td>\n",
       "      <td>9</td>\n",
       "      <td>8</td>\n",
       "      <td>20</td>\n",
       "      <td>6</td>\n",
       "      <td>13</td>\n",
       "      <td>6</td>\n",
       "      <td>12</td>\n",
       "      <td>10</td>\n",
       "      <td>2</td>\n",
       "      <td>...</td>\n",
       "      <td>4</td>\n",
       "      <td>7</td>\n",
       "      <td>6</td>\n",
       "      <td>10</td>\n",
       "      <td>7</td>\n",
       "      <td>2</td>\n",
       "      <td>8</td>\n",
       "      <td>9</td>\n",
       "      <td>8</td>\n",
       "      <td>3</td>\n",
       "    </tr>\n",
       "    <tr>\n",
       "      <th>2022-10-01</th>\n",
       "      <td>4</td>\n",
       "      <td>9</td>\n",
       "      <td>12</td>\n",
       "      <td>30</td>\n",
       "      <td>4</td>\n",
       "      <td>11</td>\n",
       "      <td>10</td>\n",
       "      <td>4</td>\n",
       "      <td>15</td>\n",
       "      <td>1</td>\n",
       "      <td>...</td>\n",
       "      <td>10</td>\n",
       "      <td>25</td>\n",
       "      <td>7</td>\n",
       "      <td>8</td>\n",
       "      <td>10</td>\n",
       "      <td>2</td>\n",
       "      <td>14</td>\n",
       "      <td>11</td>\n",
       "      <td>4</td>\n",
       "      <td>8</td>\n",
       "    </tr>\n",
       "    <tr>\n",
       "      <th>2022-11-01</th>\n",
       "      <td>5</td>\n",
       "      <td>4</td>\n",
       "      <td>11</td>\n",
       "      <td>32</td>\n",
       "      <td>5</td>\n",
       "      <td>15</td>\n",
       "      <td>5</td>\n",
       "      <td>3</td>\n",
       "      <td>8</td>\n",
       "      <td>5</td>\n",
       "      <td>...</td>\n",
       "      <td>10</td>\n",
       "      <td>18</td>\n",
       "      <td>10</td>\n",
       "      <td>7</td>\n",
       "      <td>13</td>\n",
       "      <td>5</td>\n",
       "      <td>16</td>\n",
       "      <td>11</td>\n",
       "      <td>11</td>\n",
       "      <td>15</td>\n",
       "    </tr>\n",
       "    <tr>\n",
       "      <th>2022-12-01</th>\n",
       "      <td>9</td>\n",
       "      <td>5</td>\n",
       "      <td>13</td>\n",
       "      <td>21</td>\n",
       "      <td>6</td>\n",
       "      <td>13</td>\n",
       "      <td>11</td>\n",
       "      <td>6</td>\n",
       "      <td>10</td>\n",
       "      <td>6</td>\n",
       "      <td>...</td>\n",
       "      <td>6</td>\n",
       "      <td>12</td>\n",
       "      <td>0</td>\n",
       "      <td>13</td>\n",
       "      <td>15</td>\n",
       "      <td>3</td>\n",
       "      <td>9</td>\n",
       "      <td>9</td>\n",
       "      <td>10</td>\n",
       "      <td>7</td>\n",
       "    </tr>\n",
       "    <tr>\n",
       "      <th>2023-01-01</th>\n",
       "      <td>5</td>\n",
       "      <td>7</td>\n",
       "      <td>11</td>\n",
       "      <td>21</td>\n",
       "      <td>5</td>\n",
       "      <td>13</td>\n",
       "      <td>9</td>\n",
       "      <td>5</td>\n",
       "      <td>10</td>\n",
       "      <td>3</td>\n",
       "      <td>...</td>\n",
       "      <td>11</td>\n",
       "      <td>15</td>\n",
       "      <td>9</td>\n",
       "      <td>10</td>\n",
       "      <td>15</td>\n",
       "      <td>5</td>\n",
       "      <td>17</td>\n",
       "      <td>11</td>\n",
       "      <td>0</td>\n",
       "      <td>4</td>\n",
       "    </tr>\n",
       "    <tr>\n",
       "      <th>2023-02-01</th>\n",
       "      <td>2</td>\n",
       "      <td>14</td>\n",
       "      <td>4</td>\n",
       "      <td>21</td>\n",
       "      <td>3</td>\n",
       "      <td>15</td>\n",
       "      <td>5</td>\n",
       "      <td>5</td>\n",
       "      <td>11</td>\n",
       "      <td>4</td>\n",
       "      <td>...</td>\n",
       "      <td>6</td>\n",
       "      <td>11</td>\n",
       "      <td>7</td>\n",
       "      <td>12</td>\n",
       "      <td>12</td>\n",
       "      <td>2</td>\n",
       "      <td>5</td>\n",
       "      <td>10</td>\n",
       "      <td>3</td>\n",
       "      <td>6</td>\n",
       "    </tr>\n",
       "    <tr>\n",
       "      <th>2023-03-01</th>\n",
       "      <td>7</td>\n",
       "      <td>13</td>\n",
       "      <td>11</td>\n",
       "      <td>20</td>\n",
       "      <td>7</td>\n",
       "      <td>9</td>\n",
       "      <td>8</td>\n",
       "      <td>9</td>\n",
       "      <td>8</td>\n",
       "      <td>6</td>\n",
       "      <td>...</td>\n",
       "      <td>14</td>\n",
       "      <td>13</td>\n",
       "      <td>6</td>\n",
       "      <td>7</td>\n",
       "      <td>12</td>\n",
       "      <td>1</td>\n",
       "      <td>13</td>\n",
       "      <td>9</td>\n",
       "      <td>4</td>\n",
       "      <td>7</td>\n",
       "    </tr>\n",
       "  </tbody>\n",
       "</table>\n",
       "<p>12 rows × 23 columns</p>\n",
       "</div>"
      ],
      "text/plain": [
       "            Barnet Vale  Brunswick Park  Burnt Oak  Childs Hill  \\\n",
       "Month                                                             \n",
       "2022-04-01            7               3          4           18   \n",
       "2022-05-01            7               7         11           25   \n",
       "2022-06-01           11               4         18           19   \n",
       "2022-07-01            6               3          7           15   \n",
       "2022-08-01            3               6          9           18   \n",
       "2022-09-01            4               9          8           20   \n",
       "2022-10-01            4               9         12           30   \n",
       "2022-11-01            5               4         11           32   \n",
       "2022-12-01            9               5         13           21   \n",
       "2023-01-01            5               7         11           21   \n",
       "2023-02-01            2              14          4           21   \n",
       "2023-03-01            7              13         11           20   \n",
       "\n",
       "            Colindale North  Cricklewood  East Barnet  East Finchley  Edgware  \\\n",
       "Month                                                                           \n",
       "2022-04-01                4            4            2              4        8   \n",
       "2022-05-01                4           12            7             17        7   \n",
       "2022-06-01                4            8            6              9       11   \n",
       "2022-07-01                8            5            5              7       11   \n",
       "2022-08-01                4            8            2              6        7   \n",
       "2022-09-01                6           13            6             12       10   \n",
       "2022-10-01                4           11           10              4       15   \n",
       "2022-11-01                5           15            5              3        8   \n",
       "2022-12-01                6           13           11              6       10   \n",
       "2023-01-01                5           13            9              5       10   \n",
       "2023-02-01                3           15            5              5       11   \n",
       "2023-03-01                7            9            8              9        8   \n",
       "\n",
       "            Edgwarebury  ...  Golders Green  Hendon  High Barnet  Mill Hill  \\\n",
       "Month                    ...                                                  \n",
       "2022-04-01            4  ...              8      17            7          9   \n",
       "2022-05-01            3  ...              9      18            7          5   \n",
       "2022-06-01            5  ...              9      13            5          5   \n",
       "2022-07-01            4  ...             15      13            2          9   \n",
       "2022-08-01            4  ...             11       4            8          5   \n",
       "2022-09-01            2  ...              4       7            6         10   \n",
       "2022-10-01            1  ...             10      25            7          8   \n",
       "2022-11-01            5  ...             10      18           10          7   \n",
       "2022-12-01            6  ...              6      12            0         13   \n",
       "2023-01-01            3  ...             11      15            9         10   \n",
       "2023-02-01            4  ...              6      11            7         12   \n",
       "2023-03-01            6  ...             14      13            6          7   \n",
       "\n",
       "            Totteridge & Woodside  Underhill  West Finchley  West Hendon  \\\n",
       "Month                                                                      \n",
       "2022-04-01                      8          3              5            6   \n",
       "2022-05-01                      6          6              5            7   \n",
       "2022-06-01                      4          5              9            8   \n",
       "2022-07-01                     10          2              6            8   \n",
       "2022-08-01                      4          2             13           13   \n",
       "2022-09-01                      7          2              8            9   \n",
       "2022-10-01                     10          2             14           11   \n",
       "2022-11-01                     13          5             16           11   \n",
       "2022-12-01                     15          3              9            9   \n",
       "2023-01-01                     15          5             17           11   \n",
       "2023-02-01                     12          2              5           10   \n",
       "2023-03-01                     12          1             13            9   \n",
       "\n",
       "            Whetstone  Woodhouse  \n",
       "Month                             \n",
       "2022-04-01         10          4  \n",
       "2022-05-01          7          5  \n",
       "2022-06-01          6          7  \n",
       "2022-07-01          6          5  \n",
       "2022-08-01          6          3  \n",
       "2022-09-01          8          3  \n",
       "2022-10-01          4          8  \n",
       "2022-11-01         11         15  \n",
       "2022-12-01         10          7  \n",
       "2023-01-01          0          4  \n",
       "2023-02-01          3          6  \n",
       "2023-03-01          4          7  \n",
       "\n",
       "[12 rows x 23 columns]"
      ]
     },
     "execution_count": 1,
     "metadata": {},
     "output_type": "execute_result"
    }
   ],
   "source": [
    "import pandas as pd\n",
    "import numpy as np\n",
    "from matplotlib import pyplot as plt\n",
    "import pyarrow as pa\n",
    "import pyarrow.parquet as pq\n",
    "\n",
    "from sklearn.preprocessing import StandardScaler\n",
    "\n",
    "# Specify the path to your Parquet file\n",
    "\n",
    "\n",
    "\n",
    "file_path = \"./data/linearmodel.parquet\"\n",
    "\n",
    "# Read the Parquet file into a pandas DataFrame\n",
    "df = pd.read_parquet(file_path)\n",
    "onehot_df = df.iloc[:, [1] + list(range(64-23,64))]\n",
    "month_embeds = onehot_df.groupby(\"Month\").sum()\n",
    "\n",
    "\n",
    "Y_true = month_embeds.copy()\n",
    "# Y_true.reset_index(inplace=True)\n",
    "# Y_true.drop(\"Month\", axis=1, inplace=True)\n",
    "Y_true=Y_true[-12:]\n",
    "Y_true\n"
   ]
  },
  {
   "cell_type": "code",
   "execution_count": 41,
   "metadata": {},
   "outputs": [
    {
     "data": {
      "text/html": [
       "<div>\n",
       "<style scoped>\n",
       "    .dataframe tbody tr th:only-of-type {\n",
       "        vertical-align: middle;\n",
       "    }\n",
       "\n",
       "    .dataframe tbody tr th {\n",
       "        vertical-align: top;\n",
       "    }\n",
       "\n",
       "    .dataframe thead th {\n",
       "        text-align: right;\n",
       "    }\n",
       "</style>\n",
       "<table border=\"1\" class=\"dataframe\">\n",
       "  <thead>\n",
       "    <tr style=\"text-align: right;\">\n",
       "      <th></th>\n",
       "      <th>Barnet Vale</th>\n",
       "      <th>Brunswick Park</th>\n",
       "      <th>Burnt Oak</th>\n",
       "      <th>Childs Hill</th>\n",
       "      <th>Colindale North</th>\n",
       "      <th>Cricklewood</th>\n",
       "      <th>East Barnet</th>\n",
       "      <th>East Finchley</th>\n",
       "      <th>Edgware</th>\n",
       "      <th>Edgwarebury</th>\n",
       "      <th>...</th>\n",
       "      <th>Golders Green</th>\n",
       "      <th>Hendon</th>\n",
       "      <th>High Barnet</th>\n",
       "      <th>Mill Hill</th>\n",
       "      <th>Totteridge &amp; Woodside</th>\n",
       "      <th>Underhill</th>\n",
       "      <th>West Finchley</th>\n",
       "      <th>West Hendon</th>\n",
       "      <th>Whetstone</th>\n",
       "      <th>Woodhouse</th>\n",
       "    </tr>\n",
       "  </thead>\n",
       "  <tbody>\n",
       "    <tr>\n",
       "      <th>2022-04-01</th>\n",
       "      <td>22.986878</td>\n",
       "      <td>17.237507</td>\n",
       "      <td>13.849126</td>\n",
       "      <td>37.183545</td>\n",
       "      <td>4.553636</td>\n",
       "      <td>14.136941</td>\n",
       "      <td>18.529918</td>\n",
       "      <td>17.658979</td>\n",
       "      <td>13.622858</td>\n",
       "      <td>16.651879</td>\n",
       "      <td>...</td>\n",
       "      <td>25.295317</td>\n",
       "      <td>26.392682</td>\n",
       "      <td>19.838657</td>\n",
       "      <td>27.201383</td>\n",
       "      <td>16.739269</td>\n",
       "      <td>11.792417</td>\n",
       "      <td>28.633863</td>\n",
       "      <td>20.463062</td>\n",
       "      <td>14.224969</td>\n",
       "      <td>20.800283</td>\n",
       "    </tr>\n",
       "    <tr>\n",
       "      <th>2022-05-01</th>\n",
       "      <td>17.675150</td>\n",
       "      <td>16.387624</td>\n",
       "      <td>7.622046</td>\n",
       "      <td>28.677311</td>\n",
       "      <td>6.873156</td>\n",
       "      <td>22.087327</td>\n",
       "      <td>12.240513</td>\n",
       "      <td>13.472589</td>\n",
       "      <td>7.447215</td>\n",
       "      <td>11.530882</td>\n",
       "      <td>...</td>\n",
       "      <td>24.621285</td>\n",
       "      <td>31.722049</td>\n",
       "      <td>15.822389</td>\n",
       "      <td>20.753193</td>\n",
       "      <td>9.955378</td>\n",
       "      <td>13.707571</td>\n",
       "      <td>22.186097</td>\n",
       "      <td>16.694985</td>\n",
       "      <td>15.537947</td>\n",
       "      <td>11.225184</td>\n",
       "    </tr>\n",
       "    <tr>\n",
       "      <th>2022-06-01</th>\n",
       "      <td>23.017529</td>\n",
       "      <td>16.345647</td>\n",
       "      <td>9.712813</td>\n",
       "      <td>35.011547</td>\n",
       "      <td>8.889391</td>\n",
       "      <td>22.153813</td>\n",
       "      <td>17.359212</td>\n",
       "      <td>9.915505</td>\n",
       "      <td>7.924754</td>\n",
       "      <td>7.588159</td>\n",
       "      <td>...</td>\n",
       "      <td>17.377969</td>\n",
       "      <td>28.747407</td>\n",
       "      <td>19.328937</td>\n",
       "      <td>18.910680</td>\n",
       "      <td>11.893663</td>\n",
       "      <td>14.775940</td>\n",
       "      <td>17.227597</td>\n",
       "      <td>15.559697</td>\n",
       "      <td>13.128223</td>\n",
       "      <td>7.725280</td>\n",
       "    </tr>\n",
       "    <tr>\n",
       "      <th>2022-07-01</th>\n",
       "      <td>17.523929</td>\n",
       "      <td>18.987779</td>\n",
       "      <td>14.845064</td>\n",
       "      <td>37.722367</td>\n",
       "      <td>10.834609</td>\n",
       "      <td>12.364268</td>\n",
       "      <td>18.749935</td>\n",
       "      <td>12.527874</td>\n",
       "      <td>12.575526</td>\n",
       "      <td>10.218851</td>\n",
       "      <td>...</td>\n",
       "      <td>18.473510</td>\n",
       "      <td>15.995666</td>\n",
       "      <td>15.468826</td>\n",
       "      <td>12.944552</td>\n",
       "      <td>14.327543</td>\n",
       "      <td>11.217531</td>\n",
       "      <td>15.199717</td>\n",
       "      <td>11.950809</td>\n",
       "      <td>10.683622</td>\n",
       "      <td>11.459996</td>\n",
       "    </tr>\n",
       "    <tr>\n",
       "      <th>2022-08-01</th>\n",
       "      <td>10.856185</td>\n",
       "      <td>11.169361</td>\n",
       "      <td>16.483984</td>\n",
       "      <td>31.995886</td>\n",
       "      <td>8.701614</td>\n",
       "      <td>8.654817</td>\n",
       "      <td>13.584830</td>\n",
       "      <td>16.471477</td>\n",
       "      <td>10.022851</td>\n",
       "      <td>9.278880</td>\n",
       "      <td>...</td>\n",
       "      <td>24.373007</td>\n",
       "      <td>12.690391</td>\n",
       "      <td>8.173097</td>\n",
       "      <td>11.333790</td>\n",
       "      <td>12.392010</td>\n",
       "      <td>6.359067</td>\n",
       "      <td>16.422705</td>\n",
       "      <td>11.586055</td>\n",
       "      <td>8.894880</td>\n",
       "      <td>14.704389</td>\n",
       "    </tr>\n",
       "    <tr>\n",
       "      <th>2022-09-01</th>\n",
       "      <td>7.283525</td>\n",
       "      <td>9.004179</td>\n",
       "      <td>16.765994</td>\n",
       "      <td>21.768612</td>\n",
       "      <td>6.454874</td>\n",
       "      <td>9.844436</td>\n",
       "      <td>13.180832</td>\n",
       "      <td>10.075059</td>\n",
       "      <td>9.623387</td>\n",
       "      <td>6.194294</td>\n",
       "      <td>...</td>\n",
       "      <td>24.300527</td>\n",
       "      <td>19.529257</td>\n",
       "      <td>11.234669</td>\n",
       "      <td>13.708424</td>\n",
       "      <td>10.152147</td>\n",
       "      <td>2.432085</td>\n",
       "      <td>20.792426</td>\n",
       "      <td>18.964801</td>\n",
       "      <td>9.096419</td>\n",
       "      <td>12.346287</td>\n",
       "    </tr>\n",
       "    <tr>\n",
       "      <th>2022-10-01</th>\n",
       "      <td>14.347524</td>\n",
       "      <td>11.811779</td>\n",
       "      <td>13.193639</td>\n",
       "      <td>17.899743</td>\n",
       "      <td>2.757321</td>\n",
       "      <td>13.680339</td>\n",
       "      <td>15.800783</td>\n",
       "      <td>6.812659</td>\n",
       "      <td>15.911778</td>\n",
       "      <td>6.467508</td>\n",
       "      <td>...</td>\n",
       "      <td>17.720644</td>\n",
       "      <td>24.593462</td>\n",
       "      <td>13.427125</td>\n",
       "      <td>15.707216</td>\n",
       "      <td>9.796893</td>\n",
       "      <td>4.893704</td>\n",
       "      <td>16.781565</td>\n",
       "      <td>16.119482</td>\n",
       "      <td>9.343750</td>\n",
       "      <td>9.328348</td>\n",
       "    </tr>\n",
       "    <tr>\n",
       "      <th>2022-11-01</th>\n",
       "      <td>23.193290</td>\n",
       "      <td>15.940769</td>\n",
       "      <td>11.053034</td>\n",
       "      <td>13.550572</td>\n",
       "      <td>3.658323</td>\n",
       "      <td>18.443425</td>\n",
       "      <td>23.769264</td>\n",
       "      <td>6.983283</td>\n",
       "      <td>14.338969</td>\n",
       "      <td>5.799903</td>\n",
       "      <td>...</td>\n",
       "      <td>17.379220</td>\n",
       "      <td>20.711277</td>\n",
       "      <td>14.802512</td>\n",
       "      <td>16.221171</td>\n",
       "      <td>10.276570</td>\n",
       "      <td>10.114365</td>\n",
       "      <td>15.722391</td>\n",
       "      <td>18.880199</td>\n",
       "      <td>10.505510</td>\n",
       "      <td>10.015533</td>\n",
       "    </tr>\n",
       "    <tr>\n",
       "      <th>2022-12-01</th>\n",
       "      <td>25.817105</td>\n",
       "      <td>18.850381</td>\n",
       "      <td>12.940552</td>\n",
       "      <td>23.443724</td>\n",
       "      <td>4.766604</td>\n",
       "      <td>18.923712</td>\n",
       "      <td>22.371773</td>\n",
       "      <td>17.608186</td>\n",
       "      <td>14.147035</td>\n",
       "      <td>9.954279</td>\n",
       "      <td>...</td>\n",
       "      <td>12.985556</td>\n",
       "      <td>20.821793</td>\n",
       "      <td>18.015821</td>\n",
       "      <td>19.991718</td>\n",
       "      <td>17.061730</td>\n",
       "      <td>13.179893</td>\n",
       "      <td>14.091956</td>\n",
       "      <td>23.351942</td>\n",
       "      <td>11.198826</td>\n",
       "      <td>15.665494</td>\n",
       "    </tr>\n",
       "    <tr>\n",
       "      <th>2023-01-01</th>\n",
       "      <td>20.090794</td>\n",
       "      <td>26.740608</td>\n",
       "      <td>11.757186</td>\n",
       "      <td>31.821508</td>\n",
       "      <td>4.339592</td>\n",
       "      <td>19.890490</td>\n",
       "      <td>15.051078</td>\n",
       "      <td>18.322800</td>\n",
       "      <td>24.823620</td>\n",
       "      <td>18.410333</td>\n",
       "      <td>...</td>\n",
       "      <td>8.918656</td>\n",
       "      <td>19.385820</td>\n",
       "      <td>16.119367</td>\n",
       "      <td>17.397228</td>\n",
       "      <td>13.961794</td>\n",
       "      <td>12.877517</td>\n",
       "      <td>23.461314</td>\n",
       "      <td>23.213693</td>\n",
       "      <td>18.891179</td>\n",
       "      <td>14.750636</td>\n",
       "    </tr>\n",
       "    <tr>\n",
       "      <th>2023-02-01</th>\n",
       "      <td>20.104065</td>\n",
       "      <td>24.031314</td>\n",
       "      <td>20.940370</td>\n",
       "      <td>30.123188</td>\n",
       "      <td>5.587755</td>\n",
       "      <td>12.922663</td>\n",
       "      <td>24.468157</td>\n",
       "      <td>14.100233</td>\n",
       "      <td>23.477749</td>\n",
       "      <td>13.246914</td>\n",
       "      <td>...</td>\n",
       "      <td>14.506567</td>\n",
       "      <td>25.709394</td>\n",
       "      <td>20.421076</td>\n",
       "      <td>14.947932</td>\n",
       "      <td>12.080815</td>\n",
       "      <td>13.396128</td>\n",
       "      <td>21.129966</td>\n",
       "      <td>14.925385</td>\n",
       "      <td>13.874909</td>\n",
       "      <td>16.971660</td>\n",
       "    </tr>\n",
       "    <tr>\n",
       "      <th>2023-03-01</th>\n",
       "      <td>20.303197</td>\n",
       "      <td>24.074554</td>\n",
       "      <td>21.858633</td>\n",
       "      <td>31.251393</td>\n",
       "      <td>6.302387</td>\n",
       "      <td>9.238794</td>\n",
       "      <td>20.648175</td>\n",
       "      <td>12.933141</td>\n",
       "      <td>19.385209</td>\n",
       "      <td>7.236268</td>\n",
       "      <td>...</td>\n",
       "      <td>14.238472</td>\n",
       "      <td>19.316808</td>\n",
       "      <td>16.378151</td>\n",
       "      <td>17.398890</td>\n",
       "      <td>16.605831</td>\n",
       "      <td>13.338898</td>\n",
       "      <td>21.480466</td>\n",
       "      <td>12.264592</td>\n",
       "      <td>12.395129</td>\n",
       "      <td>18.950456</td>\n",
       "    </tr>\n",
       "  </tbody>\n",
       "</table>\n",
       "<p>12 rows × 23 columns</p>\n",
       "</div>"
      ],
      "text/plain": [
       "            Barnet Vale  Brunswick Park  Burnt Oak  Childs Hill   \n",
       "2022-04-01    22.986878       17.237507  13.849126    37.183545  \\\n",
       "2022-05-01    17.675150       16.387624   7.622046    28.677311   \n",
       "2022-06-01    23.017529       16.345647   9.712813    35.011547   \n",
       "2022-07-01    17.523929       18.987779  14.845064    37.722367   \n",
       "2022-08-01    10.856185       11.169361  16.483984    31.995886   \n",
       "2022-09-01     7.283525        9.004179  16.765994    21.768612   \n",
       "2022-10-01    14.347524       11.811779  13.193639    17.899743   \n",
       "2022-11-01    23.193290       15.940769  11.053034    13.550572   \n",
       "2022-12-01    25.817105       18.850381  12.940552    23.443724   \n",
       "2023-01-01    20.090794       26.740608  11.757186    31.821508   \n",
       "2023-02-01    20.104065       24.031314  20.940370    30.123188   \n",
       "2023-03-01    20.303197       24.074554  21.858633    31.251393   \n",
       "\n",
       "            Colindale North  Cricklewood  East Barnet  East Finchley   \n",
       "2022-04-01         4.553636    14.136941    18.529918      17.658979  \\\n",
       "2022-05-01         6.873156    22.087327    12.240513      13.472589   \n",
       "2022-06-01         8.889391    22.153813    17.359212       9.915505   \n",
       "2022-07-01        10.834609    12.364268    18.749935      12.527874   \n",
       "2022-08-01         8.701614     8.654817    13.584830      16.471477   \n",
       "2022-09-01         6.454874     9.844436    13.180832      10.075059   \n",
       "2022-10-01         2.757321    13.680339    15.800783       6.812659   \n",
       "2022-11-01         3.658323    18.443425    23.769264       6.983283   \n",
       "2022-12-01         4.766604    18.923712    22.371773      17.608186   \n",
       "2023-01-01         4.339592    19.890490    15.051078      18.322800   \n",
       "2023-02-01         5.587755    12.922663    24.468157      14.100233   \n",
       "2023-03-01         6.302387     9.238794    20.648175      12.933141   \n",
       "\n",
       "              Edgware  Edgwarebury  ...  Golders Green     Hendon   \n",
       "2022-04-01  13.622858    16.651879  ...      25.295317  26.392682  \\\n",
       "2022-05-01   7.447215    11.530882  ...      24.621285  31.722049   \n",
       "2022-06-01   7.924754     7.588159  ...      17.377969  28.747407   \n",
       "2022-07-01  12.575526    10.218851  ...      18.473510  15.995666   \n",
       "2022-08-01  10.022851     9.278880  ...      24.373007  12.690391   \n",
       "2022-09-01   9.623387     6.194294  ...      24.300527  19.529257   \n",
       "2022-10-01  15.911778     6.467508  ...      17.720644  24.593462   \n",
       "2022-11-01  14.338969     5.799903  ...      17.379220  20.711277   \n",
       "2022-12-01  14.147035     9.954279  ...      12.985556  20.821793   \n",
       "2023-01-01  24.823620    18.410333  ...       8.918656  19.385820   \n",
       "2023-02-01  23.477749    13.246914  ...      14.506567  25.709394   \n",
       "2023-03-01  19.385209     7.236268  ...      14.238472  19.316808   \n",
       "\n",
       "            High Barnet  Mill Hill  Totteridge & Woodside  Underhill   \n",
       "2022-04-01    19.838657  27.201383              16.739269  11.792417  \\\n",
       "2022-05-01    15.822389  20.753193               9.955378  13.707571   \n",
       "2022-06-01    19.328937  18.910680              11.893663  14.775940   \n",
       "2022-07-01    15.468826  12.944552              14.327543  11.217531   \n",
       "2022-08-01     8.173097  11.333790              12.392010   6.359067   \n",
       "2022-09-01    11.234669  13.708424              10.152147   2.432085   \n",
       "2022-10-01    13.427125  15.707216               9.796893   4.893704   \n",
       "2022-11-01    14.802512  16.221171              10.276570  10.114365   \n",
       "2022-12-01    18.015821  19.991718              17.061730  13.179893   \n",
       "2023-01-01    16.119367  17.397228              13.961794  12.877517   \n",
       "2023-02-01    20.421076  14.947932              12.080815  13.396128   \n",
       "2023-03-01    16.378151  17.398890              16.605831  13.338898   \n",
       "\n",
       "            West Finchley  West Hendon  Whetstone  Woodhouse  \n",
       "2022-04-01      28.633863    20.463062  14.224969  20.800283  \n",
       "2022-05-01      22.186097    16.694985  15.537947  11.225184  \n",
       "2022-06-01      17.227597    15.559697  13.128223   7.725280  \n",
       "2022-07-01      15.199717    11.950809  10.683622  11.459996  \n",
       "2022-08-01      16.422705    11.586055   8.894880  14.704389  \n",
       "2022-09-01      20.792426    18.964801   9.096419  12.346287  \n",
       "2022-10-01      16.781565    16.119482   9.343750   9.328348  \n",
       "2022-11-01      15.722391    18.880199  10.505510  10.015533  \n",
       "2022-12-01      14.091956    23.351942  11.198826  15.665494  \n",
       "2023-01-01      23.461314    23.213693  18.891179  14.750636  \n",
       "2023-02-01      21.129966    14.925385  13.874909  16.971660  \n",
       "2023-03-01      21.480466    12.264592  12.395129  18.950456  \n",
       "\n",
       "[12 rows x 23 columns]"
      ]
     },
     "execution_count": 41,
     "metadata": {},
     "output_type": "execute_result"
    }
   ],
   "source": [
    "file_path2 = \"./data/12months2022-04-01\"\n",
    "\n",
    "# Read the Parquet file into a pandas DataFrame\n",
    "df2 = pd.read_parquet(file_path2)\n",
    "Y_pred = df2.copy()\n",
    "# Y_pred.reset_index(inplace=True)\n",
    "# Y_pred.drop(\"index\", axis=1, inplace=True)\n",
    "\n",
    "Y_pred"
   ]
  },
  {
   "cell_type": "code",
   "execution_count": 42,
   "metadata": {},
   "outputs": [
    {
     "data": {
      "text/plain": [
       "-11.410493302295453"
      ]
     },
     "execution_count": 42,
     "metadata": {},
     "output_type": "execute_result"
    }
   ],
   "source": [
    "from sklearn.metrics import r2_score\n",
    "r2_score(Y_true, Y_pred)\n",
    "# from sklearn.metrics import mean_squared_error\n",
    "# mean_squared_error(Y_true,Y_pred)\n",
    "# from sklearn.metrics import mean_absolute_percentage_error\n",
    "# mean_absolute_percentage_error(Y_true, Y_pred)"
   ]
  },
  {
   "cell_type": "code",
   "execution_count": 39,
   "metadata": {},
   "outputs": [
    {
     "data": {
      "text/plain": [
       "<Axes: >"
      ]
     },
     "execution_count": 39,
     "metadata": {},
     "output_type": "execute_result"
    },
    {
     "data": {
      "image/png": "[encoded data removed]",
      "text/plain": [
       "<Figure size 640x480 with 1 Axes>"
      ]
     },
     "metadata": {},
     "output_type": "display_data"
    }
   ],
   "source": [
    "Y_pred['Barnet Vale'].plot()\n"
   ]
  },
  {
   "cell_type": "code",
   "execution_count": 40,
   "metadata": {},
   "outputs": [
    {
     "data": {
      "text/plain": [
       "<Axes: xlabel='Month'>"
      ]
     },
     "execution_count": 40,
     "metadata": {},
     "output_type": "execute_result"
    },
    {
     "data": {
      "image/png": "[encoded data removed]",
      "text/plain": [
       "<Figure size 640x480 with 1 Axes>"
      ]
     },
     "metadata": {},
     "output_type": "display_data"
    }
   ],
   "source": [
    "Y_true['Barnet Vale'].plot()"
   ]
  },
  {
   "cell_type": "code",
   "execution_count": 62,
   "metadata": {},
   "outputs": [
    {
     "data": {
      "text/html": [
       "<div>\n",
       "<style scoped>\n",
       "    .dataframe tbody tr th:only-of-type {\n",
       "        vertical-align: middle;\n",
       "    }\n",
       "\n",
       "    .dataframe tbody tr th {\n",
       "        vertical-align: top;\n",
       "    }\n",
       "\n",
       "    .dataframe thead th {\n",
       "        text-align: right;\n",
       "    }\n",
       "</style>\n",
       "<table border=\"1\" class=\"dataframe\">\n",
       "  <thead>\n",
       "    <tr style=\"text-align: right;\">\n",
       "      <th></th>\n",
       "      <th>Barnet Vale</th>\n",
       "      <th>Brunswick Park</th>\n",
       "      <th>Burnt Oak</th>\n",
       "      <th>Childs Hill</th>\n",
       "      <th>Colindale North</th>\n",
       "      <th>Cricklewood</th>\n",
       "      <th>East Barnet</th>\n",
       "      <th>East Finchley</th>\n",
       "      <th>Edgware</th>\n",
       "      <th>Edgwarebury</th>\n",
       "      <th>...</th>\n",
       "      <th>Golders Green</th>\n",
       "      <th>Hendon</th>\n",
       "      <th>High Barnet</th>\n",
       "      <th>Mill Hill</th>\n",
       "      <th>Totteridge &amp; Woodside</th>\n",
       "      <th>Underhill</th>\n",
       "      <th>West Finchley</th>\n",
       "      <th>West Hendon</th>\n",
       "      <th>Whetstone</th>\n",
       "      <th>Woodhouse</th>\n",
       "    </tr>\n",
       "    <tr>\n",
       "      <th>Mon</th>\n",
       "      <th></th>\n",
       "      <th></th>\n",
       "      <th></th>\n",
       "      <th></th>\n",
       "      <th></th>\n",
       "      <th></th>\n",
       "      <th></th>\n",
       "      <th></th>\n",
       "      <th></th>\n",
       "      <th></th>\n",
       "      <th></th>\n",
       "      <th></th>\n",
       "      <th></th>\n",
       "      <th></th>\n",
       "      <th></th>\n",
       "      <th></th>\n",
       "      <th></th>\n",
       "      <th></th>\n",
       "      <th></th>\n",
       "      <th></th>\n",
       "      <th></th>\n",
       "    </tr>\n",
       "  </thead>\n",
       "  <tbody>\n",
       "    <tr>\n",
       "      <th>1</th>\n",
       "      <td>14.307692</td>\n",
       "      <td>14.384615</td>\n",
       "      <td>16.076923</td>\n",
       "      <td>22.000000</td>\n",
       "      <td>6.384615</td>\n",
       "      <td>10.153846</td>\n",
       "      <td>14.000000</td>\n",
       "      <td>10.307692</td>\n",
       "      <td>13.538462</td>\n",
       "      <td>8.846154</td>\n",
       "      <td>...</td>\n",
       "      <td>16.307692</td>\n",
       "      <td>21.000000</td>\n",
       "      <td>12.307692</td>\n",
       "      <td>17.461538</td>\n",
       "      <td>10.000000</td>\n",
       "      <td>10.000000</td>\n",
       "      <td>19.384615</td>\n",
       "      <td>14.692308</td>\n",
       "      <td>9.692308</td>\n",
       "      <td>10.538462</td>\n",
       "    </tr>\n",
       "    <tr>\n",
       "      <th>2</th>\n",
       "      <td>12.615385</td>\n",
       "      <td>15.076923</td>\n",
       "      <td>13.769231</td>\n",
       "      <td>21.538462</td>\n",
       "      <td>4.846154</td>\n",
       "      <td>12.461538</td>\n",
       "      <td>12.461538</td>\n",
       "      <td>11.538462</td>\n",
       "      <td>12.384615</td>\n",
       "      <td>8.615385</td>\n",
       "      <td>...</td>\n",
       "      <td>13.461538</td>\n",
       "      <td>18.153846</td>\n",
       "      <td>9.769231</td>\n",
       "      <td>12.230769</td>\n",
       "      <td>10.000000</td>\n",
       "      <td>7.230769</td>\n",
       "      <td>17.307692</td>\n",
       "      <td>15.000000</td>\n",
       "      <td>9.461538</td>\n",
       "      <td>10.000000</td>\n",
       "    </tr>\n",
       "    <tr>\n",
       "      <th>3</th>\n",
       "      <td>12.923077</td>\n",
       "      <td>13.384615</td>\n",
       "      <td>15.538462</td>\n",
       "      <td>22.846154</td>\n",
       "      <td>5.769231</td>\n",
       "      <td>11.769231</td>\n",
       "      <td>12.692308</td>\n",
       "      <td>10.769231</td>\n",
       "      <td>13.076923</td>\n",
       "      <td>8.230769</td>\n",
       "      <td>...</td>\n",
       "      <td>17.230769</td>\n",
       "      <td>19.538462</td>\n",
       "      <td>10.000000</td>\n",
       "      <td>14.769231</td>\n",
       "      <td>9.923077</td>\n",
       "      <td>9.153846</td>\n",
       "      <td>19.923077</td>\n",
       "      <td>17.538462</td>\n",
       "      <td>11.307692</td>\n",
       "      <td>10.692308</td>\n",
       "    </tr>\n",
       "    <tr>\n",
       "      <th>4</th>\n",
       "      <td>9.833333</td>\n",
       "      <td>10.416667</td>\n",
       "      <td>15.166667</td>\n",
       "      <td>20.166667</td>\n",
       "      <td>5.916667</td>\n",
       "      <td>10.333333</td>\n",
       "      <td>10.750000</td>\n",
       "      <td>9.333333</td>\n",
       "      <td>10.833333</td>\n",
       "      <td>7.166667</td>\n",
       "      <td>...</td>\n",
       "      <td>13.916667</td>\n",
       "      <td>18.583333</td>\n",
       "      <td>9.166667</td>\n",
       "      <td>11.666667</td>\n",
       "      <td>8.916667</td>\n",
       "      <td>8.333333</td>\n",
       "      <td>14.000000</td>\n",
       "      <td>14.500000</td>\n",
       "      <td>8.333333</td>\n",
       "      <td>10.083333</td>\n",
       "    </tr>\n",
       "    <tr>\n",
       "      <th>5</th>\n",
       "      <td>14.166667</td>\n",
       "      <td>10.833333</td>\n",
       "      <td>12.750000</td>\n",
       "      <td>20.333333</td>\n",
       "      <td>5.166667</td>\n",
       "      <td>10.583333</td>\n",
       "      <td>12.250000</td>\n",
       "      <td>11.000000</td>\n",
       "      <td>9.250000</td>\n",
       "      <td>7.000000</td>\n",
       "      <td>...</td>\n",
       "      <td>13.750000</td>\n",
       "      <td>17.000000</td>\n",
       "      <td>10.583333</td>\n",
       "      <td>11.250000</td>\n",
       "      <td>7.250000</td>\n",
       "      <td>8.166667</td>\n",
       "      <td>13.333333</td>\n",
       "      <td>16.000000</td>\n",
       "      <td>8.750000</td>\n",
       "      <td>8.666667</td>\n",
       "    </tr>\n",
       "    <tr>\n",
       "      <th>6</th>\n",
       "      <td>12.000000</td>\n",
       "      <td>9.250000</td>\n",
       "      <td>11.583333</td>\n",
       "      <td>21.333333</td>\n",
       "      <td>4.333333</td>\n",
       "      <td>10.333333</td>\n",
       "      <td>11.500000</td>\n",
       "      <td>9.583333</td>\n",
       "      <td>10.500000</td>\n",
       "      <td>5.916667</td>\n",
       "      <td>...</td>\n",
       "      <td>14.083333</td>\n",
       "      <td>18.666667</td>\n",
       "      <td>10.083333</td>\n",
       "      <td>11.750000</td>\n",
       "      <td>9.250000</td>\n",
       "      <td>7.333333</td>\n",
       "      <td>14.333333</td>\n",
       "      <td>12.750000</td>\n",
       "      <td>9.166667</td>\n",
       "      <td>10.416667</td>\n",
       "    </tr>\n",
       "    <tr>\n",
       "      <th>7</th>\n",
       "      <td>9.916667</td>\n",
       "      <td>8.416667</td>\n",
       "      <td>12.666667</td>\n",
       "      <td>19.916667</td>\n",
       "      <td>7.000000</td>\n",
       "      <td>9.500000</td>\n",
       "      <td>10.000000</td>\n",
       "      <td>9.083333</td>\n",
       "      <td>9.750000</td>\n",
       "      <td>6.750000</td>\n",
       "      <td>...</td>\n",
       "      <td>12.250000</td>\n",
       "      <td>16.583333</td>\n",
       "      <td>7.583333</td>\n",
       "      <td>11.666667</td>\n",
       "      <td>7.666667</td>\n",
       "      <td>7.833333</td>\n",
       "      <td>13.916667</td>\n",
       "      <td>13.416667</td>\n",
       "      <td>8.333333</td>\n",
       "      <td>9.833333</td>\n",
       "    </tr>\n",
       "    <tr>\n",
       "      <th>8</th>\n",
       "      <td>10.916667</td>\n",
       "      <td>9.083333</td>\n",
       "      <td>13.250000</td>\n",
       "      <td>23.166667</td>\n",
       "      <td>6.000000</td>\n",
       "      <td>8.583333</td>\n",
       "      <td>9.500000</td>\n",
       "      <td>9.583333</td>\n",
       "      <td>13.750000</td>\n",
       "      <td>8.000000</td>\n",
       "      <td>...</td>\n",
       "      <td>12.666667</td>\n",
       "      <td>17.166667</td>\n",
       "      <td>10.000000</td>\n",
       "      <td>11.666667</td>\n",
       "      <td>8.166667</td>\n",
       "      <td>6.500000</td>\n",
       "      <td>15.166667</td>\n",
       "      <td>13.083333</td>\n",
       "      <td>8.833333</td>\n",
       "      <td>8.833333</td>\n",
       "    </tr>\n",
       "    <tr>\n",
       "      <th>9</th>\n",
       "      <td>10.666667</td>\n",
       "      <td>9.666667</td>\n",
       "      <td>13.416667</td>\n",
       "      <td>18.250000</td>\n",
       "      <td>4.166667</td>\n",
       "      <td>8.916667</td>\n",
       "      <td>11.166667</td>\n",
       "      <td>10.833333</td>\n",
       "      <td>12.500000</td>\n",
       "      <td>6.583333</td>\n",
       "      <td>...</td>\n",
       "      <td>12.166667</td>\n",
       "      <td>18.083333</td>\n",
       "      <td>7.833333</td>\n",
       "      <td>10.250000</td>\n",
       "      <td>7.166667</td>\n",
       "      <td>6.416667</td>\n",
       "      <td>13.000000</td>\n",
       "      <td>15.333333</td>\n",
       "      <td>9.250000</td>\n",
       "      <td>9.333333</td>\n",
       "    </tr>\n",
       "    <tr>\n",
       "      <th>10</th>\n",
       "      <td>13.833333</td>\n",
       "      <td>14.833333</td>\n",
       "      <td>13.083333</td>\n",
       "      <td>19.250000</td>\n",
       "      <td>4.083333</td>\n",
       "      <td>10.500000</td>\n",
       "      <td>15.916667</td>\n",
       "      <td>12.000000</td>\n",
       "      <td>14.083333</td>\n",
       "      <td>6.500000</td>\n",
       "      <td>...</td>\n",
       "      <td>14.583333</td>\n",
       "      <td>21.000000</td>\n",
       "      <td>11.666667</td>\n",
       "      <td>14.333333</td>\n",
       "      <td>11.500000</td>\n",
       "      <td>9.250000</td>\n",
       "      <td>16.833333</td>\n",
       "      <td>15.166667</td>\n",
       "      <td>9.833333</td>\n",
       "      <td>11.333333</td>\n",
       "    </tr>\n",
       "    <tr>\n",
       "      <th>11</th>\n",
       "      <td>16.333333</td>\n",
       "      <td>17.166667</td>\n",
       "      <td>16.000000</td>\n",
       "      <td>27.250000</td>\n",
       "      <td>5.583333</td>\n",
       "      <td>12.916667</td>\n",
       "      <td>13.583333</td>\n",
       "      <td>13.916667</td>\n",
       "      <td>15.500000</td>\n",
       "      <td>11.000000</td>\n",
       "      <td>...</td>\n",
       "      <td>14.416667</td>\n",
       "      <td>20.500000</td>\n",
       "      <td>10.166667</td>\n",
       "      <td>15.583333</td>\n",
       "      <td>12.416667</td>\n",
       "      <td>9.750000</td>\n",
       "      <td>20.333333</td>\n",
       "      <td>18.333333</td>\n",
       "      <td>15.333333</td>\n",
       "      <td>15.666667</td>\n",
       "    </tr>\n",
       "    <tr>\n",
       "      <th>12</th>\n",
       "      <td>17.461538</td>\n",
       "      <td>12.692308</td>\n",
       "      <td>16.307692</td>\n",
       "      <td>21.076923</td>\n",
       "      <td>5.307692</td>\n",
       "      <td>11.692308</td>\n",
       "      <td>12.615385</td>\n",
       "      <td>12.230769</td>\n",
       "      <td>14.846154</td>\n",
       "      <td>9.384615</td>\n",
       "      <td>...</td>\n",
       "      <td>12.615385</td>\n",
       "      <td>22.846154</td>\n",
       "      <td>9.153846</td>\n",
       "      <td>14.230769</td>\n",
       "      <td>10.538462</td>\n",
       "      <td>9.384615</td>\n",
       "      <td>16.923077</td>\n",
       "      <td>16.230769</td>\n",
       "      <td>10.000000</td>\n",
       "      <td>9.769231</td>\n",
       "    </tr>\n",
       "  </tbody>\n",
       "</table>\n",
       "<p>12 rows × 23 columns</p>\n",
       "</div>"
      ],
      "text/plain": [
       "     Barnet Vale  Brunswick Park  Burnt Oak  Childs Hill  Colindale North   \n",
       "Mon                                                                         \n",
       "1      14.307692       14.384615  16.076923    22.000000         6.384615  \\\n",
       "2      12.615385       15.076923  13.769231    21.538462         4.846154   \n",
       "3      12.923077       13.384615  15.538462    22.846154         5.769231   \n",
       "4       9.833333       10.416667  15.166667    20.166667         5.916667   \n",
       "5      14.166667       10.833333  12.750000    20.333333         5.166667   \n",
       "6      12.000000        9.250000  11.583333    21.333333         4.333333   \n",
       "7       9.916667        8.416667  12.666667    19.916667         7.000000   \n",
       "8      10.916667        9.083333  13.250000    23.166667         6.000000   \n",
       "9      10.666667        9.666667  13.416667    18.250000         4.166667   \n",
       "10     13.833333       14.833333  13.083333    19.250000         4.083333   \n",
       "11     16.333333       17.166667  16.000000    27.250000         5.583333   \n",
       "12     17.461538       12.692308  16.307692    21.076923         5.307692   \n",
       "\n",
       "     Cricklewood  East Barnet  East Finchley    Edgware  Edgwarebury  ...   \n",
       "Mon                                                                   ...   \n",
       "1      10.153846    14.000000      10.307692  13.538462     8.846154  ...  \\\n",
       "2      12.461538    12.461538      11.538462  12.384615     8.615385  ...   \n",
       "3      11.769231    12.692308      10.769231  13.076923     8.230769  ...   \n",
       "4      10.333333    10.750000       9.333333  10.833333     7.166667  ...   \n",
       "5      10.583333    12.250000      11.000000   9.250000     7.000000  ...   \n",
       "6      10.333333    11.500000       9.583333  10.500000     5.916667  ...   \n",
       "7       9.500000    10.000000       9.083333   9.750000     6.750000  ...   \n",
       "8       8.583333     9.500000       9.583333  13.750000     8.000000  ...   \n",
       "9       8.916667    11.166667      10.833333  12.500000     6.583333  ...   \n",
       "10     10.500000    15.916667      12.000000  14.083333     6.500000  ...   \n",
       "11     12.916667    13.583333      13.916667  15.500000    11.000000  ...   \n",
       "12     11.692308    12.615385      12.230769  14.846154     9.384615  ...   \n",
       "\n",
       "     Golders Green     Hendon  High Barnet  Mill Hill  Totteridge & Woodside   \n",
       "Mon                                                                            \n",
       "1        16.307692  21.000000    12.307692  17.461538              10.000000  \\\n",
       "2        13.461538  18.153846     9.769231  12.230769              10.000000   \n",
       "3        17.230769  19.538462    10.000000  14.769231               9.923077   \n",
       "4        13.916667  18.583333     9.166667  11.666667               8.916667   \n",
       "5        13.750000  17.000000    10.583333  11.250000               7.250000   \n",
       "6        14.083333  18.666667    10.083333  11.750000               9.250000   \n",
       "7        12.250000  16.583333     7.583333  11.666667               7.666667   \n",
       "8        12.666667  17.166667    10.000000  11.666667               8.166667   \n",
       "9        12.166667  18.083333     7.833333  10.250000               7.166667   \n",
       "10       14.583333  21.000000    11.666667  14.333333              11.500000   \n",
       "11       14.416667  20.500000    10.166667  15.583333              12.416667   \n",
       "12       12.615385  22.846154     9.153846  14.230769              10.538462   \n",
       "\n",
       "     Underhill  West Finchley  West Hendon  Whetstone  Woodhouse  \n",
       "Mon                                                               \n",
       "1    10.000000      19.384615    14.692308   9.692308  10.538462  \n",
       "2     7.230769      17.307692    15.000000   9.461538  10.000000  \n",
       "3     9.153846      19.923077    17.538462  11.307692  10.692308  \n",
       "4     8.333333      14.000000    14.500000   8.333333  10.083333  \n",
       "5     8.166667      13.333333    16.000000   8.750000   8.666667  \n",
       "6     7.333333      14.333333    12.750000   9.166667  10.416667  \n",
       "7     7.833333      13.916667    13.416667   8.333333   9.833333  \n",
       "8     6.500000      15.166667    13.083333   8.833333   8.833333  \n",
       "9     6.416667      13.000000    15.333333   9.250000   9.333333  \n",
       "10    9.250000      16.833333    15.166667   9.833333  11.333333  \n",
       "11    9.750000      20.333333    18.333333  15.333333  15.666667  \n",
       "12    9.384615      16.923077    16.230769  10.000000   9.769231  \n",
       "\n",
       "[12 rows x 23 columns]"
      ]
     },
     "execution_count": 62,
     "metadata": {},
     "output_type": "execute_result"
    }
   ],
   "source": [
    "df_plot = month_embeds.copy()\n",
    "df_plot.reset_index(inplace=True)\n",
    "\n",
    "df_plot['Month'] = pd.to_datetime(df_plot['Month'])\n",
    "\n",
    "# Extract the month from the 'Date' column\n",
    "df_plot['Mon'] = df_plot['Month'].dt.month\n",
    "df_plot=df_plot.groupby(\"Mon\").mean()\n",
    "df_plot.drop(\"Month\", axis=1, inplace=True)\n",
    "df_plot\n"
   ]
  },
  {
   "cell_type": "code",
   "execution_count": 170,
   "metadata": {},
   "outputs": [
    {
     "data": {
      "text/html": [
       "<div>\n",
       "<style scoped>\n",
       "    .dataframe tbody tr th:only-of-type {\n",
       "        vertical-align: middle;\n",
       "    }\n",
       "\n",
       "    .dataframe tbody tr th {\n",
       "        vertical-align: top;\n",
       "    }\n",
       "\n",
       "    .dataframe thead th {\n",
       "        text-align: right;\n",
       "    }\n",
       "</style>\n",
       "<table border=\"1\" class=\"dataframe\">\n",
       "  <thead>\n",
       "    <tr style=\"text-align: right;\">\n",
       "      <th></th>\n",
       "      <th>Amount</th>\n",
       "    </tr>\n",
       "    <tr>\n",
       "      <th>Mon</th>\n",
       "      <th></th>\n",
       "    </tr>\n",
       "  </thead>\n",
       "  <tbody>\n",
       "    <tr>\n",
       "      <th>1</th>\n",
       "      <td>322.384615</td>\n",
       "    </tr>\n",
       "    <tr>\n",
       "      <th>2</th>\n",
       "      <td>291.615385</td>\n",
       "    </tr>\n",
       "    <tr>\n",
       "      <th>3</th>\n",
       "      <td>310.384615</td>\n",
       "    </tr>\n",
       "    <tr>\n",
       "      <th>4</th>\n",
       "      <td>263.083333</td>\n",
       "    </tr>\n",
       "    <tr>\n",
       "      <th>5</th>\n",
       "      <td>264.333333</td>\n",
       "    </tr>\n",
       "    <tr>\n",
       "      <th>6</th>\n",
       "      <td>257.833333</td>\n",
       "    </tr>\n",
       "    <tr>\n",
       "      <th>7</th>\n",
       "      <td>252.916667</td>\n",
       "    </tr>\n",
       "    <tr>\n",
       "      <th>8</th>\n",
       "      <td>261.166667</td>\n",
       "    </tr>\n",
       "    <tr>\n",
       "      <th>9</th>\n",
       "      <td>251.666667</td>\n",
       "    </tr>\n",
       "    <tr>\n",
       "      <th>10</th>\n",
       "      <td>304.666667</td>\n",
       "    </tr>\n",
       "    <tr>\n",
       "      <th>11</th>\n",
       "      <td>350.416667</td>\n",
       "    </tr>\n",
       "    <tr>\n",
       "      <th>12</th>\n",
       "      <td>309.307692</td>\n",
       "    </tr>\n",
       "  </tbody>\n",
       "</table>\n",
       "</div>"
      ],
      "text/plain": [
       "         Amount\n",
       "Mon            \n",
       "1    322.384615\n",
       "2    291.615385\n",
       "3    310.384615\n",
       "4    263.083333\n",
       "5    264.333333\n",
       "6    257.833333\n",
       "7    252.916667\n",
       "8    261.166667\n",
       "9    251.666667\n",
       "10   304.666667\n",
       "11   350.416667\n",
       "12   309.307692"
      ]
     },
     "execution_count": 170,
     "metadata": {},
     "output_type": "execute_result"
    }
   ],
   "source": [
    "import seaborn as sns\n",
    "import matplotlib.pyplot as plt\n",
    "\n",
    "df_plot = month_embeds.sum(axis=1)\n",
    "df_plot = pd.DataFrame(df_plot, columns=[\"Amount\"])\n",
    "df_plot.reset_index(inplace=True)\n",
    "\n",
    "df_plot['Month'] = pd.to_datetime(df_plot['Month'])\n",
    "\n",
    "df_plot['Mon'] = df_plot['Month'].dt.month\n",
    "\n",
    "df_plot=df_plot.groupby(\"Mon\").mean()\n",
    "\n",
    "df_plot.drop(\"Month\", axis=1, inplace=True)\n",
    "\n",
    "\n",
    "\n",
    "\n",
    "df_plot\n"
   ]
  },
  {
   "cell_type": "code",
   "execution_count": 160,
   "metadata": {},
   "outputs": [
    {
     "data": {
      "image/png": "[encoded data removed]",
      "text/plain": [
       "<Figure size 640x480 with 1 Axes>"
      ]
     },
     "metadata": {},
     "output_type": "display_data"
    }
   ],
   "source": [
    "import seaborn as sns\n",
    "import matplotlib.pyplot as plt\n",
    "\n",
    "# Assuming you have a DataFrame named 'df' with columns 'x' and 'y'\n",
    "\n",
    "# Set the style for the plot\n",
    "sns.set(style=\"whitegrid\", palette=\"colorblind\")\n",
    "\n",
    "# Create the line plot\n",
    "sns.lineplot(x=\"Mon\", y=\"Amount\", data=df_plot, linewidth=2.5, color='#15202B')\n",
    "\n",
    "# Set title and labels\n",
    "plt.title('Seasonality of Burglaries', fontsize=16, fontweight='bold', color='#15202B')\n",
    "plt.xlabel('Months', fontsize=12, fontweight='bold', color='#15202B')\n",
    "plt.ylabel('Amount of Crimes', fontsize=12, fontweight='bold', color='#15202B')\n",
    "\n",
    "# Customize the tick parameters\n",
    "plt.tick_params(axis='both', which='major', labelsize=10, width=2, color='#15202B')\n",
    "plt.tick_params(axis='both', which='minor', labelsize=8, width=2, color='#15202B')\n",
    "\n",
    "# Add grid lines\n",
    "plt.grid(True, linestyle='--', alpha=0.5)\n",
    "\n",
    "# Save the plot\n",
    "plt.savefig('line_plot_month.png', dpi=600)\n",
    "\n",
    "# Show the plot\n",
    "plt.show()\n"
   ]
  },
  {
   "cell_type": "code",
   "execution_count": 153,
   "metadata": {},
   "outputs": [
    {
     "data": {
      "text/html": [
       "<div>\n",
       "<style scoped>\n",
       "    .dataframe tbody tr th:only-of-type {\n",
       "        vertical-align: middle;\n",
       "    }\n",
       "\n",
       "    .dataframe tbody tr th {\n",
       "        vertical-align: top;\n",
       "    }\n",
       "\n",
       "    .dataframe thead th {\n",
       "        text-align: right;\n",
       "    }\n",
       "</style>\n",
       "<table border=\"1\" class=\"dataframe\">\n",
       "  <thead>\n",
       "    <tr style=\"text-align: right;\">\n",
       "      <th></th>\n",
       "      <th>Barnet Vale</th>\n",
       "      <th>Brunswick Park</th>\n",
       "      <th>Burnt Oak</th>\n",
       "      <th>Childs Hill</th>\n",
       "      <th>Colindale North</th>\n",
       "      <th>Cricklewood</th>\n",
       "      <th>East Barnet</th>\n",
       "      <th>East Finchley</th>\n",
       "      <th>Edgware</th>\n",
       "      <th>Edgwarebury</th>\n",
       "      <th>...</th>\n",
       "      <th>Golders Green</th>\n",
       "      <th>Hendon</th>\n",
       "      <th>High Barnet</th>\n",
       "      <th>Mill Hill</th>\n",
       "      <th>Totteridge &amp; Woodside</th>\n",
       "      <th>Underhill</th>\n",
       "      <th>West Finchley</th>\n",
       "      <th>West Hendon</th>\n",
       "      <th>Whetstone</th>\n",
       "      <th>Woodhouse</th>\n",
       "    </tr>\n",
       "  </thead>\n",
       "  <tbody>\n",
       "    <tr>\n",
       "      <th>0</th>\n",
       "      <td>1917</td>\n",
       "      <td>1798</td>\n",
       "      <td>2097</td>\n",
       "      <td>3173</td>\n",
       "      <td>797</td>\n",
       "      <td>1579</td>\n",
       "      <td>1809</td>\n",
       "      <td>1607</td>\n",
       "      <td>1854</td>\n",
       "      <td>1163</td>\n",
       "      <td>...</td>\n",
       "      <td>2069</td>\n",
       "      <td>2831</td>\n",
       "      <td>1461</td>\n",
       "      <td>1941</td>\n",
       "      <td>1394</td>\n",
       "      <td>1228</td>\n",
       "      <td>2407</td>\n",
       "      <td>2248</td>\n",
       "      <td>1460</td>\n",
       "      <td>1543</td>\n",
       "    </tr>\n",
       "  </tbody>\n",
       "</table>\n",
       "<p>1 rows × 23 columns</p>\n",
       "</div>"
      ],
      "text/plain": [
       "   Barnet Vale  Brunswick Park  Burnt Oak  Childs Hill  Colindale North   \n",
       "0         1917            1798       2097         3173              797  \\\n",
       "\n",
       "   Cricklewood  East Barnet  East Finchley  Edgware  Edgwarebury  ...   \n",
       "0         1579         1809           1607     1854         1163  ...  \\\n",
       "\n",
       "   Golders Green  Hendon  High Barnet  Mill Hill  Totteridge & Woodside   \n",
       "0           2069    2831         1461       1941                   1394  \\\n",
       "\n",
       "   Underhill  West Finchley  West Hendon  Whetstone  Woodhouse  \n",
       "0       1228           2407         2248       1460       1543  \n",
       "\n",
       "[1 rows x 23 columns]"
      ]
     },
     "execution_count": 153,
     "metadata": {},
     "output_type": "execute_result"
    }
   ],
   "source": [
    "df_bar= month_embeds.copy()\n",
    "df_bar.reset_index(inplace=True)\n",
    "df_bar.drop(\"Month\",axis=1,inplace=True)\n",
    "import pandas as pd\n",
    "\n",
    "\n",
    "sum_row = df_bar.sum()\n",
    "\n",
    "# Convert the summed values into a DataFrame\n",
    "sum_df = pd.DataFrame(sum_row).T\n",
    "\n",
    "# Display the summed values\n",
    "sum_df\n"
   ]
  },
  {
   "cell_type": "code",
   "execution_count": 149,
   "metadata": {},
   "outputs": [
    {
     "data": {
      "image/png": "[encoded data removed]",
      "text/plain": [
       "<Figure size 1000x600 with 1 Axes>"
      ]
     },
     "metadata": {},
     "output_type": "display_data"
    }
   ],
   "source": [
    "import seaborn as sns\n",
    "import matplotlib.pyplot as plt\n",
    "\n",
    "# Assuming you have a DataFrame named 'crimes_data' with relevant crime data\n",
    "\n",
    "# Set the style for the plot\n",
    "sns.set(style=\"whitegrid\")\n",
    "\n",
    "# Define the color palette\n",
    "colors = [\"#15202B\", \"#E53E3E\", \"#D3D3D3\"]  # Dark Blue, Red, Gray\n",
    "\n",
    "# Create the bar chart\n",
    "plt.figure(figsize=(10, 6))  # Adjust the figure size as needed\n",
    "ax = sns.barplot(data=sum_df, palette=colors)\n",
    "\n",
    "# Set title and labels\n",
    "plt.title('Burglaries in Wards', fontsize=16, fontweight='bold', color='#15202B')\n",
    "plt.xlabel('', fontsize=12, fontweight='bold', color='#15202B')\n",
    "plt.ylabel('Amount of Burglaries', fontsize=12, fontweight='bold', color='#15202B')\n",
    "\n",
    "# Customize the tick parameters\n",
    "plt.tick_params(axis='both', which='major', labelsize=10, width=2, color='#15202B')\n",
    "plt.tick_params(axis='both', which='minor', labelsize=8, width=2, color='#15202B')\n",
    "\n",
    "# Rotate x-axis labels if needed and adjust their positioning\n",
    "plt.xticks(rotation=45, ha='right', color='#15202B')\n",
    "\n",
    "# Adjust y-axis label to improve spacing\n",
    "ax.yaxis.labelpad = 10  # Increase or decrease the padding as needed\n",
    "\n",
    "# Customize the plot background and gridlines\n",
    "ax.set_facecolor('#FFFFFF')  # White background\n",
    "ax.grid(color='#D3D3D3', linestyle='--')\n",
    "\n",
    "# Show the plot\n",
    "plt.tight_layout()  # Adjust the spacing of the plot elements\n",
    "\n",
    "plt.savefig('barplot.png', dpi=600)"
   ]
  },
  {
   "cell_type": "code",
   "execution_count": 179,
   "metadata": {},
   "outputs": [],
   "source": [
    "import seaborn as sns\n",
    "import matplotlib.pyplot as plt\n",
    "\n",
    "df_year = month_embeds.sum(axis=1)\n",
    "df_year = pd.DataFrame(df_year, columns=[\"Amount\"])\n",
    "df_year.reset_index(inplace=True)\n",
    "\n",
    "df_year['Month'] = pd.to_datetime(df_year['Month'])\n",
    "\n",
    "df_year['Year'] = df_year['Month'].dt.year\n",
    "\n",
    "\n",
    "\n",
    "df_year.drop(\"Month\", axis=1, inplace=True)\n",
    "df_year=df_year.groupby(\"Year\").sum()\n",
    "\n",
    "\n",
    "\n",
    "\n"
   ]
  },
  {
   "cell_type": "code",
   "execution_count": 159,
   "metadata": {},
   "outputs": [
    {
     "data": {
      "image/png": "[encoded data removed]",
      "text/plain": [
       "<Figure size 640x480 with 1 Axes>"
      ]
     },
     "metadata": {},
     "output_type": "display_data"
    }
   ],
   "source": [
    "import seaborn as sns\n",
    "import matplotlib.pyplot as plt\n",
    "\n",
    "# Assuming you have a DataFrame named 'df' with columns 'x' and 'y'\n",
    "\n",
    "# Set the style for the plot\n",
    "sns.set(style=\"whitegrid\", palette=\"colorblind\")\n",
    "\n",
    "# Create the line plot\n",
    "sns.lineplot(x=\"Year\", y=\"Amount\", data=df_year, linewidth=2.5, color='#15202B')\n",
    "\n",
    "# Set title and labels\n",
    "plt.title('Burglaries Across The Years', fontsize=16, fontweight='bold', color='#15202B')\n",
    "plt.xlabel('Years', fontsize=12, fontweight='bold', color='#15202B')\n",
    "plt.ylabel('Amount of Burglaries', fontsize=12, fontweight='bold', color='#15202B')\n",
    "\n",
    "# Customize the tick parameters\n",
    "plt.tick_params(axis='both', which='major', labelsize=10, width=2, color='#15202B')\n",
    "plt.tick_params(axis='both', which='minor', labelsize=8, width=2, color='#15202B')\n",
    "\n",
    "# Add grid lines\n",
    "plt.grid(True, linestyle='--', alpha=0.5)\n",
    "\n",
    "# Save the plot\n",
    "plt.savefig('lineplot_year.png', dpi=600)\n",
    "\n",
    "# Show the plot\n",
    "plt.show()\n"
   ]
  },
  {
   "attachments": {},
   "cell_type": "markdown",
   "metadata": {},
   "source": [
    "Neural Prophet"
   ]
  },
  {
   "cell_type": "code",
   "execution_count": 3,
   "metadata": {},
   "outputs": [
    {
     "name": "stderr",
     "output_type": "stream",
     "text": [
      "c:\\Users\\20211445\\AppData\\Local\\Programs\\Python\\Python38\\lib\\site-packages\\tqdm\\auto.py:21: TqdmWarning: IProgress not found. Please update jupyter and ipywidgets. See https://ipywidgets.readthedocs.io/en/stable/user_install.html\n",
      "  from .autonotebook import tqdm as notebook_tqdm\n",
      "c:\\Users\\20211445\\AppData\\Local\\Programs\\Python\\Python38\\lib\\site-packages\\plotly_resampler\\aggregation\\aggregators.py:25: UserWarning: Could not import lttbc; will use a (slower) python alternative.\n",
      "  warnings.warn(\"Could not import lttbc; will use a (slower) python alternative.\")\n"
     ]
    }
   ],
   "source": [
    "from neuralprophet import NeuralProphet"
   ]
  },
  {
   "cell_type": "code",
   "execution_count": 4,
   "metadata": {},
   "outputs": [
    {
     "data": {
      "text/html": [
       "<div>\n",
       "<style scoped>\n",
       "    .dataframe tbody tr th:only-of-type {\n",
       "        vertical-align: middle;\n",
       "    }\n",
       "\n",
       "    .dataframe tbody tr th {\n",
       "        vertical-align: top;\n",
       "    }\n",
       "\n",
       "    .dataframe thead th {\n",
       "        text-align: right;\n",
       "    }\n",
       "</style>\n",
       "<table border=\"1\" class=\"dataframe\">\n",
       "  <thead>\n",
       "    <tr style=\"text-align: right;\">\n",
       "      <th></th>\n",
       "      <th>ds</th>\n",
       "      <th>Barnet Vale</th>\n",
       "      <th>Brunswick Park</th>\n",
       "      <th>Burnt Oak</th>\n",
       "      <th>Childs Hill</th>\n",
       "      <th>Colindale North</th>\n",
       "      <th>Cricklewood</th>\n",
       "      <th>East Barnet</th>\n",
       "      <th>East Finchley</th>\n",
       "      <th>Edgware</th>\n",
       "      <th>...</th>\n",
       "      <th>Golders Green</th>\n",
       "      <th>Hendon</th>\n",
       "      <th>High Barnet</th>\n",
       "      <th>Mill Hill</th>\n",
       "      <th>Totteridge &amp; Woodside</th>\n",
       "      <th>Underhill</th>\n",
       "      <th>West Finchley</th>\n",
       "      <th>West Hendon</th>\n",
       "      <th>Whetstone</th>\n",
       "      <th>Woodhouse</th>\n",
       "    </tr>\n",
       "  </thead>\n",
       "  <tbody>\n",
       "    <tr>\n",
       "      <th>0</th>\n",
       "      <td>2010-12-01</td>\n",
       "      <td>13</td>\n",
       "      <td>13</td>\n",
       "      <td>10</td>\n",
       "      <td>20</td>\n",
       "      <td>7</td>\n",
       "      <td>11</td>\n",
       "      <td>16</td>\n",
       "      <td>18</td>\n",
       "      <td>20</td>\n",
       "      <td>...</td>\n",
       "      <td>13</td>\n",
       "      <td>33</td>\n",
       "      <td>14</td>\n",
       "      <td>25</td>\n",
       "      <td>10</td>\n",
       "      <td>8</td>\n",
       "      <td>27</td>\n",
       "      <td>16</td>\n",
       "      <td>9</td>\n",
       "      <td>10</td>\n",
       "    </tr>\n",
       "    <tr>\n",
       "      <th>1</th>\n",
       "      <td>2011-01-01</td>\n",
       "      <td>23</td>\n",
       "      <td>15</td>\n",
       "      <td>14</td>\n",
       "      <td>41</td>\n",
       "      <td>5</td>\n",
       "      <td>13</td>\n",
       "      <td>20</td>\n",
       "      <td>19</td>\n",
       "      <td>12</td>\n",
       "      <td>...</td>\n",
       "      <td>28</td>\n",
       "      <td>29</td>\n",
       "      <td>21</td>\n",
       "      <td>30</td>\n",
       "      <td>17</td>\n",
       "      <td>15</td>\n",
       "      <td>30</td>\n",
       "      <td>19</td>\n",
       "      <td>14</td>\n",
       "      <td>21</td>\n",
       "    </tr>\n",
       "    <tr>\n",
       "      <th>2</th>\n",
       "      <td>2011-02-01</td>\n",
       "      <td>20</td>\n",
       "      <td>22</td>\n",
       "      <td>10</td>\n",
       "      <td>24</td>\n",
       "      <td>5</td>\n",
       "      <td>20</td>\n",
       "      <td>12</td>\n",
       "      <td>13</td>\n",
       "      <td>13</td>\n",
       "      <td>...</td>\n",
       "      <td>19</td>\n",
       "      <td>24</td>\n",
       "      <td>15</td>\n",
       "      <td>18</td>\n",
       "      <td>13</td>\n",
       "      <td>5</td>\n",
       "      <td>23</td>\n",
       "      <td>22</td>\n",
       "      <td>15</td>\n",
       "      <td>17</td>\n",
       "    </tr>\n",
       "    <tr>\n",
       "      <th>3</th>\n",
       "      <td>2011-03-01</td>\n",
       "      <td>15</td>\n",
       "      <td>13</td>\n",
       "      <td>6</td>\n",
       "      <td>33</td>\n",
       "      <td>8</td>\n",
       "      <td>25</td>\n",
       "      <td>13</td>\n",
       "      <td>14</td>\n",
       "      <td>4</td>\n",
       "      <td>...</td>\n",
       "      <td>30</td>\n",
       "      <td>39</td>\n",
       "      <td>17</td>\n",
       "      <td>23</td>\n",
       "      <td>8</td>\n",
       "      <td>22</td>\n",
       "      <td>22</td>\n",
       "      <td>12</td>\n",
       "      <td>17</td>\n",
       "      <td>6</td>\n",
       "    </tr>\n",
       "    <tr>\n",
       "      <th>4</th>\n",
       "      <td>2011-04-01</td>\n",
       "      <td>25</td>\n",
       "      <td>15</td>\n",
       "      <td>16</td>\n",
       "      <td>37</td>\n",
       "      <td>6</td>\n",
       "      <td>28</td>\n",
       "      <td>15</td>\n",
       "      <td>8</td>\n",
       "      <td>9</td>\n",
       "      <td>...</td>\n",
       "      <td>20</td>\n",
       "      <td>33</td>\n",
       "      <td>18</td>\n",
       "      <td>15</td>\n",
       "      <td>16</td>\n",
       "      <td>18</td>\n",
       "      <td>23</td>\n",
       "      <td>15</td>\n",
       "      <td>17</td>\n",
       "      <td>11</td>\n",
       "    </tr>\n",
       "    <tr>\n",
       "      <th>...</th>\n",
       "      <td>...</td>\n",
       "      <td>...</td>\n",
       "      <td>...</td>\n",
       "      <td>...</td>\n",
       "      <td>...</td>\n",
       "      <td>...</td>\n",
       "      <td>...</td>\n",
       "      <td>...</td>\n",
       "      <td>...</td>\n",
       "      <td>...</td>\n",
       "      <td>...</td>\n",
       "      <td>...</td>\n",
       "      <td>...</td>\n",
       "      <td>...</td>\n",
       "      <td>...</td>\n",
       "      <td>...</td>\n",
       "      <td>...</td>\n",
       "      <td>...</td>\n",
       "      <td>...</td>\n",
       "      <td>...</td>\n",
       "      <td>...</td>\n",
       "    </tr>\n",
       "    <tr>\n",
       "      <th>143</th>\n",
       "      <td>2022-11-01</td>\n",
       "      <td>5</td>\n",
       "      <td>4</td>\n",
       "      <td>11</td>\n",
       "      <td>32</td>\n",
       "      <td>5</td>\n",
       "      <td>15</td>\n",
       "      <td>5</td>\n",
       "      <td>3</td>\n",
       "      <td>8</td>\n",
       "      <td>...</td>\n",
       "      <td>10</td>\n",
       "      <td>18</td>\n",
       "      <td>10</td>\n",
       "      <td>7</td>\n",
       "      <td>13</td>\n",
       "      <td>5</td>\n",
       "      <td>16</td>\n",
       "      <td>11</td>\n",
       "      <td>11</td>\n",
       "      <td>15</td>\n",
       "    </tr>\n",
       "    <tr>\n",
       "      <th>144</th>\n",
       "      <td>2022-12-01</td>\n",
       "      <td>9</td>\n",
       "      <td>5</td>\n",
       "      <td>13</td>\n",
       "      <td>21</td>\n",
       "      <td>6</td>\n",
       "      <td>13</td>\n",
       "      <td>11</td>\n",
       "      <td>6</td>\n",
       "      <td>10</td>\n",
       "      <td>...</td>\n",
       "      <td>6</td>\n",
       "      <td>12</td>\n",
       "      <td>0</td>\n",
       "      <td>13</td>\n",
       "      <td>15</td>\n",
       "      <td>3</td>\n",
       "      <td>9</td>\n",
       "      <td>9</td>\n",
       "      <td>10</td>\n",
       "      <td>7</td>\n",
       "    </tr>\n",
       "    <tr>\n",
       "      <th>145</th>\n",
       "      <td>2023-01-01</td>\n",
       "      <td>5</td>\n",
       "      <td>7</td>\n",
       "      <td>11</td>\n",
       "      <td>21</td>\n",
       "      <td>5</td>\n",
       "      <td>13</td>\n",
       "      <td>9</td>\n",
       "      <td>5</td>\n",
       "      <td>10</td>\n",
       "      <td>...</td>\n",
       "      <td>11</td>\n",
       "      <td>15</td>\n",
       "      <td>9</td>\n",
       "      <td>10</td>\n",
       "      <td>15</td>\n",
       "      <td>5</td>\n",
       "      <td>17</td>\n",
       "      <td>11</td>\n",
       "      <td>0</td>\n",
       "      <td>4</td>\n",
       "    </tr>\n",
       "    <tr>\n",
       "      <th>146</th>\n",
       "      <td>2023-02-01</td>\n",
       "      <td>2</td>\n",
       "      <td>14</td>\n",
       "      <td>4</td>\n",
       "      <td>21</td>\n",
       "      <td>3</td>\n",
       "      <td>15</td>\n",
       "      <td>5</td>\n",
       "      <td>5</td>\n",
       "      <td>11</td>\n",
       "      <td>...</td>\n",
       "      <td>6</td>\n",
       "      <td>11</td>\n",
       "      <td>7</td>\n",
       "      <td>12</td>\n",
       "      <td>12</td>\n",
       "      <td>2</td>\n",
       "      <td>5</td>\n",
       "      <td>10</td>\n",
       "      <td>3</td>\n",
       "      <td>6</td>\n",
       "    </tr>\n",
       "    <tr>\n",
       "      <th>147</th>\n",
       "      <td>2023-03-01</td>\n",
       "      <td>7</td>\n",
       "      <td>13</td>\n",
       "      <td>11</td>\n",
       "      <td>20</td>\n",
       "      <td>7</td>\n",
       "      <td>9</td>\n",
       "      <td>8</td>\n",
       "      <td>9</td>\n",
       "      <td>8</td>\n",
       "      <td>...</td>\n",
       "      <td>14</td>\n",
       "      <td>13</td>\n",
       "      <td>6</td>\n",
       "      <td>7</td>\n",
       "      <td>12</td>\n",
       "      <td>1</td>\n",
       "      <td>13</td>\n",
       "      <td>9</td>\n",
       "      <td>4</td>\n",
       "      <td>7</td>\n",
       "    </tr>\n",
       "  </tbody>\n",
       "</table>\n",
       "<p>148 rows × 24 columns</p>\n",
       "</div>"
      ],
      "text/plain": [
       "            ds  Barnet Vale  Brunswick Park  Burnt Oak  Childs Hill  \\\n",
       "0   2010-12-01           13              13         10           20   \n",
       "1   2011-01-01           23              15         14           41   \n",
       "2   2011-02-01           20              22         10           24   \n",
       "3   2011-03-01           15              13          6           33   \n",
       "4   2011-04-01           25              15         16           37   \n",
       "..         ...          ...             ...        ...          ...   \n",
       "143 2022-11-01            5               4         11           32   \n",
       "144 2022-12-01            9               5         13           21   \n",
       "145 2023-01-01            5               7         11           21   \n",
       "146 2023-02-01            2              14          4           21   \n",
       "147 2023-03-01            7              13         11           20   \n",
       "\n",
       "     Colindale North  Cricklewood  East Barnet  East Finchley  Edgware  ...  \\\n",
       "0                  7           11           16             18       20  ...   \n",
       "1                  5           13           20             19       12  ...   \n",
       "2                  5           20           12             13       13  ...   \n",
       "3                  8           25           13             14        4  ...   \n",
       "4                  6           28           15              8        9  ...   \n",
       "..               ...          ...          ...            ...      ...  ...   \n",
       "143                5           15            5              3        8  ...   \n",
       "144                6           13           11              6       10  ...   \n",
       "145                5           13            9              5       10  ...   \n",
       "146                3           15            5              5       11  ...   \n",
       "147                7            9            8              9        8  ...   \n",
       "\n",
       "     Golders Green  Hendon  High Barnet  Mill Hill  Totteridge & Woodside  \\\n",
       "0               13      33           14         25                     10   \n",
       "1               28      29           21         30                     17   \n",
       "2               19      24           15         18                     13   \n",
       "3               30      39           17         23                      8   \n",
       "4               20      33           18         15                     16   \n",
       "..             ...     ...          ...        ...                    ...   \n",
       "143             10      18           10          7                     13   \n",
       "144              6      12            0         13                     15   \n",
       "145             11      15            9         10                     15   \n",
       "146              6      11            7         12                     12   \n",
       "147             14      13            6          7                     12   \n",
       "\n",
       "     Underhill  West Finchley  West Hendon  Whetstone  Woodhouse  \n",
       "0            8             27           16          9         10  \n",
       "1           15             30           19         14         21  \n",
       "2            5             23           22         15         17  \n",
       "3           22             22           12         17          6  \n",
       "4           18             23           15         17         11  \n",
       "..         ...            ...          ...        ...        ...  \n",
       "143          5             16           11         11         15  \n",
       "144          3              9            9         10          7  \n",
       "145          5             17           11          0          4  \n",
       "146          2              5           10          3          6  \n",
       "147          1             13            9          4          7  \n",
       "\n",
       "[148 rows x 24 columns]"
      ]
     },
     "execution_count": 4,
     "metadata": {},
     "output_type": "execute_result"
    }
   ],
   "source": [
    "df_prophet = month_embeds.copy()\n",
    "df_prophet.reset_index(inplace=True)\n",
    "# Assuming you have a DataFrame named 'df' with two columns: 'ds' for the dates and 'y' for the target variable\n",
    "\n",
    "# Convert the 'ds' column to pandas datetime type\n",
    "df_prophet['Month'] = pd.to_datetime(df_prophet['Month'])\n",
    "df_prophet = df_prophet.rename(columns={'Month': 'ds'})\n",
    "\n",
    "df_prophet\n"
   ]
  },
  {
   "cell_type": "code",
   "execution_count": 6,
   "metadata": {},
   "outputs": [
    {
     "name": "stderr",
     "output_type": "stream",
     "text": [
      "WARNING - (py.warnings._showwarnmsg) - C:\\Users\\20211445\\AppData\\Local\\Temp\\ipykernel_7180\\2544630692.py:21: SettingWithCopyWarning: \n",
      "A value is trying to be set on a copy of a slice from a DataFrame.\n",
      "Try using .loc[row_indexer,col_indexer] = value instead\n",
      "\n",
      "See the caveats in the documentation: https://pandas.pydata.org/pandas-docs/stable/user_guide/indexing.html#returning-a-view-versus-a-copy\n",
      "  train_df['y'] = scaler.fit_transform(train_df['y'].values.reshape(-1, 1))\n",
      "\n",
      "WARNING - (NP.forecaster.fit) - When Global modeling with local normalization, metrics are displayed in normalized scale.\n",
      "INFO - (NP.df_utils._infer_frequency) - Major frequency MS corresponds to [99.265]% of the data.\n",
      "INFO - (NP.df_utils._infer_frequency) - Defined frequency is equal to major frequency - MS\n",
      "INFO - (NP.config.init_data_params) - Setting normalization to global as only one dataframe provided for training.\n",
      "INFO - (NP.utils.set_auto_seasonalities) - Disabling weekly seasonality. Run NeuralProphet with weekly_seasonality=True to override this.\n",
      "INFO - (NP.utils.set_auto_seasonalities) - Disabling daily seasonality. Run NeuralProphet with daily_seasonality=True to override this.\n",
      "INFO - (NP.config.set_auto_batch_epoch) - Auto-set batch_size to 16\n",
      "INFO - (NP.config.set_auto_batch_epoch) - Auto-set epochs to 449\n",
      "WARNING - (NP.config.set_lr_finder_args) - Learning rate finder: The number of batches (9) is too small than the required number for the learning rate finder (209). The results might not be optimal.\n",
      "Finding best initial lr: 100%|██████████| 209/209 [00:00<00:00, 283.29it/s]\n"
     ]
    },
    {
     "name": "stdout",
     "output_type": "stream",
     "text": [
      "Epoch 449: 100%|██████████| 449/449 [00:00<00:00, 11847.27it/s, loss=0.0155, v_num=40, MAE=0.537, RMSE=0.681, Loss=0.0156, RegLoss=0.000] "
     ]
    },
    {
     "name": "stderr",
     "output_type": "stream",
     "text": [
      "INFO - (NP.df_utils._infer_frequency) - Major frequency MS corresponds to [99.265]% of the data.\n",
      "INFO - (NP.df_utils._infer_frequency) - Defined frequency is equal to major frequency - MS\n"
     ]
    },
    {
     "name": "stdout",
     "output_type": "stream",
     "text": [
      "\n"
     ]
    },
    {
     "name": "stderr",
     "output_type": "stream",
     "text": [
      "INFO - (NP.df_utils.return_df_in_original_format) - Returning df with no ID column\n",
      "INFO - (NP.df_utils._infer_frequency) - Major frequency MS corresponds to [99.324]% of the data.\n",
      "INFO - (NP.df_utils._infer_frequency) - Defined frequency is equal to major frequency - MS\n",
      "INFO - (NP.df_utils._infer_frequency) - Major frequency MS corresponds to [99.324]% of the data.\n",
      "INFO - (NP.df_utils._infer_frequency) - Defined frequency is equal to major frequency - MS\n"
     ]
    },
    {
     "name": "stdout",
     "output_type": "stream",
     "text": [
      "Predicting DataLoader 0: 100%|██████████| 1/1 [00:00<00:00, 334.26it/s]"
     ]
    },
    {
     "name": "stderr",
     "output_type": "stream",
     "text": [
      "INFO - (NP.df_utils.return_df_in_original_format) - Returning df with no ID column\n"
     ]
    },
    {
     "name": "stdout",
     "output_type": "stream",
     "text": [
      "\n"
     ]
    },
    {
     "name": "stderr",
     "output_type": "stream",
     "text": [
      "WARNING - (py.warnings._showwarnmsg) - C:\\Users\\20211445\\AppData\\Local\\Temp\\ipykernel_7180\\2544630692.py:21: SettingWithCopyWarning: \n",
      "A value is trying to be set on a copy of a slice from a DataFrame.\n",
      "Try using .loc[row_indexer,col_indexer] = value instead\n",
      "\n",
      "See the caveats in the documentation: https://pandas.pydata.org/pandas-docs/stable/user_guide/indexing.html#returning-a-view-versus-a-copy\n",
      "  train_df['y'] = scaler.fit_transform(train_df['y'].values.reshape(-1, 1))\n",
      "\n",
      "WARNING - (NP.forecaster.fit) - When Global modeling with local normalization, metrics are displayed in normalized scale.\n",
      "INFO - (NP.df_utils._infer_frequency) - Major frequency MS corresponds to [99.265]% of the data.\n",
      "INFO - (NP.df_utils._infer_frequency) - Defined frequency is equal to major frequency - MS\n",
      "INFO - (NP.config.init_data_params) - Setting normalization to global as only one dataframe provided for training.\n",
      "INFO - (NP.utils.set_auto_seasonalities) - Disabling weekly seasonality. Run NeuralProphet with weekly_seasonality=True to override this.\n",
      "INFO - (NP.utils.set_auto_seasonalities) - Disabling daily seasonality. Run NeuralProphet with daily_seasonality=True to override this.\n",
      "INFO - (NP.config.set_auto_batch_epoch) - Auto-set batch_size to 16\n",
      "INFO - (NP.config.set_auto_batch_epoch) - Auto-set epochs to 449\n",
      "WARNING - (NP.config.set_lr_finder_args) - Learning rate finder: The number of batches (9) is too small than the required number for the learning rate finder (209). The results might not be optimal.\n",
      "Finding best initial lr: 100%|██████████| 209/209 [00:00<00:00, 251.24it/s]\n"
     ]
    },
    {
     "name": "stdout",
     "output_type": "stream",
     "text": [
      "Epoch 449: 100%|██████████| 449/449 [00:00<00:00, 10811.80it/s, loss=0.0106, v_num=41, MAE=0.521, RMSE=0.644, Loss=0.0105, RegLoss=0.000]   "
     ]
    },
    {
     "name": "stderr",
     "output_type": "stream",
     "text": [
      "INFO - (NP.df_utils._infer_frequency) - Major frequency MS corresponds to [99.265]% of the data.\n",
      "INFO - (NP.df_utils._infer_frequency) - Defined frequency is equal to major frequency - MS\n"
     ]
    },
    {
     "name": "stdout",
     "output_type": "stream",
     "text": [
      "\n"
     ]
    },
    {
     "name": "stderr",
     "output_type": "stream",
     "text": [
      "INFO - (NP.df_utils.return_df_in_original_format) - Returning df with no ID column\n",
      "INFO - (NP.df_utils._infer_frequency) - Major frequency MS corresponds to [99.324]% of the data.\n",
      "INFO - (NP.df_utils._infer_frequency) - Defined frequency is equal to major frequency - MS\n",
      "INFO - (NP.df_utils._infer_frequency) - Major frequency MS corresponds to [99.324]% of the data.\n",
      "INFO - (NP.df_utils._infer_frequency) - Defined frequency is equal to major frequency - MS\n"
     ]
    },
    {
     "name": "stdout",
     "output_type": "stream",
     "text": [
      "Predicting DataLoader 0: 100%|██████████| 1/1 [00:00<00:00, 250.63it/s]\n"
     ]
    },
    {
     "name": "stderr",
     "output_type": "stream",
     "text": [
      "INFO - (NP.df_utils.return_df_in_original_format) - Returning df with no ID column\n",
      "WARNING - (py.warnings._showwarnmsg) - C:\\Users\\20211445\\AppData\\Local\\Temp\\ipykernel_7180\\2544630692.py:21: SettingWithCopyWarning: \n",
      "A value is trying to be set on a copy of a slice from a DataFrame.\n",
      "Try using .loc[row_indexer,col_indexer] = value instead\n",
      "\n",
      "See the caveats in the documentation: https://pandas.pydata.org/pandas-docs/stable/user_guide/indexing.html#returning-a-view-versus-a-copy\n",
      "  train_df['y'] = scaler.fit_transform(train_df['y'].values.reshape(-1, 1))\n",
      "\n",
      "WARNING - (NP.forecaster.fit) - When Global modeling with local normalization, metrics are displayed in normalized scale.\n",
      "INFO - (NP.df_utils._infer_frequency) - Major frequency MS corresponds to [99.265]% of the data.\n",
      "INFO - (NP.df_utils._infer_frequency) - Defined frequency is equal to major frequency - MS\n",
      "INFO - (NP.config.init_data_params) - Setting normalization to global as only one dataframe provided for training.\n",
      "INFO - (NP.utils.set_auto_seasonalities) - Disabling weekly seasonality. Run NeuralProphet with weekly_seasonality=True to override this.\n",
      "INFO - (NP.utils.set_auto_seasonalities) - Disabling daily seasonality. Run NeuralProphet with daily_seasonality=True to override this.\n",
      "INFO - (NP.config.set_auto_batch_epoch) - Auto-set batch_size to 16\n",
      "INFO - (NP.config.set_auto_batch_epoch) - Auto-set epochs to 449\n",
      "WARNING - (NP.config.set_lr_finder_args) - Learning rate finder: The number of batches (9) is too small than the required number for the learning rate finder (209). The results might not be optimal.\n",
      "Finding best initial lr: 100%|██████████| 209/209 [00:00<00:00, 211.22it/s]\n"
     ]
    },
    {
     "name": "stdout",
     "output_type": "stream",
     "text": [
      "Epoch 449: 100%|██████████| 449/449 [00:00<00:00, 10718.51it/s, loss=0.0196, v_num=42, MAE=0.649, RMSE=0.826, Loss=0.0196, RegLoss=0.000] \n"
     ]
    },
    {
     "name": "stderr",
     "output_type": "stream",
     "text": [
      "INFO - (NP.df_utils._infer_frequency) - Major frequency MS corresponds to [99.265]% of the data.\n",
      "INFO - (NP.df_utils._infer_frequency) - Defined frequency is equal to major frequency - MS\n",
      "INFO - (NP.df_utils.return_df_in_original_format) - Returning df with no ID column\n",
      "INFO - (NP.df_utils._infer_frequency) - Major frequency MS corresponds to [99.324]% of the data.\n",
      "INFO - (NP.df_utils._infer_frequency) - Defined frequency is equal to major frequency - MS\n",
      "INFO - (NP.df_utils._infer_frequency) - Major frequency MS corresponds to [99.324]% of the data.\n",
      "INFO - (NP.df_utils._infer_frequency) - Defined frequency is equal to major frequency - MS\n"
     ]
    },
    {
     "name": "stdout",
     "output_type": "stream",
     "text": [
      "Predicting DataLoader 0: 100%|██████████| 1/1 [00:00<00:00, 250.75it/s]"
     ]
    },
    {
     "name": "stderr",
     "output_type": "stream",
     "text": [
      "INFO - (NP.df_utils.return_df_in_original_format) - Returning df with no ID column\n",
      "WARNING - (py.warnings._showwarnmsg) - C:\\Users\\20211445\\AppData\\Local\\Temp\\ipykernel_7180\\2544630692.py:21: SettingWithCopyWarning: \n",
      "A value is trying to be set on a copy of a slice from a DataFrame.\n",
      "Try using .loc[row_indexer,col_indexer] = value instead\n",
      "\n",
      "See the caveats in the documentation: https://pandas.pydata.org/pandas-docs/stable/user_guide/indexing.html#returning-a-view-versus-a-copy\n",
      "  train_df['y'] = scaler.fit_transform(train_df['y'].values.reshape(-1, 1))\n",
      "\n",
      "WARNING - (NP.forecaster.fit) - When Global modeling with local normalization, metrics are displayed in normalized scale.\n",
      "INFO - (NP.df_utils._infer_frequency) - Major frequency MS corresponds to [99.265]% of the data.\n"
     ]
    },
    {
     "name": "stdout",
     "output_type": "stream",
     "text": [
      "\n"
     ]
    },
    {
     "name": "stderr",
     "output_type": "stream",
     "text": [
      "INFO - (NP.df_utils._infer_frequency) - Defined frequency is equal to major frequency - MS\n",
      "INFO - (NP.config.init_data_params) - Setting normalization to global as only one dataframe provided for training.\n",
      "INFO - (NP.utils.set_auto_seasonalities) - Disabling weekly seasonality. Run NeuralProphet with weekly_seasonality=True to override this.\n",
      "INFO - (NP.utils.set_auto_seasonalities) - Disabling daily seasonality. Run NeuralProphet with daily_seasonality=True to override this.\n",
      "INFO - (NP.config.set_auto_batch_epoch) - Auto-set batch_size to 16\n",
      "INFO - (NP.config.set_auto_batch_epoch) - Auto-set epochs to 449\n",
      "WARNING - (NP.config.set_lr_finder_args) - Learning rate finder: The number of batches (9) is too small than the required number for the learning rate finder (209). The results might not be optimal.\n",
      "Finding best initial lr: 100%|██████████| 209/209 [00:00<00:00, 228.18it/s]\n"
     ]
    },
    {
     "name": "stdout",
     "output_type": "stream",
     "text": [
      "Epoch 449: 100%|██████████| 449/449 [00:00<00:00, 10004.21it/s, loss=0.0167, v_num=43, MAE=0.607, RMSE=0.748, Loss=0.0173, RegLoss=0.000] "
     ]
    },
    {
     "name": "stderr",
     "output_type": "stream",
     "text": [
      "INFO - (NP.df_utils._infer_frequency) - Major frequency MS corresponds to [99.265]% of the data.\n",
      "INFO - (NP.df_utils._infer_frequency) - Defined frequency is equal to major frequency - MS\n",
      "INFO - (NP.df_utils.return_df_in_original_format) - Returning df with no ID column\n",
      "INFO - (NP.df_utils._infer_frequency) - Major frequency MS corresponds to [99.324]% of the data.\n",
      "INFO - (NP.df_utils._infer_frequency) - Defined frequency is equal to major frequency - MS\n",
      "INFO - (NP.df_utils._infer_frequency) - Major frequency MS corresponds to [99.324]% of the data.\n",
      "INFO - (NP.df_utils._infer_frequency) - Defined frequency is equal to major frequency - MS\n"
     ]
    },
    {
     "name": "stdout",
     "output_type": "stream",
     "text": [
      "\n",
      "Predicting DataLoader 0: 100%|██████████| 1/1 [00:00<00:00, 200.50it/s]"
     ]
    },
    {
     "name": "stderr",
     "output_type": "stream",
     "text": [
      "INFO - (NP.df_utils.return_df_in_original_format) - Returning df with no ID column\n",
      "WARNING - (py.warnings._showwarnmsg) - C:\\Users\\20211445\\AppData\\Local\\Temp\\ipykernel_7180\\2544630692.py:21: SettingWithCopyWarning: \n",
      "A value is trying to be set on a copy of a slice from a DataFrame.\n",
      "Try using .loc[row_indexer,col_indexer] = value instead\n",
      "\n",
      "See the caveats in the documentation: https://pandas.pydata.org/pandas-docs/stable/user_guide/indexing.html#returning-a-view-versus-a-copy\n",
      "  train_df['y'] = scaler.fit_transform(train_df['y'].values.reshape(-1, 1))\n",
      "\n",
      "WARNING - (NP.forecaster.fit) - When Global modeling with local normalization, metrics are displayed in normalized scale.\n"
     ]
    },
    {
     "name": "stdout",
     "output_type": "stream",
     "text": [
      "\n"
     ]
    },
    {
     "name": "stderr",
     "output_type": "stream",
     "text": [
      "INFO - (NP.df_utils._infer_frequency) - Major frequency MS corresponds to [99.265]% of the data.\n",
      "INFO - (NP.df_utils._infer_frequency) - Defined frequency is equal to major frequency - MS\n",
      "INFO - (NP.config.init_data_params) - Setting normalization to global as only one dataframe provided for training.\n",
      "INFO - (NP.utils.set_auto_seasonalities) - Disabling weekly seasonality. Run NeuralProphet with weekly_seasonality=True to override this.\n",
      "INFO - (NP.utils.set_auto_seasonalities) - Disabling daily seasonality. Run NeuralProphet with daily_seasonality=True to override this.\n",
      "INFO - (NP.config.set_auto_batch_epoch) - Auto-set batch_size to 16\n",
      "INFO - (NP.config.set_auto_batch_epoch) - Auto-set epochs to 449\n",
      "WARNING - (NP.config.set_lr_finder_args) - Learning rate finder: The number of batches (9) is too small than the required number for the learning rate finder (209). The results might not be optimal.\n",
      "Finding best initial lr: 100%|██████████| 209/209 [00:00<00:00, 213.17it/s]\n"
     ]
    },
    {
     "name": "stdout",
     "output_type": "stream",
     "text": [
      "Epoch 449: 100%|██████████| 449/449 [00:00<00:00, 10611.79it/s, loss=0.0272, v_num=44, MAE=0.686, RMSE=0.896, Loss=0.0278, RegLoss=0.000] \n"
     ]
    },
    {
     "name": "stderr",
     "output_type": "stream",
     "text": [
      "INFO - (NP.df_utils._infer_frequency) - Major frequency MS corresponds to [99.265]% of the data.\n",
      "INFO - (NP.df_utils._infer_frequency) - Defined frequency is equal to major frequency - MS\n",
      "INFO - (NP.df_utils.return_df_in_original_format) - Returning df with no ID column\n",
      "INFO - (NP.df_utils._infer_frequency) - Major frequency MS corresponds to [99.324]% of the data.\n",
      "INFO - (NP.df_utils._infer_frequency) - Defined frequency is equal to major frequency - MS\n",
      "INFO - (NP.df_utils._infer_frequency) - Major frequency MS corresponds to [99.324]% of the data.\n",
      "INFO - (NP.df_utils._infer_frequency) - Defined frequency is equal to major frequency - MS\n"
     ]
    },
    {
     "name": "stdout",
     "output_type": "stream",
     "text": [
      "Predicting DataLoader 0: 100%|██████████| 1/1 [00:00<00:00, 201.31it/s]"
     ]
    },
    {
     "name": "stderr",
     "output_type": "stream",
     "text": [
      "INFO - (NP.df_utils.return_df_in_original_format) - Returning df with no ID column\n",
      "WARNING - (py.warnings._showwarnmsg) - C:\\Users\\20211445\\AppData\\Local\\Temp\\ipykernel_7180\\2544630692.py:21: SettingWithCopyWarning: \n",
      "A value is trying to be set on a copy of a slice from a DataFrame.\n",
      "Try using .loc[row_indexer,col_indexer] = value instead\n",
      "\n",
      "See the caveats in the documentation: https://pandas.pydata.org/pandas-docs/stable/user_guide/indexing.html#returning-a-view-versus-a-copy\n",
      "  train_df['y'] = scaler.fit_transform(train_df['y'].values.reshape(-1, 1))\n",
      "\n",
      "WARNING - (NP.forecaster.fit) - When Global modeling with local normalization, metrics are displayed in normalized scale.\n",
      "INFO - (NP.df_utils._infer_frequency) - Major frequency MS corresponds to [99.265]% of the data.\n"
     ]
    },
    {
     "name": "stdout",
     "output_type": "stream",
     "text": [
      "\n"
     ]
    },
    {
     "name": "stderr",
     "output_type": "stream",
     "text": [
      "INFO - (NP.df_utils._infer_frequency) - Defined frequency is equal to major frequency - MS\n",
      "INFO - (NP.config.init_data_params) - Setting normalization to global as only one dataframe provided for training.\n",
      "INFO - (NP.utils.set_auto_seasonalities) - Disabling weekly seasonality. Run NeuralProphet with weekly_seasonality=True to override this.\n",
      "INFO - (NP.utils.set_auto_seasonalities) - Disabling daily seasonality. Run NeuralProphet with daily_seasonality=True to override this.\n",
      "INFO - (NP.config.set_auto_batch_epoch) - Auto-set batch_size to 16\n",
      "INFO - (NP.config.set_auto_batch_epoch) - Auto-set epochs to 449\n",
      "WARNING - (NP.config.set_lr_finder_args) - Learning rate finder: The number of batches (9) is too small than the required number for the learning rate finder (209). The results might not be optimal.\n",
      "Finding best initial lr: 100%|██████████| 209/209 [00:00<00:00, 217.83it/s]\n"
     ]
    },
    {
     "name": "stdout",
     "output_type": "stream",
     "text": [
      "Epoch 449: 100%|██████████| 449/449 [00:00<00:00, 9995.98it/s, loss=0.0176, v_num=45, MAE=0.639, RMSE=0.792, Loss=0.0181, RegLoss=0.000]  "
     ]
    },
    {
     "name": "stderr",
     "output_type": "stream",
     "text": [
      "INFO - (NP.df_utils._infer_frequency) - Major frequency MS corresponds to [99.265]% of the data.\n"
     ]
    },
    {
     "name": "stdout",
     "output_type": "stream",
     "text": [
      "\n"
     ]
    },
    {
     "name": "stderr",
     "output_type": "stream",
     "text": [
      "INFO - (NP.df_utils._infer_frequency) - Defined frequency is equal to major frequency - MS\n",
      "INFO - (NP.df_utils.return_df_in_original_format) - Returning df with no ID column\n",
      "INFO - (NP.df_utils._infer_frequency) - Major frequency MS corresponds to [99.324]% of the data.\n",
      "INFO - (NP.df_utils._infer_frequency) - Defined frequency is equal to major frequency - MS\n",
      "INFO - (NP.df_utils._infer_frequency) - Major frequency MS corresponds to [99.324]% of the data.\n",
      "INFO - (NP.df_utils._infer_frequency) - Defined frequency is equal to major frequency - MS\n"
     ]
    },
    {
     "name": "stdout",
     "output_type": "stream",
     "text": [
      "Predicting DataLoader 0: 100%|██████████| 1/1 [00:00<00:00, 334.15it/s]"
     ]
    },
    {
     "name": "stderr",
     "output_type": "stream",
     "text": [
      "INFO - (NP.df_utils.return_df_in_original_format) - Returning df with no ID column\n",
      "WARNING - (py.warnings._showwarnmsg) - C:\\Users\\20211445\\AppData\\Local\\Temp\\ipykernel_7180\\2544630692.py:21: SettingWithCopyWarning: \n",
      "A value is trying to be set on a copy of a slice from a DataFrame.\n",
      "Try using .loc[row_indexer,col_indexer] = value instead\n",
      "\n",
      "See the caveats in the documentation: https://pandas.pydata.org/pandas-docs/stable/user_guide/indexing.html#returning-a-view-versus-a-copy\n",
      "  train_df['y'] = scaler.fit_transform(train_df['y'].values.reshape(-1, 1))\n",
      "\n",
      "WARNING - (NP.forecaster.fit) - When Global modeling with local normalization, metrics are displayed in normalized scale.\n",
      "INFO - (NP.df_utils._infer_frequency) - Major frequency MS corresponds to [99.265]% of the data.\n",
      "INFO - (NP.df_utils._infer_frequency) - Defined frequency is equal to major frequency - MS\n",
      "INFO - (NP.config.init_data_params) - Setting normalization to global as only one dataframe provided for training.\n"
     ]
    },
    {
     "name": "stdout",
     "output_type": "stream",
     "text": [
      "\n"
     ]
    },
    {
     "name": "stderr",
     "output_type": "stream",
     "text": [
      "INFO - (NP.utils.set_auto_seasonalities) - Disabling weekly seasonality. Run NeuralProphet with weekly_seasonality=True to override this.\n",
      "INFO - (NP.utils.set_auto_seasonalities) - Disabling daily seasonality. Run NeuralProphet with daily_seasonality=True to override this.\n",
      "INFO - (NP.config.set_auto_batch_epoch) - Auto-set batch_size to 16\n",
      "INFO - (NP.config.set_auto_batch_epoch) - Auto-set epochs to 449\n",
      "WARNING - (NP.config.set_lr_finder_args) - Learning rate finder: The number of batches (9) is too small than the required number for the learning rate finder (209). The results might not be optimal.\n",
      "Finding best initial lr: 100%|██████████| 209/209 [00:00<00:00, 214.26it/s]\n"
     ]
    },
    {
     "name": "stdout",
     "output_type": "stream",
     "text": [
      "Epoch 449: 100%|██████████| 449/449 [00:00<00:00, 9793.46it/s, loss=0.00945, v_num=46, MAE=0.489, RMSE=0.608, Loss=0.00958, RegLoss=0.000]  "
     ]
    },
    {
     "name": "stderr",
     "output_type": "stream",
     "text": [
      "INFO - (NP.df_utils._infer_frequency) - Major frequency MS corresponds to [99.265]% of the data.\n"
     ]
    },
    {
     "name": "stdout",
     "output_type": "stream",
     "text": [
      "\n"
     ]
    },
    {
     "name": "stderr",
     "output_type": "stream",
     "text": [
      "INFO - (NP.df_utils._infer_frequency) - Defined frequency is equal to major frequency - MS\n",
      "INFO - (NP.df_utils.return_df_in_original_format) - Returning df with no ID column\n",
      "INFO - (NP.df_utils._infer_frequency) - Major frequency MS corresponds to [99.324]% of the data.\n",
      "INFO - (NP.df_utils._infer_frequency) - Defined frequency is equal to major frequency - MS\n",
      "INFO - (NP.df_utils._infer_frequency) - Major frequency MS corresponds to [99.324]% of the data.\n",
      "INFO - (NP.df_utils._infer_frequency) - Defined frequency is equal to major frequency - MS\n"
     ]
    },
    {
     "name": "stdout",
     "output_type": "stream",
     "text": [
      "Predicting DataLoader 0: 100%|██████████| 1/1 [00:00<00:00, 250.65it/s]"
     ]
    },
    {
     "name": "stderr",
     "output_type": "stream",
     "text": [
      "INFO - (NP.df_utils.return_df_in_original_format) - Returning df with no ID column\n",
      "WARNING - (py.warnings._showwarnmsg) - C:\\Users\\20211445\\AppData\\Local\\Temp\\ipykernel_7180\\2544630692.py:21: SettingWithCopyWarning: \n",
      "A value is trying to be set on a copy of a slice from a DataFrame.\n",
      "Try using .loc[row_indexer,col_indexer] = value instead\n",
      "\n",
      "See the caveats in the documentation: https://pandas.pydata.org/pandas-docs/stable/user_guide/indexing.html#returning-a-view-versus-a-copy\n",
      "  train_df['y'] = scaler.fit_transform(train_df['y'].values.reshape(-1, 1))\n",
      "\n",
      "WARNING - (NP.forecaster.fit) - When Global modeling with local normalization, metrics are displayed in normalized scale.\n",
      "INFO - (NP.df_utils._infer_frequency) - Major frequency MS corresponds to [99.265]% of the data.\n"
     ]
    },
    {
     "name": "stdout",
     "output_type": "stream",
     "text": [
      "\n"
     ]
    },
    {
     "name": "stderr",
     "output_type": "stream",
     "text": [
      "INFO - (NP.df_utils._infer_frequency) - Defined frequency is equal to major frequency - MS\n",
      "INFO - (NP.config.init_data_params) - Setting normalization to global as only one dataframe provided for training.\n",
      "INFO - (NP.utils.set_auto_seasonalities) - Disabling weekly seasonality. Run NeuralProphet with weekly_seasonality=True to override this.\n",
      "INFO - (NP.utils.set_auto_seasonalities) - Disabling daily seasonality. Run NeuralProphet with daily_seasonality=True to override this.\n",
      "INFO - (NP.config.set_auto_batch_epoch) - Auto-set batch_size to 16\n",
      "INFO - (NP.config.set_auto_batch_epoch) - Auto-set epochs to 449\n",
      "WARNING - (NP.config.set_lr_finder_args) - Learning rate finder: The number of batches (9) is too small than the required number for the learning rate finder (209). The results might not be optimal.\n",
      "Finding best initial lr: 100%|██████████| 209/209 [00:01<00:00, 207.88it/s]\n"
     ]
    },
    {
     "name": "stdout",
     "output_type": "stream",
     "text": [
      "Epoch 449: 100%|██████████| 449/449 [00:00<00:00, 9187.98it/s, loss=0.0166, v_num=47, MAE=0.660, RMSE=0.821, Loss=0.0163, RegLoss=0.000]  "
     ]
    },
    {
     "name": "stderr",
     "output_type": "stream",
     "text": [
      "INFO - (NP.df_utils._infer_frequency) - Major frequency MS corresponds to [99.265]% of the data.\n",
      "INFO - (NP.df_utils._infer_frequency) - Defined frequency is equal to major frequency - MS\n",
      "INFO - (NP.df_utils.return_df_in_original_format) - Returning df with no ID column\n",
      "INFO - (NP.df_utils._infer_frequency) - Major frequency MS corresponds to [99.324]% of the data.\n",
      "INFO - (NP.df_utils._infer_frequency) - Defined frequency is equal to major frequency - MS\n",
      "INFO - (NP.df_utils._infer_frequency) - Major frequency MS corresponds to [99.324]% of the data.\n"
     ]
    },
    {
     "name": "stdout",
     "output_type": "stream",
     "text": [
      "\n"
     ]
    },
    {
     "name": "stderr",
     "output_type": "stream",
     "text": [
      "INFO - (NP.df_utils._infer_frequency) - Defined frequency is equal to major frequency - MS\n"
     ]
    },
    {
     "name": "stdout",
     "output_type": "stream",
     "text": [
      "Predicting DataLoader 0: 100%|██████████| 1/1 [00:00<00:00, 167.08it/s]"
     ]
    },
    {
     "name": "stderr",
     "output_type": "stream",
     "text": [
      "INFO - (NP.df_utils.return_df_in_original_format) - Returning df with no ID column\n"
     ]
    },
    {
     "name": "stdout",
     "output_type": "stream",
     "text": [
      "\n"
     ]
    },
    {
     "name": "stderr",
     "output_type": "stream",
     "text": [
      "WARNING - (py.warnings._showwarnmsg) - C:\\Users\\20211445\\AppData\\Local\\Temp\\ipykernel_7180\\2544630692.py:21: SettingWithCopyWarning: \n",
      "A value is trying to be set on a copy of a slice from a DataFrame.\n",
      "Try using .loc[row_indexer,col_indexer] = value instead\n",
      "\n",
      "See the caveats in the documentation: https://pandas.pydata.org/pandas-docs/stable/user_guide/indexing.html#returning-a-view-versus-a-copy\n",
      "  train_df['y'] = scaler.fit_transform(train_df['y'].values.reshape(-1, 1))\n",
      "\n",
      "WARNING - (NP.forecaster.fit) - When Global modeling with local normalization, metrics are displayed in normalized scale.\n",
      "INFO - (NP.df_utils._infer_frequency) - Major frequency MS corresponds to [99.265]% of the data.\n",
      "INFO - (NP.df_utils._infer_frequency) - Defined frequency is equal to major frequency - MS\n",
      "INFO - (NP.config.init_data_params) - Setting normalization to global as only one dataframe provided for training.\n",
      "INFO - (NP.utils.set_auto_seasonalities) - Disabling weekly seasonality. Run NeuralProphet with weekly_seasonality=True to override this.\n",
      "INFO - (NP.utils.set_auto_seasonalities) - Disabling daily seasonality. Run NeuralProphet with daily_seasonality=True to override this.\n",
      "INFO - (NP.config.set_auto_batch_epoch) - Auto-set batch_size to 16\n",
      "INFO - (NP.config.set_auto_batch_epoch) - Auto-set epochs to 449\n",
      "WARNING - (NP.config.set_lr_finder_args) - Learning rate finder: The number of batches (9) is too small than the required number for the learning rate finder (209). The results might not be optimal.\n",
      "Finding best initial lr: 100%|██████████| 209/209 [00:00<00:00, 209.04it/s]\n"
     ]
    },
    {
     "name": "stdout",
     "output_type": "stream",
     "text": [
      "Epoch 449: 100%|██████████| 449/449 [00:00<00:00, 10010.96it/s, loss=0.0124, v_num=48, MAE=0.562, RMSE=0.699, Loss=0.0122, RegLoss=0.000] \n"
     ]
    },
    {
     "name": "stderr",
     "output_type": "stream",
     "text": [
      "INFO - (NP.df_utils._infer_frequency) - Major frequency MS corresponds to [99.265]% of the data.\n",
      "INFO - (NP.df_utils._infer_frequency) - Defined frequency is equal to major frequency - MS\n",
      "INFO - (NP.df_utils.return_df_in_original_format) - Returning df with no ID column\n",
      "INFO - (NP.df_utils._infer_frequency) - Major frequency MS corresponds to [99.324]% of the data.\n",
      "INFO - (NP.df_utils._infer_frequency) - Defined frequency is equal to major frequency - MS\n",
      "INFO - (NP.df_utils._infer_frequency) - Major frequency MS corresponds to [99.324]% of the data.\n",
      "INFO - (NP.df_utils._infer_frequency) - Defined frequency is equal to major frequency - MS\n"
     ]
    },
    {
     "name": "stdout",
     "output_type": "stream",
     "text": [
      "Predicting DataLoader 0: 100%|██████████| 1/1 [00:00<00:00, 143.24it/s]"
     ]
    },
    {
     "name": "stderr",
     "output_type": "stream",
     "text": [
      "INFO - (NP.df_utils.return_df_in_original_format) - Returning df with no ID column\n"
     ]
    },
    {
     "name": "stdout",
     "output_type": "stream",
     "text": [
      "\n"
     ]
    },
    {
     "name": "stderr",
     "output_type": "stream",
     "text": [
      "WARNING - (py.warnings._showwarnmsg) - C:\\Users\\20211445\\AppData\\Local\\Temp\\ipykernel_7180\\2544630692.py:21: SettingWithCopyWarning: \n",
      "A value is trying to be set on a copy of a slice from a DataFrame.\n",
      "Try using .loc[row_indexer,col_indexer] = value instead\n",
      "\n",
      "See the caveats in the documentation: https://pandas.pydata.org/pandas-docs/stable/user_guide/indexing.html#returning-a-view-versus-a-copy\n",
      "  train_df['y'] = scaler.fit_transform(train_df['y'].values.reshape(-1, 1))\n",
      "\n",
      "WARNING - (NP.forecaster.fit) - When Global modeling with local normalization, metrics are displayed in normalized scale.\n",
      "INFO - (NP.df_utils._infer_frequency) - Major frequency MS corresponds to [99.265]% of the data.\n",
      "INFO - (NP.df_utils._infer_frequency) - Defined frequency is equal to major frequency - MS\n",
      "INFO - (NP.config.init_data_params) - Setting normalization to global as only one dataframe provided for training.\n",
      "INFO - (NP.utils.set_auto_seasonalities) - Disabling weekly seasonality. Run NeuralProphet with weekly_seasonality=True to override this.\n",
      "INFO - (NP.utils.set_auto_seasonalities) - Disabling daily seasonality. Run NeuralProphet with daily_seasonality=True to override this.\n",
      "INFO - (NP.config.set_auto_batch_epoch) - Auto-set batch_size to 16\n",
      "INFO - (NP.config.set_auto_batch_epoch) - Auto-set epochs to 449\n",
      "WARNING - (NP.config.set_lr_finder_args) - Learning rate finder: The number of batches (9) is too small than the required number for the learning rate finder (209). The results might not be optimal.\n",
      "Finding best initial lr: 100%|██████████| 209/209 [00:01<00:00, 202.86it/s]\n"
     ]
    },
    {
     "name": "stdout",
     "output_type": "stream",
     "text": [
      "Epoch 449: 100%|██████████| 449/449 [00:00<00:00, 10229.23it/s, loss=0.0119, v_num=49, MAE=0.634, RMSE=0.753, Loss=0.0123, RegLoss=0.000] \n"
     ]
    },
    {
     "name": "stderr",
     "output_type": "stream",
     "text": [
      "INFO - (NP.df_utils._infer_frequency) - Major frequency MS corresponds to [99.265]% of the data.\n",
      "INFO - (NP.df_utils._infer_frequency) - Defined frequency is equal to major frequency - MS\n",
      "INFO - (NP.df_utils.return_df_in_original_format) - Returning df with no ID column\n",
      "INFO - (NP.df_utils._infer_frequency) - Major frequency MS corresponds to [99.324]% of the data.\n",
      "INFO - (NP.df_utils._infer_frequency) - Defined frequency is equal to major frequency - MS\n",
      "INFO - (NP.df_utils._infer_frequency) - Major frequency MS corresponds to [99.324]% of the data.\n",
      "INFO - (NP.df_utils._infer_frequency) - Defined frequency is equal to major frequency - MS\n"
     ]
    },
    {
     "name": "stdout",
     "output_type": "stream",
     "text": [
      "Predicting DataLoader 0: 100%|██████████| 1/1 [00:00<00:00, 334.29it/s]"
     ]
    },
    {
     "name": "stderr",
     "output_type": "stream",
     "text": [
      "INFO - (NP.df_utils.return_df_in_original_format) - Returning df with no ID column\n",
      "WARNING - (py.warnings._showwarnmsg) - C:\\Users\\20211445\\AppData\\Local\\Temp\\ipykernel_7180\\2544630692.py:21: SettingWithCopyWarning: \n",
      "A value is trying to be set on a copy of a slice from a DataFrame.\n",
      "Try using .loc[row_indexer,col_indexer] = value instead\n",
      "\n",
      "See the caveats in the documentation: https://pandas.pydata.org/pandas-docs/stable/user_guide/indexing.html#returning-a-view-versus-a-copy\n",
      "  train_df['y'] = scaler.fit_transform(train_df['y'].values.reshape(-1, 1))\n",
      "\n",
      "WARNING - (NP.forecaster.fit) - When Global modeling with local normalization, metrics are displayed in normalized scale.\n",
      "INFO - (NP.df_utils._infer_frequency) - Major frequency MS corresponds to [99.265]% of the data.\n",
      "INFO - (NP.df_utils._infer_frequency) - Defined frequency is equal to major frequency - MS\n"
     ]
    },
    {
     "name": "stdout",
     "output_type": "stream",
     "text": [
      "\n"
     ]
    },
    {
     "name": "stderr",
     "output_type": "stream",
     "text": [
      "INFO - (NP.config.init_data_params) - Setting normalization to global as only one dataframe provided for training.\n",
      "INFO - (NP.utils.set_auto_seasonalities) - Disabling weekly seasonality. Run NeuralProphet with weekly_seasonality=True to override this.\n",
      "INFO - (NP.utils.set_auto_seasonalities) - Disabling daily seasonality. Run NeuralProphet with daily_seasonality=True to override this.\n",
      "INFO - (NP.config.set_auto_batch_epoch) - Auto-set batch_size to 16\n",
      "INFO - (NP.config.set_auto_batch_epoch) - Auto-set epochs to 449\n",
      "WARNING - (NP.config.set_lr_finder_args) - Learning rate finder: The number of batches (9) is too small than the required number for the learning rate finder (209). The results might not be optimal.\n",
      "Finding best initial lr: 100%|██████████| 209/209 [00:00<00:00, 213.84it/s]\n"
     ]
    },
    {
     "name": "stdout",
     "output_type": "stream",
     "text": [
      "Epoch 449: 100%|██████████| 449/449 [00:00<00:00, 8039.32it/s, loss=0.0151, v_num=50, MAE=0.635, RMSE=0.821, Loss=0.0154, RegLoss=0.000]  "
     ]
    },
    {
     "name": "stderr",
     "output_type": "stream",
     "text": [
      "INFO - (NP.df_utils._infer_frequency) - Major frequency MS corresponds to [99.265]% of the data.\n",
      "INFO - (NP.df_utils._infer_frequency) - Defined frequency is equal to major frequency - MS\n",
      "INFO - (NP.df_utils.return_df_in_original_format) - Returning df with no ID column\n"
     ]
    },
    {
     "name": "stdout",
     "output_type": "stream",
     "text": [
      "\n"
     ]
    },
    {
     "name": "stderr",
     "output_type": "stream",
     "text": [
      "INFO - (NP.df_utils._infer_frequency) - Major frequency MS corresponds to [99.324]% of the data.\n",
      "INFO - (NP.df_utils._infer_frequency) - Defined frequency is equal to major frequency - MS\n",
      "INFO - (NP.df_utils._infer_frequency) - Major frequency MS corresponds to [99.324]% of the data.\n",
      "INFO - (NP.df_utils._infer_frequency) - Defined frequency is equal to major frequency - MS\n"
     ]
    },
    {
     "name": "stdout",
     "output_type": "stream",
     "text": [
      "Predicting DataLoader 0: 100%|██████████| 1/1 [00:00<00:00, 252.65it/s]\n"
     ]
    },
    {
     "name": "stderr",
     "output_type": "stream",
     "text": [
      "INFO - (NP.df_utils.return_df_in_original_format) - Returning df with no ID column\n",
      "WARNING - (py.warnings._showwarnmsg) - C:\\Users\\20211445\\AppData\\Local\\Temp\\ipykernel_7180\\2544630692.py:21: SettingWithCopyWarning: \n",
      "A value is trying to be set on a copy of a slice from a DataFrame.\n",
      "Try using .loc[row_indexer,col_indexer] = value instead\n",
      "\n",
      "See the caveats in the documentation: https://pandas.pydata.org/pandas-docs/stable/user_guide/indexing.html#returning-a-view-versus-a-copy\n",
      "  train_df['y'] = scaler.fit_transform(train_df['y'].values.reshape(-1, 1))\n",
      "\n",
      "WARNING - (NP.forecaster.fit) - When Global modeling with local normalization, metrics are displayed in normalized scale.\n",
      "INFO - (NP.df_utils._infer_frequency) - Major frequency MS corresponds to [99.265]% of the data.\n",
      "INFO - (NP.df_utils._infer_frequency) - Defined frequency is equal to major frequency - MS\n",
      "INFO - (NP.config.init_data_params) - Setting normalization to global as only one dataframe provided for training.\n",
      "INFO - (NP.utils.set_auto_seasonalities) - Disabling weekly seasonality. Run NeuralProphet with weekly_seasonality=True to override this.\n",
      "INFO - (NP.utils.set_auto_seasonalities) - Disabling daily seasonality. Run NeuralProphet with daily_seasonality=True to override this.\n",
      "INFO - (NP.config.set_auto_batch_epoch) - Auto-set batch_size to 16\n",
      "INFO - (NP.config.set_auto_batch_epoch) - Auto-set epochs to 449\n",
      "WARNING - (NP.config.set_lr_finder_args) - Learning rate finder: The number of batches (9) is too small than the required number for the learning rate finder (209). The results might not be optimal.\n",
      "Finding best initial lr: 100%|██████████| 209/209 [00:01<00:00, 180.34it/s]\n"
     ]
    },
    {
     "name": "stdout",
     "output_type": "stream",
     "text": [
      "Epoch 449: 100%|██████████| 449/449 [00:00<00:00, 5923.77it/s, loss=0.00908, v_num=51, MAE=0.461, RMSE=0.587, Loss=0.00974, RegLoss=0.000]  "
     ]
    },
    {
     "name": "stderr",
     "output_type": "stream",
     "text": [
      "INFO - (NP.df_utils._infer_frequency) - Major frequency MS corresponds to [99.265]% of the data.\n"
     ]
    },
    {
     "name": "stdout",
     "output_type": "stream",
     "text": [
      "\n"
     ]
    },
    {
     "name": "stderr",
     "output_type": "stream",
     "text": [
      "INFO - (NP.df_utils._infer_frequency) - Defined frequency is equal to major frequency - MS\n",
      "INFO - (NP.df_utils.return_df_in_original_format) - Returning df with no ID column\n",
      "INFO - (NP.df_utils._infer_frequency) - Major frequency MS corresponds to [99.324]% of the data.\n",
      "INFO - (NP.df_utils._infer_frequency) - Defined frequency is equal to major frequency - MS\n",
      "INFO - (NP.df_utils._infer_frequency) - Major frequency MS corresponds to [99.324]% of the data.\n",
      "INFO - (NP.df_utils._infer_frequency) - Defined frequency is equal to major frequency - MS\n"
     ]
    },
    {
     "name": "stdout",
     "output_type": "stream",
     "text": [
      "Predicting DataLoader 0: 100%|██████████| 1/1 [00:00<00:00, 125.36it/s]"
     ]
    },
    {
     "name": "stderr",
     "output_type": "stream",
     "text": [
      "INFO - (NP.df_utils.return_df_in_original_format) - Returning df with no ID column\n",
      "WARNING - (py.warnings._showwarnmsg) - C:\\Users\\20211445\\AppData\\Local\\Temp\\ipykernel_7180\\2544630692.py:21: SettingWithCopyWarning: \n",
      "A value is trying to be set on a copy of a slice from a DataFrame.\n",
      "Try using .loc[row_indexer,col_indexer] = value instead\n",
      "\n",
      "See the caveats in the documentation: https://pandas.pydata.org/pandas-docs/stable/user_guide/indexing.html#returning-a-view-versus-a-copy\n",
      "  train_df['y'] = scaler.fit_transform(train_df['y'].values.reshape(-1, 1))\n",
      "\n",
      "WARNING - (NP.forecaster.fit) - When Global modeling with local normalization, metrics are displayed in normalized scale.\n",
      "INFO - (NP.df_utils._infer_frequency) - Major frequency MS corresponds to [99.265]% of the data.\n",
      "INFO - (NP.df_utils._infer_frequency) - Defined frequency is equal to major frequency - MS\n",
      "INFO - (NP.config.init_data_params) - Setting normalization to global as only one dataframe provided for training.\n",
      "INFO - (NP.utils.set_auto_seasonalities) - Disabling weekly seasonality. Run NeuralProphet with weekly_seasonality=True to override this.\n",
      "INFO - (NP.utils.set_auto_seasonalities) - Disabling daily seasonality. Run NeuralProphet with daily_seasonality=True to override this.\n",
      "INFO - (NP.config.set_auto_batch_epoch) - Auto-set batch_size to 16\n",
      "INFO - (NP.config.set_auto_batch_epoch) - Auto-set epochs to 449\n",
      "WARNING - (NP.config.set_lr_finder_args) - Learning rate finder: The number of batches (9) is too small than the required number for the learning rate finder (209). The results might not be optimal.\n"
     ]
    },
    {
     "name": "stdout",
     "output_type": "stream",
     "text": [
      "\n"
     ]
    },
    {
     "name": "stderr",
     "output_type": "stream",
     "text": [
      "Finding best initial lr: 100%|██████████| 209/209 [00:01<00:00, 201.46it/s]\n"
     ]
    },
    {
     "name": "stdout",
     "output_type": "stream",
     "text": [
      "Epoch 449: 100%|██████████| 449/449 [00:00<00:00, 10719.06it/s, loss=0.0216, v_num=52, MAE=0.672, RMSE=0.823, Loss=0.0214, RegLoss=0.000] \n"
     ]
    },
    {
     "name": "stderr",
     "output_type": "stream",
     "text": [
      "INFO - (NP.df_utils._infer_frequency) - Major frequency MS corresponds to [99.265]% of the data.\n",
      "INFO - (NP.df_utils._infer_frequency) - Defined frequency is equal to major frequency - MS\n",
      "INFO - (NP.df_utils.return_df_in_original_format) - Returning df with no ID column\n",
      "INFO - (NP.df_utils._infer_frequency) - Major frequency MS corresponds to [99.324]% of the data.\n",
      "INFO - (NP.df_utils._infer_frequency) - Defined frequency is equal to major frequency - MS\n",
      "INFO - (NP.df_utils._infer_frequency) - Major frequency MS corresponds to [99.324]% of the data.\n",
      "INFO - (NP.df_utils._infer_frequency) - Defined frequency is equal to major frequency - MS\n"
     ]
    },
    {
     "name": "stdout",
     "output_type": "stream",
     "text": [
      "Predicting DataLoader 0: 100%|██████████| 1/1 [00:00<00:00, 334.55it/s]\n"
     ]
    },
    {
     "name": "stderr",
     "output_type": "stream",
     "text": [
      "INFO - (NP.df_utils.return_df_in_original_format) - Returning df with no ID column\n",
      "WARNING - (py.warnings._showwarnmsg) - C:\\Users\\20211445\\AppData\\Local\\Temp\\ipykernel_7180\\2544630692.py:21: SettingWithCopyWarning: \n",
      "A value is trying to be set on a copy of a slice from a DataFrame.\n",
      "Try using .loc[row_indexer,col_indexer] = value instead\n",
      "\n",
      "See the caveats in the documentation: https://pandas.pydata.org/pandas-docs/stable/user_guide/indexing.html#returning-a-view-versus-a-copy\n",
      "  train_df['y'] = scaler.fit_transform(train_df['y'].values.reshape(-1, 1))\n",
      "\n",
      "WARNING - (NP.forecaster.fit) - When Global modeling with local normalization, metrics are displayed in normalized scale.\n",
      "INFO - (NP.df_utils._infer_frequency) - Major frequency MS corresponds to [99.265]% of the data.\n",
      "INFO - (NP.df_utils._infer_frequency) - Defined frequency is equal to major frequency - MS\n",
      "INFO - (NP.config.init_data_params) - Setting normalization to global as only one dataframe provided for training.\n",
      "INFO - (NP.utils.set_auto_seasonalities) - Disabling weekly seasonality. Run NeuralProphet with weekly_seasonality=True to override this.\n",
      "INFO - (NP.utils.set_auto_seasonalities) - Disabling daily seasonality. Run NeuralProphet with daily_seasonality=True to override this.\n",
      "INFO - (NP.config.set_auto_batch_epoch) - Auto-set batch_size to 16\n",
      "INFO - (NP.config.set_auto_batch_epoch) - Auto-set epochs to 449\n",
      "WARNING - (NP.config.set_lr_finder_args) - Learning rate finder: The number of batches (9) is too small than the required number for the learning rate finder (209). The results might not be optimal.\n",
      "Finding best initial lr: 100%|██████████| 209/209 [00:00<00:00, 231.30it/s]\n"
     ]
    },
    {
     "name": "stdout",
     "output_type": "stream",
     "text": [
      "Epoch 449: 100%|██████████| 449/449 [00:00<00:00, 10708.82it/s, loss=0.0174, v_num=53, MAE=0.610, RMSE=0.772, Loss=0.0166, RegLoss=0.000] \n"
     ]
    },
    {
     "name": "stderr",
     "output_type": "stream",
     "text": [
      "INFO - (NP.df_utils._infer_frequency) - Major frequency MS corresponds to [99.265]% of the data.\n",
      "INFO - (NP.df_utils._infer_frequency) - Defined frequency is equal to major frequency - MS\n",
      "INFO - (NP.df_utils.return_df_in_original_format) - Returning df with no ID column\n",
      "INFO - (NP.df_utils._infer_frequency) - Major frequency MS corresponds to [99.324]% of the data.\n",
      "INFO - (NP.df_utils._infer_frequency) - Defined frequency is equal to major frequency - MS\n",
      "INFO - (NP.df_utils._infer_frequency) - Major frequency MS corresponds to [99.324]% of the data.\n",
      "INFO - (NP.df_utils._infer_frequency) - Defined frequency is equal to major frequency - MS\n"
     ]
    },
    {
     "name": "stdout",
     "output_type": "stream",
     "text": [
      "Predicting DataLoader 0: 100%|██████████| 1/1 [00:00<00:00, 167.12it/s]"
     ]
    },
    {
     "name": "stderr",
     "output_type": "stream",
     "text": [
      "INFO - (NP.df_utils.return_df_in_original_format) - Returning df with no ID column\n",
      "WARNING - (py.warnings._showwarnmsg) - C:\\Users\\20211445\\AppData\\Local\\Temp\\ipykernel_7180\\2544630692.py:21: SettingWithCopyWarning: \n",
      "A value is trying to be set on a copy of a slice from a DataFrame.\n",
      "Try using .loc[row_indexer,col_indexer] = value instead\n",
      "\n",
      "See the caveats in the documentation: https://pandas.pydata.org/pandas-docs/stable/user_guide/indexing.html#returning-a-view-versus-a-copy\n",
      "  train_df['y'] = scaler.fit_transform(train_df['y'].values.reshape(-1, 1))\n",
      "\n",
      "WARNING - (NP.forecaster.fit) - When Global modeling with local normalization, metrics are displayed in normalized scale.\n",
      "INFO - (NP.df_utils._infer_frequency) - Major frequency MS corresponds to [99.265]% of the data.\n",
      "INFO - (NP.df_utils._infer_frequency) - Defined frequency is equal to major frequency - MS\n"
     ]
    },
    {
     "name": "stdout",
     "output_type": "stream",
     "text": [
      "\n"
     ]
    },
    {
     "name": "stderr",
     "output_type": "stream",
     "text": [
      "INFO - (NP.config.init_data_params) - Setting normalization to global as only one dataframe provided for training.\n",
      "INFO - (NP.utils.set_auto_seasonalities) - Disabling weekly seasonality. Run NeuralProphet with weekly_seasonality=True to override this.\n",
      "INFO - (NP.utils.set_auto_seasonalities) - Disabling daily seasonality. Run NeuralProphet with daily_seasonality=True to override this.\n",
      "INFO - (NP.config.set_auto_batch_epoch) - Auto-set batch_size to 16\n",
      "INFO - (NP.config.set_auto_batch_epoch) - Auto-set epochs to 449\n",
      "WARNING - (NP.config.set_lr_finder_args) - Learning rate finder: The number of batches (9) is too small than the required number for the learning rate finder (209). The results might not be optimal.\n",
      "Finding best initial lr: 100%|██████████| 209/209 [00:00<00:00, 224.45it/s]\n"
     ]
    },
    {
     "name": "stdout",
     "output_type": "stream",
     "text": [
      "Epoch 449: 100%|██████████| 449/449 [00:00<00:00, 10469.50it/s, loss=0.0189, v_num=54, MAE=0.706, RMSE=0.863, Loss=0.0199, RegLoss=0.000] "
     ]
    },
    {
     "name": "stderr",
     "output_type": "stream",
     "text": [
      "INFO - (NP.df_utils._infer_frequency) - Major frequency MS corresponds to [99.265]% of the data.\n"
     ]
    },
    {
     "name": "stdout",
     "output_type": "stream",
     "text": [
      "\n"
     ]
    },
    {
     "name": "stderr",
     "output_type": "stream",
     "text": [
      "INFO - (NP.df_utils._infer_frequency) - Defined frequency is equal to major frequency - MS\n",
      "INFO - (NP.df_utils.return_df_in_original_format) - Returning df with no ID column\n",
      "INFO - (NP.df_utils._infer_frequency) - Major frequency MS corresponds to [99.324]% of the data.\n",
      "INFO - (NP.df_utils._infer_frequency) - Defined frequency is equal to major frequency - MS\n",
      "INFO - (NP.df_utils._infer_frequency) - Major frequency MS corresponds to [99.324]% of the data.\n",
      "INFO - (NP.df_utils._infer_frequency) - Defined frequency is equal to major frequency - MS\n"
     ]
    },
    {
     "name": "stdout",
     "output_type": "stream",
     "text": [
      "Predicting DataLoader 0: 100%|██████████| 1/1 [00:00<00:00, 200.51it/s]"
     ]
    },
    {
     "name": "stderr",
     "output_type": "stream",
     "text": [
      "INFO - (NP.df_utils.return_df_in_original_format) - Returning df with no ID column\n",
      "WARNING - (py.warnings._showwarnmsg) - C:\\Users\\20211445\\AppData\\Local\\Temp\\ipykernel_7180\\2544630692.py:21: SettingWithCopyWarning: \n",
      "A value is trying to be set on a copy of a slice from a DataFrame.\n",
      "Try using .loc[row_indexer,col_indexer] = value instead\n",
      "\n",
      "See the caveats in the documentation: https://pandas.pydata.org/pandas-docs/stable/user_guide/indexing.html#returning-a-view-versus-a-copy\n",
      "  train_df['y'] = scaler.fit_transform(train_df['y'].values.reshape(-1, 1))\n",
      "\n",
      "WARNING - (NP.forecaster.fit) - When Global modeling with local normalization, metrics are displayed in normalized scale.\n",
      "INFO - (NP.df_utils._infer_frequency) - Major frequency MS corresponds to [99.265]% of the data.\n",
      "INFO - (NP.df_utils._infer_frequency) - Defined frequency is equal to major frequency - MS\n",
      "INFO - (NP.config.init_data_params) - Setting normalization to global as only one dataframe provided for training.\n"
     ]
    },
    {
     "name": "stdout",
     "output_type": "stream",
     "text": [
      "\n"
     ]
    },
    {
     "name": "stderr",
     "output_type": "stream",
     "text": [
      "INFO - (NP.utils.set_auto_seasonalities) - Disabling weekly seasonality. Run NeuralProphet with weekly_seasonality=True to override this.\n",
      "INFO - (NP.utils.set_auto_seasonalities) - Disabling daily seasonality. Run NeuralProphet with daily_seasonality=True to override this.\n",
      "INFO - (NP.config.set_auto_batch_epoch) - Auto-set batch_size to 16\n",
      "INFO - (NP.config.set_auto_batch_epoch) - Auto-set epochs to 449\n",
      "WARNING - (NP.config.set_lr_finder_args) - Learning rate finder: The number of batches (9) is too small than the required number for the learning rate finder (209). The results might not be optimal.\n",
      "Finding best initial lr: 100%|██████████| 209/209 [00:00<00:00, 221.99it/s]\n"
     ]
    },
    {
     "name": "stdout",
     "output_type": "stream",
     "text": [
      "Epoch 449: 100%|██████████| 449/449 [00:00<00:00, 10474.21it/s, loss=0.0135, v_num=55, MAE=0.604, RMSE=0.738, Loss=0.0129, RegLoss=0.000] "
     ]
    },
    {
     "name": "stderr",
     "output_type": "stream",
     "text": [
      "INFO - (NP.df_utils._infer_frequency) - Major frequency MS corresponds to [99.265]% of the data.\n"
     ]
    },
    {
     "name": "stdout",
     "output_type": "stream",
     "text": [
      "\n"
     ]
    },
    {
     "name": "stderr",
     "output_type": "stream",
     "text": [
      "INFO - (NP.df_utils._infer_frequency) - Defined frequency is equal to major frequency - MS\n",
      "INFO - (NP.df_utils.return_df_in_original_format) - Returning df with no ID column\n",
      "INFO - (NP.df_utils._infer_frequency) - Major frequency MS corresponds to [99.324]% of the data.\n",
      "INFO - (NP.df_utils._infer_frequency) - Defined frequency is equal to major frequency - MS\n",
      "INFO - (NP.df_utils._infer_frequency) - Major frequency MS corresponds to [99.324]% of the data.\n",
      "INFO - (NP.df_utils._infer_frequency) - Defined frequency is equal to major frequency - MS\n"
     ]
    },
    {
     "name": "stdout",
     "output_type": "stream",
     "text": [
      "Predicting DataLoader 0: 100%|██████████| 1/1 [00:00<00:00, 250.63it/s]"
     ]
    },
    {
     "name": "stderr",
     "output_type": "stream",
     "text": [
      "INFO - (NP.df_utils.return_df_in_original_format) - Returning df with no ID column\n",
      "WARNING - (py.warnings._showwarnmsg) - C:\\Users\\20211445\\AppData\\Local\\Temp\\ipykernel_7180\\2544630692.py:21: SettingWithCopyWarning: \n",
      "A value is trying to be set on a copy of a slice from a DataFrame.\n",
      "Try using .loc[row_indexer,col_indexer] = value instead\n",
      "\n",
      "See the caveats in the documentation: https://pandas.pydata.org/pandas-docs/stable/user_guide/indexing.html#returning-a-view-versus-a-copy\n",
      "  train_df['y'] = scaler.fit_transform(train_df['y'].values.reshape(-1, 1))\n",
      "\n",
      "WARNING - (NP.forecaster.fit) - When Global modeling with local normalization, metrics are displayed in normalized scale.\n",
      "INFO - (NP.df_utils._infer_frequency) - Major frequency MS corresponds to [99.265]% of the data.\n",
      "INFO - (NP.df_utils._infer_frequency) - Defined frequency is equal to major frequency - MS\n"
     ]
    },
    {
     "name": "stdout",
     "output_type": "stream",
     "text": [
      "\n"
     ]
    },
    {
     "name": "stderr",
     "output_type": "stream",
     "text": [
      "INFO - (NP.config.init_data_params) - Setting normalization to global as only one dataframe provided for training.\n",
      "INFO - (NP.utils.set_auto_seasonalities) - Disabling weekly seasonality. Run NeuralProphet with weekly_seasonality=True to override this.\n",
      "INFO - (NP.utils.set_auto_seasonalities) - Disabling daily seasonality. Run NeuralProphet with daily_seasonality=True to override this.\n",
      "INFO - (NP.config.set_auto_batch_epoch) - Auto-set batch_size to 16\n",
      "INFO - (NP.config.set_auto_batch_epoch) - Auto-set epochs to 449\n",
      "WARNING - (NP.config.set_lr_finder_args) - Learning rate finder: The number of batches (9) is too small than the required number for the learning rate finder (209). The results might not be optimal.\n",
      "Finding best initial lr: 100%|██████████| 209/209 [00:00<00:00, 217.91it/s]\n"
     ]
    },
    {
     "name": "stdout",
     "output_type": "stream",
     "text": [
      "Epoch 449: 100%|██████████| 449/449 [00:00<00:00, 10231.29it/s, loss=0.0127, v_num=56, MAE=0.544, RMSE=0.683, Loss=0.0127, RegLoss=0.000] \n"
     ]
    },
    {
     "name": "stderr",
     "output_type": "stream",
     "text": [
      "INFO - (NP.df_utils._infer_frequency) - Major frequency MS corresponds to [99.265]% of the data.\n",
      "INFO - (NP.df_utils._infer_frequency) - Defined frequency is equal to major frequency - MS\n",
      "INFO - (NP.df_utils.return_df_in_original_format) - Returning df with no ID column\n",
      "INFO - (NP.df_utils._infer_frequency) - Major frequency MS corresponds to [99.324]% of the data.\n",
      "INFO - (NP.df_utils._infer_frequency) - Defined frequency is equal to major frequency - MS\n",
      "INFO - (NP.df_utils._infer_frequency) - Major frequency MS corresponds to [99.324]% of the data.\n",
      "INFO - (NP.df_utils._infer_frequency) - Defined frequency is equal to major frequency - MS\n"
     ]
    },
    {
     "name": "stdout",
     "output_type": "stream",
     "text": [
      "Predicting DataLoader 0: 100%|██████████| 1/1 [00:00<00:00, 250.56it/s]\n"
     ]
    },
    {
     "name": "stderr",
     "output_type": "stream",
     "text": [
      "INFO - (NP.df_utils.return_df_in_original_format) - Returning df with no ID column\n",
      "WARNING - (py.warnings._showwarnmsg) - C:\\Users\\20211445\\AppData\\Local\\Temp\\ipykernel_7180\\2544630692.py:21: SettingWithCopyWarning: \n",
      "A value is trying to be set on a copy of a slice from a DataFrame.\n",
      "Try using .loc[row_indexer,col_indexer] = value instead\n",
      "\n",
      "See the caveats in the documentation: https://pandas.pydata.org/pandas-docs/stable/user_guide/indexing.html#returning-a-view-versus-a-copy\n",
      "  train_df['y'] = scaler.fit_transform(train_df['y'].values.reshape(-1, 1))\n",
      "\n",
      "WARNING - (NP.forecaster.fit) - When Global modeling with local normalization, metrics are displayed in normalized scale.\n",
      "INFO - (NP.df_utils._infer_frequency) - Major frequency MS corresponds to [99.265]% of the data.\n",
      "INFO - (NP.df_utils._infer_frequency) - Defined frequency is equal to major frequency - MS\n",
      "INFO - (NP.config.init_data_params) - Setting normalization to global as only one dataframe provided for training.\n",
      "INFO - (NP.utils.set_auto_seasonalities) - Disabling weekly seasonality. Run NeuralProphet with weekly_seasonality=True to override this.\n",
      "INFO - (NP.utils.set_auto_seasonalities) - Disabling daily seasonality. Run NeuralProphet with daily_seasonality=True to override this.\n",
      "INFO - (NP.config.set_auto_batch_epoch) - Auto-set batch_size to 16\n",
      "INFO - (NP.config.set_auto_batch_epoch) - Auto-set epochs to 449\n",
      "WARNING - (NP.config.set_lr_finder_args) - Learning rate finder: The number of batches (9) is too small than the required number for the learning rate finder (209). The results might not be optimal.\n",
      "Finding best initial lr: 100%|██████████| 209/209 [00:00<00:00, 216.01it/s]\n"
     ]
    },
    {
     "name": "stdout",
     "output_type": "stream",
     "text": [
      "Epoch 449: 100%|██████████| 449/449 [00:00<00:00, 9787.04it/s, loss=0.0109, v_num=57, MAE=0.566, RMSE=0.724, Loss=0.0108, RegLoss=0.000]  "
     ]
    },
    {
     "name": "stderr",
     "output_type": "stream",
     "text": [
      "INFO - (NP.df_utils._infer_frequency) - Major frequency MS corresponds to [99.265]% of the data.\n",
      "INFO - (NP.df_utils._infer_frequency) - Defined frequency is equal to major frequency - MS\n",
      "INFO - (NP.df_utils.return_df_in_original_format) - Returning df with no ID column\n",
      "INFO - (NP.df_utils._infer_frequency) - Major frequency MS corresponds to [99.324]% of the data.\n",
      "INFO - (NP.df_utils._infer_frequency) - Defined frequency is equal to major frequency - MS\n"
     ]
    },
    {
     "name": "stdout",
     "output_type": "stream",
     "text": [
      "\n"
     ]
    },
    {
     "name": "stderr",
     "output_type": "stream",
     "text": [
      "INFO - (NP.df_utils._infer_frequency) - Major frequency MS corresponds to [99.324]% of the data.\n",
      "INFO - (NP.df_utils._infer_frequency) - Defined frequency is equal to major frequency - MS\n"
     ]
    },
    {
     "name": "stdout",
     "output_type": "stream",
     "text": [
      "Predicting DataLoader 0: 100%|██████████| 1/1 [00:00<00:00, 167.06it/s]"
     ]
    },
    {
     "name": "stderr",
     "output_type": "stream",
     "text": [
      "INFO - (NP.df_utils.return_df_in_original_format) - Returning df with no ID column\n",
      "WARNING - (py.warnings._showwarnmsg) - C:\\Users\\20211445\\AppData\\Local\\Temp\\ipykernel_7180\\2544630692.py:21: SettingWithCopyWarning: \n",
      "A value is trying to be set on a copy of a slice from a DataFrame.\n",
      "Try using .loc[row_indexer,col_indexer] = value instead\n",
      "\n",
      "See the caveats in the documentation: https://pandas.pydata.org/pandas-docs/stable/user_guide/indexing.html#returning-a-view-versus-a-copy\n",
      "  train_df['y'] = scaler.fit_transform(train_df['y'].values.reshape(-1, 1))\n",
      "\n",
      "WARNING - (NP.forecaster.fit) - When Global modeling with local normalization, metrics are displayed in normalized scale.\n",
      "INFO - (NP.df_utils._infer_frequency) - Major frequency MS corresponds to [99.265]% of the data.\n"
     ]
    },
    {
     "name": "stdout",
     "output_type": "stream",
     "text": [
      "\n"
     ]
    },
    {
     "name": "stderr",
     "output_type": "stream",
     "text": [
      "INFO - (NP.df_utils._infer_frequency) - Defined frequency is equal to major frequency - MS\n",
      "INFO - (NP.config.init_data_params) - Setting normalization to global as only one dataframe provided for training.\n",
      "INFO - (NP.utils.set_auto_seasonalities) - Disabling weekly seasonality. Run NeuralProphet with weekly_seasonality=True to override this.\n",
      "INFO - (NP.utils.set_auto_seasonalities) - Disabling daily seasonality. Run NeuralProphet with daily_seasonality=True to override this.\n",
      "INFO - (NP.config.set_auto_batch_epoch) - Auto-set batch_size to 16\n",
      "INFO - (NP.config.set_auto_batch_epoch) - Auto-set epochs to 449\n",
      "WARNING - (NP.config.set_lr_finder_args) - Learning rate finder: The number of batches (9) is too small than the required number for the learning rate finder (209). The results might not be optimal.\n",
      "Finding best initial lr: 100%|██████████| 209/209 [00:00<00:00, 214.83it/s]\n"
     ]
    },
    {
     "name": "stdout",
     "output_type": "stream",
     "text": [
      "Epoch 449: 100%|██████████| 449/449 [00:00<00:00, 10710.83it/s, loss=0.0166, v_num=58, MAE=0.630, RMSE=0.765, Loss=0.0171, RegLoss=0.000] "
     ]
    },
    {
     "name": "stderr",
     "output_type": "stream",
     "text": [
      "INFO - (NP.df_utils._infer_frequency) - Major frequency MS corresponds to [99.265]% of the data.\n",
      "INFO - (NP.df_utils._infer_frequency) - Defined frequency is equal to major frequency - MS\n"
     ]
    },
    {
     "name": "stdout",
     "output_type": "stream",
     "text": [
      "\n"
     ]
    },
    {
     "name": "stderr",
     "output_type": "stream",
     "text": [
      "INFO - (NP.df_utils.return_df_in_original_format) - Returning df with no ID column\n",
      "INFO - (NP.df_utils._infer_frequency) - Major frequency MS corresponds to [99.324]% of the data.\n",
      "INFO - (NP.df_utils._infer_frequency) - Defined frequency is equal to major frequency - MS\n",
      "INFO - (NP.df_utils._infer_frequency) - Major frequency MS corresponds to [99.324]% of the data.\n",
      "INFO - (NP.df_utils._infer_frequency) - Defined frequency is equal to major frequency - MS\n"
     ]
    },
    {
     "name": "stdout",
     "output_type": "stream",
     "text": [
      "Predicting DataLoader 0: 100%|██████████| 1/1 [00:00<00:00, 250.69it/s]"
     ]
    },
    {
     "name": "stderr",
     "output_type": "stream",
     "text": [
      "INFO - (NP.df_utils.return_df_in_original_format) - Returning df with no ID column\n",
      "WARNING - (py.warnings._showwarnmsg) - C:\\Users\\20211445\\AppData\\Local\\Temp\\ipykernel_7180\\2544630692.py:21: SettingWithCopyWarning: \n",
      "A value is trying to be set on a copy of a slice from a DataFrame.\n",
      "Try using .loc[row_indexer,col_indexer] = value instead\n",
      "\n",
      "See the caveats in the documentation: https://pandas.pydata.org/pandas-docs/stable/user_guide/indexing.html#returning-a-view-versus-a-copy\n",
      "  train_df['y'] = scaler.fit_transform(train_df['y'].values.reshape(-1, 1))\n",
      "\n",
      "WARNING - (NP.forecaster.fit) - When Global modeling with local normalization, metrics are displayed in normalized scale.\n",
      "INFO - (NP.df_utils._infer_frequency) - Major frequency MS corresponds to [99.265]% of the data.\n",
      "INFO - (NP.df_utils._infer_frequency) - Defined frequency is equal to major frequency - MS\n",
      "INFO - (NP.config.init_data_params) - Setting normalization to global as only one dataframe provided for training.\n",
      "INFO - (NP.utils.set_auto_seasonalities) - Disabling weekly seasonality. Run NeuralProphet with weekly_seasonality=True to override this.\n"
     ]
    },
    {
     "name": "stdout",
     "output_type": "stream",
     "text": [
      "\n"
     ]
    },
    {
     "name": "stderr",
     "output_type": "stream",
     "text": [
      "INFO - (NP.utils.set_auto_seasonalities) - Disabling daily seasonality. Run NeuralProphet with daily_seasonality=True to override this.\n",
      "INFO - (NP.config.set_auto_batch_epoch) - Auto-set batch_size to 16\n",
      "INFO - (NP.config.set_auto_batch_epoch) - Auto-set epochs to 449\n",
      "WARNING - (NP.config.set_lr_finder_args) - Learning rate finder: The number of batches (9) is too small than the required number for the learning rate finder (209). The results might not be optimal.\n",
      "Finding best initial lr: 100%|██████████| 209/209 [00:00<00:00, 227.76it/s]\n"
     ]
    },
    {
     "name": "stdout",
     "output_type": "stream",
     "text": [
      "Epoch 449: 100%|██████████| 449/449 [00:00<00:00, 9988.03it/s, loss=0.0113, v_num=59, MAE=0.511, RMSE=0.673, Loss=0.012, RegLoss=0.000]   "
     ]
    },
    {
     "name": "stderr",
     "output_type": "stream",
     "text": [
      "INFO - (NP.df_utils._infer_frequency) - Major frequency MS corresponds to [99.265]% of the data.\n"
     ]
    },
    {
     "name": "stdout",
     "output_type": "stream",
     "text": [
      "\n"
     ]
    },
    {
     "name": "stderr",
     "output_type": "stream",
     "text": [
      "INFO - (NP.df_utils._infer_frequency) - Defined frequency is equal to major frequency - MS\n",
      "INFO - (NP.df_utils.return_df_in_original_format) - Returning df with no ID column\n",
      "INFO - (NP.df_utils._infer_frequency) - Major frequency MS corresponds to [99.324]% of the data.\n",
      "INFO - (NP.df_utils._infer_frequency) - Defined frequency is equal to major frequency - MS\n",
      "INFO - (NP.df_utils._infer_frequency) - Major frequency MS corresponds to [99.324]% of the data.\n",
      "INFO - (NP.df_utils._infer_frequency) - Defined frequency is equal to major frequency - MS\n"
     ]
    },
    {
     "name": "stdout",
     "output_type": "stream",
     "text": [
      "Predicting DataLoader 0: 100%|██████████| 1/1 [00:00<00:00, 250.84it/s]"
     ]
    },
    {
     "name": "stderr",
     "output_type": "stream",
     "text": [
      "INFO - (NP.df_utils.return_df_in_original_format) - Returning df with no ID column\n",
      "WARNING - (py.warnings._showwarnmsg) - C:\\Users\\20211445\\AppData\\Local\\Temp\\ipykernel_7180\\2544630692.py:21: SettingWithCopyWarning: \n",
      "A value is trying to be set on a copy of a slice from a DataFrame.\n",
      "Try using .loc[row_indexer,col_indexer] = value instead\n",
      "\n",
      "See the caveats in the documentation: https://pandas.pydata.org/pandas-docs/stable/user_guide/indexing.html#returning-a-view-versus-a-copy\n",
      "  train_df['y'] = scaler.fit_transform(train_df['y'].values.reshape(-1, 1))\n",
      "\n",
      "WARNING - (NP.forecaster.fit) - When Global modeling with local normalization, metrics are displayed in normalized scale.\n",
      "INFO - (NP.df_utils._infer_frequency) - Major frequency MS corresponds to [99.265]% of the data.\n"
     ]
    },
    {
     "name": "stdout",
     "output_type": "stream",
     "text": [
      "\n"
     ]
    },
    {
     "name": "stderr",
     "output_type": "stream",
     "text": [
      "INFO - (NP.df_utils._infer_frequency) - Defined frequency is equal to major frequency - MS\n",
      "INFO - (NP.config.init_data_params) - Setting normalization to global as only one dataframe provided for training.\n",
      "INFO - (NP.utils.set_auto_seasonalities) - Disabling weekly seasonality. Run NeuralProphet with weekly_seasonality=True to override this.\n",
      "INFO - (NP.utils.set_auto_seasonalities) - Disabling daily seasonality. Run NeuralProphet with daily_seasonality=True to override this.\n",
      "INFO - (NP.config.set_auto_batch_epoch) - Auto-set batch_size to 16\n",
      "INFO - (NP.config.set_auto_batch_epoch) - Auto-set epochs to 449\n",
      "WARNING - (NP.config.set_lr_finder_args) - Learning rate finder: The number of batches (9) is too small than the required number for the learning rate finder (209). The results might not be optimal.\n",
      "Finding best initial lr: 100%|██████████| 209/209 [00:01<00:00, 199.85it/s]\n"
     ]
    },
    {
     "name": "stdout",
     "output_type": "stream",
     "text": [
      "Epoch 449: 100%|██████████| 449/449 [00:00<00:00, 10469.79it/s, loss=0.014, v_num=60, MAE=0.577, RMSE=0.713, Loss=0.0145, RegLoss=0.000]  \n"
     ]
    },
    {
     "name": "stderr",
     "output_type": "stream",
     "text": [
      "INFO - (NP.df_utils._infer_frequency) - Major frequency MS corresponds to [99.265]% of the data.\n",
      "INFO - (NP.df_utils._infer_frequency) - Defined frequency is equal to major frequency - MS\n",
      "INFO - (NP.df_utils.return_df_in_original_format) - Returning df with no ID column\n",
      "INFO - (NP.df_utils._infer_frequency) - Major frequency MS corresponds to [99.324]% of the data.\n",
      "INFO - (NP.df_utils._infer_frequency) - Defined frequency is equal to major frequency - MS\n",
      "INFO - (NP.df_utils._infer_frequency) - Major frequency MS corresponds to [99.324]% of the data.\n",
      "INFO - (NP.df_utils._infer_frequency) - Defined frequency is equal to major frequency - MS\n"
     ]
    },
    {
     "name": "stdout",
     "output_type": "stream",
     "text": [
      "Predicting DataLoader 0: 100%|██████████| 1/1 [00:00<00:00, 200.52it/s]\n"
     ]
    },
    {
     "name": "stderr",
     "output_type": "stream",
     "text": [
      "INFO - (NP.df_utils.return_df_in_original_format) - Returning df with no ID column\n",
      "WARNING - (py.warnings._showwarnmsg) - C:\\Users\\20211445\\AppData\\Local\\Temp\\ipykernel_7180\\2544630692.py:21: SettingWithCopyWarning: \n",
      "A value is trying to be set on a copy of a slice from a DataFrame.\n",
      "Try using .loc[row_indexer,col_indexer] = value instead\n",
      "\n",
      "See the caveats in the documentation: https://pandas.pydata.org/pandas-docs/stable/user_guide/indexing.html#returning-a-view-versus-a-copy\n",
      "  train_df['y'] = scaler.fit_transform(train_df['y'].values.reshape(-1, 1))\n",
      "\n",
      "WARNING - (NP.forecaster.fit) - When Global modeling with local normalization, metrics are displayed in normalized scale.\n",
      "INFO - (NP.df_utils._infer_frequency) - Major frequency MS corresponds to [99.265]% of the data.\n",
      "INFO - (NP.df_utils._infer_frequency) - Defined frequency is equal to major frequency - MS\n",
      "INFO - (NP.config.init_data_params) - Setting normalization to global as only one dataframe provided for training.\n",
      "INFO - (NP.utils.set_auto_seasonalities) - Disabling weekly seasonality. Run NeuralProphet with weekly_seasonality=True to override this.\n",
      "INFO - (NP.utils.set_auto_seasonalities) - Disabling daily seasonality. Run NeuralProphet with daily_seasonality=True to override this.\n",
      "INFO - (NP.config.set_auto_batch_epoch) - Auto-set batch_size to 16\n",
      "INFO - (NP.config.set_auto_batch_epoch) - Auto-set epochs to 449\n",
      "WARNING - (NP.config.set_lr_finder_args) - Learning rate finder: The number of batches (9) is too small than the required number for the learning rate finder (209). The results might not be optimal.\n",
      "Finding best initial lr: 100%|██████████| 209/209 [00:00<00:00, 226.55it/s]\n"
     ]
    },
    {
     "name": "stdout",
     "output_type": "stream",
     "text": [
      "Epoch 449: 100%|██████████| 449/449 [00:00<00:00, 10231.57it/s, loss=0.0162, v_num=61, MAE=0.614, RMSE=0.752, Loss=0.0167, RegLoss=0.000] "
     ]
    },
    {
     "name": "stderr",
     "output_type": "stream",
     "text": [
      "INFO - (NP.df_utils._infer_frequency) - Major frequency MS corresponds to [99.265]% of the data.\n",
      "INFO - (NP.df_utils._infer_frequency) - Defined frequency is equal to major frequency - MS\n",
      "INFO - (NP.df_utils.return_df_in_original_format) - Returning df with no ID column\n",
      "INFO - (NP.df_utils._infer_frequency) - Major frequency MS corresponds to [99.324]% of the data.\n",
      "INFO - (NP.df_utils._infer_frequency) - Defined frequency is equal to major frequency - MS\n",
      "INFO - (NP.df_utils._infer_frequency) - Major frequency MS corresponds to [99.324]% of the data.\n",
      "INFO - (NP.df_utils._infer_frequency) - Defined frequency is equal to major frequency - MS\n"
     ]
    },
    {
     "name": "stdout",
     "output_type": "stream",
     "text": [
      "\n",
      "Predicting DataLoader 0: 100%|██████████| 1/1 [00:00<00:00, 167.17it/s]"
     ]
    },
    {
     "name": "stderr",
     "output_type": "stream",
     "text": [
      "INFO - (NP.df_utils.return_df_in_original_format) - Returning df with no ID column\n",
      "WARNING - (py.warnings._showwarnmsg) - C:\\Users\\20211445\\AppData\\Local\\Temp\\ipykernel_7180\\2544630692.py:21: SettingWithCopyWarning: \n",
      "A value is trying to be set on a copy of a slice from a DataFrame.\n",
      "Try using .loc[row_indexer,col_indexer] = value instead\n",
      "\n",
      "See the caveats in the documentation: https://pandas.pydata.org/pandas-docs/stable/user_guide/indexing.html#returning-a-view-versus-a-copy\n",
      "  train_df['y'] = scaler.fit_transform(train_df['y'].values.reshape(-1, 1))\n",
      "\n",
      "WARNING - (NP.forecaster.fit) - When Global modeling with local normalization, metrics are displayed in normalized scale.\n",
      "INFO - (NP.df_utils._infer_frequency) - Major frequency MS corresponds to [99.265]% of the data.\n",
      "INFO - (NP.df_utils._infer_frequency) - Defined frequency is equal to major frequency - MS\n",
      "INFO - (NP.config.init_data_params) - Setting normalization to global as only one dataframe provided for training.\n"
     ]
    },
    {
     "name": "stdout",
     "output_type": "stream",
     "text": [
      "\n"
     ]
    },
    {
     "name": "stderr",
     "output_type": "stream",
     "text": [
      "INFO - (NP.utils.set_auto_seasonalities) - Disabling weekly seasonality. Run NeuralProphet with weekly_seasonality=True to override this.\n",
      "INFO - (NP.utils.set_auto_seasonalities) - Disabling daily seasonality. Run NeuralProphet with daily_seasonality=True to override this.\n",
      "INFO - (NP.config.set_auto_batch_epoch) - Auto-set batch_size to 16\n",
      "INFO - (NP.config.set_auto_batch_epoch) - Auto-set epochs to 449\n",
      "WARNING - (NP.config.set_lr_finder_args) - Learning rate finder: The number of batches (9) is too small than the required number for the learning rate finder (209). The results might not be optimal.\n",
      "Finding best initial lr: 100%|██████████| 209/209 [00:00<00:00, 227.66it/s]\n"
     ]
    },
    {
     "name": "stdout",
     "output_type": "stream",
     "text": [
      "Epoch 449: 100%|██████████| 449/449 [00:00<00:00, 10469.55it/s, loss=0.0131, v_num=62, MAE=0.542, RMSE=0.685, Loss=0.013, RegLoss=0.000]  \n"
     ]
    },
    {
     "name": "stderr",
     "output_type": "stream",
     "text": [
      "INFO - (NP.df_utils._infer_frequency) - Major frequency MS corresponds to [99.265]% of the data.\n",
      "INFO - (NP.df_utils._infer_frequency) - Defined frequency is equal to major frequency - MS\n",
      "INFO - (NP.df_utils.return_df_in_original_format) - Returning df with no ID column\n",
      "INFO - (NP.df_utils._infer_frequency) - Major frequency MS corresponds to [99.324]% of the data.\n",
      "INFO - (NP.df_utils._infer_frequency) - Defined frequency is equal to major frequency - MS\n",
      "INFO - (NP.df_utils._infer_frequency) - Major frequency MS corresponds to [99.324]% of the data.\n",
      "INFO - (NP.df_utils._infer_frequency) - Defined frequency is equal to major frequency - MS\n"
     ]
    },
    {
     "name": "stdout",
     "output_type": "stream",
     "text": [
      "Predicting DataLoader 0: 100%|██████████| 1/1 [00:00<00:00, 250.72it/s]"
     ]
    },
    {
     "name": "stderr",
     "output_type": "stream",
     "text": [
      "INFO - (NP.df_utils.return_df_in_original_format) - Returning df with no ID column\n"
     ]
    },
    {
     "name": "stdout",
     "output_type": "stream",
     "text": [
      "\n"
     ]
    }
   ],
   "source": [
    "\n",
    "wards = df_prophet.columns[1:]\n",
    "from neuralprophet import NeuralProphet\n",
    "from sklearn.metrics import r2_score\n",
    "from sklearn.preprocessing import StandardScaler\n",
    "\n",
    "df_pred=pd.DataFrame()\n",
    "\n",
    "for ward in wards:\n",
    "    df_neutral = df_neural =df_prophet[['ds',ward]].copy()\n",
    "    df_neural=df_neural.rename(columns={ward: 'y'})\n",
    "    \n",
    "    m = NeuralProphet()\n",
    "\n",
    "    # Create train and test datasets\n",
    "    train_df = df_neural[:-12]  # Use all data except the last 12 months for training\n",
    "    test_df = df_neural[-12:]   # Use the last 12 months for testing\n",
    "\n",
    "    \n",
    "    # Perform standard scaling on the target variable\n",
    "    scaler = StandardScaler()\n",
    "    train_df['y'] = scaler.fit_transform(train_df['y'].values.reshape(-1, 1))\n",
    "    \n",
    "    # Fit the model\n",
    "    metrics = m.fit(train_df, freq='M')\n",
    "\n",
    "    # Generate future dates for prediction\n",
    "    future = m.make_future_dataframe(train_df, periods=12, n_historic_predictions=len(train_df))\n",
    "\n",
    "    # Perform predictions\n",
    "    forecast = m.predict(future)\n",
    "    # Inverse transform the scaled predictions\n",
    "    forecast['yhat'] = scaler.inverse_transform(forecast['yhat1'].values.reshape(-1, 1))\n",
    "\n",
    "        # Extract the predicted values\n",
    "    y_pred = forecast['yhat'].tail(12).values.flatten()\n",
    "\n",
    "    # Extract the actual values\n",
    "    y_true = test_df['y'].values.flatten()\n",
    "    y_pred = forecast['yhat'].tail(12).values.flatten()\n",
    "    df_pred[ward]=y_pred\n",
    "    \n",
    "    df_pred[ward + \" true\"]=y_true  \n",
    "\n",
    "\n",
    "\n"
   ]
  },
  {
   "cell_type": "code",
   "execution_count": 25,
   "metadata": {},
   "outputs": [
    {
     "name": "stderr",
     "output_type": "stream",
     "text": [
      "WARNING - (py.warnings._showwarnmsg) - C:\\Users\\20211445\\AppData\\Local\\Temp\\ipykernel_7180\\971183299.py:25: SettingWithCopyWarning: \n",
      "A value is trying to be set on a copy of a slice from a DataFrame.\n",
      "Try using .loc[row_indexer,col_indexer] = value instead\n",
      "\n",
      "See the caveats in the documentation: https://pandas.pydata.org/pandas-docs/stable/user_guide/indexing.html#returning-a-view-versus-a-copy\n",
      "  train_df['y'] = scaler.fit_transform(train_df['y'].values.reshape(-1, 1))\n",
      "\n",
      "WARNING - (NP.forecaster.fit) - When Global modeling with local normalization, metrics are displayed in normalized scale.\n",
      "INFO - (NP.df_utils._infer_frequency) - Major frequency MS corresponds to [99.265]% of the data.\n",
      "INFO - (NP.df_utils._infer_frequency) - Defined frequency is equal to major frequency - MS\n",
      "INFO - (NP.config.init_data_params) - Setting normalization to global as only one dataframe provided for training.\n",
      "INFO - (NP.utils.set_auto_seasonalities) - Disabling weekly seasonality. Run NeuralProphet with weekly_seasonality=True to override this.\n",
      "INFO - (NP.utils.set_auto_seasonalities) - Disabling daily seasonality. Run NeuralProphet with daily_seasonality=True to override this.\n",
      "INFO - (NP.config.set_auto_batch_epoch) - Auto-set batch_size to 16\n",
      "INFO - (NP.config.set_auto_batch_epoch) - Auto-set epochs to 449\n",
      "WARNING - (NP.config.set_lr_finder_args) - Learning rate finder: The number of batches (9) is too small than the required number for the learning rate finder (209). The results might not be optimal.\n",
      "Finding best initial lr: 100%|██████████| 209/209 [00:00<00:00, 221.41it/s]\n"
     ]
    },
    {
     "name": "stdout",
     "output_type": "stream",
     "text": [
      "Epoch 449: 100%|██████████| 449/449 [00:00<00:00, 10719.00it/s, loss=0.0146, v_num=63, MAE=0.536, RMSE=0.680, Loss=0.0153, RegLoss=0.000] "
     ]
    },
    {
     "name": "stderr",
     "output_type": "stream",
     "text": [
      "INFO - (NP.df_utils._infer_frequency) - Major frequency MS corresponds to [99.265]% of the data.\n",
      "INFO - (NP.df_utils._infer_frequency) - Defined frequency is equal to major frequency - MS\n",
      "INFO - (NP.df_utils.return_df_in_original_format) - Returning df with no ID column\n"
     ]
    },
    {
     "name": "stdout",
     "output_type": "stream",
     "text": [
      "\n"
     ]
    },
    {
     "name": "stderr",
     "output_type": "stream",
     "text": [
      "INFO - (NP.df_utils._infer_frequency) - Major frequency MS corresponds to [99.324]% of the data.\n",
      "INFO - (NP.df_utils._infer_frequency) - Defined frequency is equal to major frequency - MS\n",
      "INFO - (NP.df_utils._infer_frequency) - Major frequency MS corresponds to [99.324]% of the data.\n",
      "INFO - (NP.df_utils._infer_frequency) - Defined frequency is equal to major frequency - MS\n"
     ]
    },
    {
     "name": "stdout",
     "output_type": "stream",
     "text": [
      "Predicting DataLoader 0: 100%|██████████| 1/1 [00:00<00:00, 250.36it/s]"
     ]
    },
    {
     "name": "stderr",
     "output_type": "stream",
     "text": [
      "INFO - (NP.df_utils.return_df_in_original_format) - Returning df with no ID column\n",
      "WARNING - (py.warnings._showwarnmsg) - C:\\Users\\20211445\\AppData\\Local\\Temp\\ipykernel_7180\\971183299.py:25: SettingWithCopyWarning: \n",
      "A value is trying to be set on a copy of a slice from a DataFrame.\n",
      "Try using .loc[row_indexer,col_indexer] = value instead\n",
      "\n",
      "See the caveats in the documentation: https://pandas.pydata.org/pandas-docs/stable/user_guide/indexing.html#returning-a-view-versus-a-copy\n",
      "  train_df['y'] = scaler.fit_transform(train_df['y'].values.reshape(-1, 1))\n",
      "\n",
      "WARNING - (NP.forecaster.fit) - When Global modeling with local normalization, metrics are displayed in normalized scale.\n"
     ]
    },
    {
     "name": "stdout",
     "output_type": "stream",
     "text": [
      "\n",
      "R2 Score for Barnet Vale: -2.316313363022453\n"
     ]
    },
    {
     "name": "stderr",
     "output_type": "stream",
     "text": [
      "INFO - (NP.df_utils._infer_frequency) - Major frequency MS corresponds to [99.265]% of the data.\n",
      "INFO - (NP.df_utils._infer_frequency) - Defined frequency is equal to major frequency - MS\n",
      "INFO - (NP.config.init_data_params) - Setting normalization to global as only one dataframe provided for training.\n",
      "INFO - (NP.utils.set_auto_seasonalities) - Disabling weekly seasonality. Run NeuralProphet with weekly_seasonality=True to override this.\n",
      "INFO - (NP.utils.set_auto_seasonalities) - Disabling daily seasonality. Run NeuralProphet with daily_seasonality=True to override this.\n",
      "INFO - (NP.config.set_auto_batch_epoch) - Auto-set batch_size to 16\n",
      "INFO - (NP.config.set_auto_batch_epoch) - Auto-set epochs to 449\n",
      "WARNING - (NP.config.set_lr_finder_args) - Learning rate finder: The number of batches (9) is too small than the required number for the learning rate finder (209). The results might not be optimal.\n",
      "Finding best initial lr: 100%|██████████| 209/209 [00:00<00:00, 236.50it/s]\n"
     ]
    },
    {
     "name": "stdout",
     "output_type": "stream",
     "text": [
      "Epoch 449: 100%|██████████| 449/449 [00:00<00:00, 10718.76it/s, loss=0.0101, v_num=64, MAE=0.512, RMSE=0.626, Loss=0.010, RegLoss=0.000]    "
     ]
    },
    {
     "name": "stderr",
     "output_type": "stream",
     "text": [
      "INFO - (NP.df_utils._infer_frequency) - Major frequency MS corresponds to [99.265]% of the data.\n",
      "INFO - (NP.df_utils._infer_frequency) - Defined frequency is equal to major frequency - MS\n"
     ]
    },
    {
     "name": "stdout",
     "output_type": "stream",
     "text": [
      "\n"
     ]
    },
    {
     "name": "stderr",
     "output_type": "stream",
     "text": [
      "INFO - (NP.df_utils.return_df_in_original_format) - Returning df with no ID column\n",
      "INFO - (NP.df_utils._infer_frequency) - Major frequency MS corresponds to [99.324]% of the data.\n",
      "INFO - (NP.df_utils._infer_frequency) - Defined frequency is equal to major frequency - MS\n",
      "INFO - (NP.df_utils._infer_frequency) - Major frequency MS corresponds to [99.324]% of the data.\n",
      "INFO - (NP.df_utils._infer_frequency) - Defined frequency is equal to major frequency - MS\n"
     ]
    },
    {
     "name": "stdout",
     "output_type": "stream",
     "text": [
      "Predicting DataLoader 0: 100%|██████████| 1/1 [00:00<00:00, 250.75it/s]"
     ]
    },
    {
     "name": "stderr",
     "output_type": "stream",
     "text": [
      "INFO - (NP.df_utils.return_df_in_original_format) - Returning df with no ID column\n",
      "WARNING - (py.warnings._showwarnmsg) - C:\\Users\\20211445\\AppData\\Local\\Temp\\ipykernel_7180\\971183299.py:25: SettingWithCopyWarning: \n",
      "A value is trying to be set on a copy of a slice from a DataFrame.\n",
      "Try using .loc[row_indexer,col_indexer] = value instead\n",
      "\n",
      "See the caveats in the documentation: https://pandas.pydata.org/pandas-docs/stable/user_guide/indexing.html#returning-a-view-versus-a-copy\n",
      "  train_df['y'] = scaler.fit_transform(train_df['y'].values.reshape(-1, 1))\n",
      "\n",
      "WARNING - (NP.forecaster.fit) - When Global modeling with local normalization, metrics are displayed in normalized scale.\n",
      "INFO - (NP.df_utils._infer_frequency) - Major frequency MS corresponds to [99.265]% of the data.\n",
      "INFO - (NP.df_utils._infer_frequency) - Defined frequency is equal to major frequency - MS\n",
      "INFO - (NP.config.init_data_params) - Setting normalization to global as only one dataframe provided for training.\n",
      "INFO - (NP.utils.set_auto_seasonalities) - Disabling weekly seasonality. Run NeuralProphet with weekly_seasonality=True to override this.\n",
      "INFO - (NP.utils.set_auto_seasonalities) - Disabling daily seasonality. Run NeuralProphet with daily_seasonality=True to override this.\n"
     ]
    },
    {
     "name": "stdout",
     "output_type": "stream",
     "text": [
      "\n",
      "R2 Score for Brunswick Park: -0.557695949914875\n"
     ]
    },
    {
     "name": "stderr",
     "output_type": "stream",
     "text": [
      "INFO - (NP.config.set_auto_batch_epoch) - Auto-set batch_size to 16\n",
      "INFO - (NP.config.set_auto_batch_epoch) - Auto-set epochs to 449\n",
      "WARNING - (NP.config.set_lr_finder_args) - Learning rate finder: The number of batches (9) is too small than the required number for the learning rate finder (209). The results might not be optimal.\n",
      "Finding best initial lr: 100%|██████████| 209/209 [00:00<00:00, 246.52it/s]\n"
     ]
    },
    {
     "name": "stdout",
     "output_type": "stream",
     "text": [
      "Epoch 449: 100%|██████████| 449/449 [00:00<00:00, 10003.73it/s, loss=0.0184, v_num=65, MAE=0.633, RMSE=0.817, Loss=0.0189, RegLoss=0.000] "
     ]
    },
    {
     "name": "stderr",
     "output_type": "stream",
     "text": [
      "INFO - (NP.df_utils._infer_frequency) - Major frequency MS corresponds to [99.265]% of the data.\n"
     ]
    },
    {
     "name": "stdout",
     "output_type": "stream",
     "text": [
      "\n"
     ]
    },
    {
     "name": "stderr",
     "output_type": "stream",
     "text": [
      "INFO - (NP.df_utils._infer_frequency) - Defined frequency is equal to major frequency - MS\n",
      "INFO - (NP.df_utils.return_df_in_original_format) - Returning df with no ID column\n",
      "INFO - (NP.df_utils._infer_frequency) - Major frequency MS corresponds to [99.324]% of the data.\n",
      "INFO - (NP.df_utils._infer_frequency) - Defined frequency is equal to major frequency - MS\n",
      "INFO - (NP.df_utils._infer_frequency) - Major frequency MS corresponds to [99.324]% of the data.\n",
      "INFO - (NP.df_utils._infer_frequency) - Defined frequency is equal to major frequency - MS\n"
     ]
    },
    {
     "name": "stdout",
     "output_type": "stream",
     "text": [
      "Predicting DataLoader 0: 100%|██████████| 1/1 [00:00<00:00, 200.55it/s]"
     ]
    },
    {
     "name": "stderr",
     "output_type": "stream",
     "text": [
      "INFO - (NP.df_utils.return_df_in_original_format) - Returning df with no ID column\n",
      "WARNING - (py.warnings._showwarnmsg) - C:\\Users\\20211445\\AppData\\Local\\Temp\\ipykernel_7180\\971183299.py:25: SettingWithCopyWarning: \n",
      "A value is trying to be set on a copy of a slice from a DataFrame.\n",
      "Try using .loc[row_indexer,col_indexer] = value instead\n",
      "\n",
      "See the caveats in the documentation: https://pandas.pydata.org/pandas-docs/stable/user_guide/indexing.html#returning-a-view-versus-a-copy\n",
      "  train_df['y'] = scaler.fit_transform(train_df['y'].values.reshape(-1, 1))\n",
      "\n",
      "WARNING - (NP.forecaster.fit) - When Global modeling with local normalization, metrics are displayed in normalized scale.\n",
      "INFO - (NP.df_utils._infer_frequency) - Major frequency MS corresponds to [99.265]% of the data.\n",
      "INFO - (NP.df_utils._infer_frequency) - Defined frequency is equal to major frequency - MS\n"
     ]
    },
    {
     "name": "stdout",
     "output_type": "stream",
     "text": [
      "\n",
      "R2 Score for Burnt Oak: -0.9086381481627208\n"
     ]
    },
    {
     "name": "stderr",
     "output_type": "stream",
     "text": [
      "INFO - (NP.config.init_data_params) - Setting normalization to global as only one dataframe provided for training.\n",
      "INFO - (NP.utils.set_auto_seasonalities) - Disabling weekly seasonality. Run NeuralProphet with weekly_seasonality=True to override this.\n",
      "INFO - (NP.utils.set_auto_seasonalities) - Disabling daily seasonality. Run NeuralProphet with daily_seasonality=True to override this.\n",
      "INFO - (NP.config.set_auto_batch_epoch) - Auto-set batch_size to 16\n",
      "INFO - (NP.config.set_auto_batch_epoch) - Auto-set epochs to 449\n",
      "WARNING - (NP.config.set_lr_finder_args) - Learning rate finder: The number of batches (9) is too small than the required number for the learning rate finder (209). The results might not be optimal.\n",
      "Finding best initial lr: 100%|██████████| 209/209 [00:00<00:00, 224.13it/s]\n"
     ]
    },
    {
     "name": "stdout",
     "output_type": "stream",
     "text": [
      "Epoch 449: 100%|██████████| 449/449 [00:00<00:00, 9625.37it/s, loss=0.0163, v_num=66, MAE=0.594, RMSE=0.739, Loss=0.0167, RegLoss=0.000]  \n"
     ]
    },
    {
     "name": "stderr",
     "output_type": "stream",
     "text": [
      "INFO - (NP.df_utils._infer_frequency) - Major frequency MS corresponds to [99.265]% of the data.\n",
      "INFO - (NP.df_utils._infer_frequency) - Defined frequency is equal to major frequency - MS\n",
      "INFO - (NP.df_utils.return_df_in_original_format) - Returning df with no ID column\n",
      "INFO - (NP.df_utils._infer_frequency) - Major frequency MS corresponds to [99.324]% of the data.\n",
      "INFO - (NP.df_utils._infer_frequency) - Defined frequency is equal to major frequency - MS\n",
      "INFO - (NP.df_utils._infer_frequency) - Major frequency MS corresponds to [99.324]% of the data.\n",
      "INFO - (NP.df_utils._infer_frequency) - Defined frequency is equal to major frequency - MS\n"
     ]
    },
    {
     "name": "stdout",
     "output_type": "stream",
     "text": [
      "Predicting DataLoader 0: 100%|██████████| 1/1 [00:00<00:00, 334.29it/s]"
     ]
    },
    {
     "name": "stderr",
     "output_type": "stream",
     "text": [
      "INFO - (NP.df_utils.return_df_in_original_format) - Returning df with no ID column\n",
      "WARNING - (py.warnings._showwarnmsg) - C:\\Users\\20211445\\AppData\\Local\\Temp\\ipykernel_7180\\971183299.py:25: SettingWithCopyWarning: \n",
      "A value is trying to be set on a copy of a slice from a DataFrame.\n",
      "Try using .loc[row_indexer,col_indexer] = value instead\n",
      "\n",
      "See the caveats in the documentation: https://pandas.pydata.org/pandas-docs/stable/user_guide/indexing.html#returning-a-view-versus-a-copy\n",
      "  train_df['y'] = scaler.fit_transform(train_df['y'].values.reshape(-1, 1))\n",
      "\n",
      "WARNING - (NP.forecaster.fit) - When Global modeling with local normalization, metrics are displayed in normalized scale.\n",
      "INFO - (NP.df_utils._infer_frequency) - Major frequency MS corresponds to [99.265]% of the data.\n"
     ]
    },
    {
     "name": "stdout",
     "output_type": "stream",
     "text": [
      "\n",
      "R2 Score for Childs Hill: -6.85964380617141\n"
     ]
    },
    {
     "name": "stderr",
     "output_type": "stream",
     "text": [
      "INFO - (NP.df_utils._infer_frequency) - Defined frequency is equal to major frequency - MS\n",
      "INFO - (NP.config.init_data_params) - Setting normalization to global as only one dataframe provided for training.\n",
      "INFO - (NP.utils.set_auto_seasonalities) - Disabling weekly seasonality. Run NeuralProphet with weekly_seasonality=True to override this.\n",
      "INFO - (NP.utils.set_auto_seasonalities) - Disabling daily seasonality. Run NeuralProphet with daily_seasonality=True to override this.\n",
      "INFO - (NP.config.set_auto_batch_epoch) - Auto-set batch_size to 16\n",
      "INFO - (NP.config.set_auto_batch_epoch) - Auto-set epochs to 449\n",
      "WARNING - (NP.config.set_lr_finder_args) - Learning rate finder: The number of batches (9) is too small than the required number for the learning rate finder (209). The results might not be optimal.\n",
      "Finding best initial lr: 100%|██████████| 209/209 [00:00<00:00, 216.49it/s]\n"
     ]
    },
    {
     "name": "stdout",
     "output_type": "stream",
     "text": [
      "Epoch 449: 100%|██████████| 449/449 [00:00<00:00, 9996.83it/s, loss=0.0271, v_num=67, MAE=0.681, RMSE=0.898, Loss=0.0274, RegLoss=0.000]  "
     ]
    },
    {
     "name": "stderr",
     "output_type": "stream",
     "text": [
      "INFO - (NP.df_utils._infer_frequency) - Major frequency MS corresponds to [99.265]% of the data.\n",
      "INFO - (NP.df_utils._infer_frequency) - Defined frequency is equal to major frequency - MS\n",
      "INFO - (NP.df_utils.return_df_in_original_format) - Returning df with no ID column\n",
      "INFO - (NP.df_utils._infer_frequency) - Major frequency MS corresponds to [99.324]% of the data.\n",
      "INFO - (NP.df_utils._infer_frequency) - Defined frequency is equal to major frequency - MS\n",
      "INFO - (NP.df_utils._infer_frequency) - Major frequency MS corresponds to [99.324]% of the data.\n",
      "INFO - (NP.df_utils._infer_frequency) - Defined frequency is equal to major frequency - MS\n"
     ]
    },
    {
     "name": "stdout",
     "output_type": "stream",
     "text": [
      "\n",
      "Predicting DataLoader 0: 100%|██████████| 1/1 [00:00<00:00, 200.59it/s]"
     ]
    },
    {
     "name": "stderr",
     "output_type": "stream",
     "text": [
      "INFO - (NP.df_utils.return_df_in_original_format) - Returning df with no ID column\n",
      "WARNING - (py.warnings._showwarnmsg) - C:\\Users\\20211445\\AppData\\Local\\Temp\\ipykernel_7180\\971183299.py:25: SettingWithCopyWarning: \n",
      "A value is trying to be set on a copy of a slice from a DataFrame.\n",
      "Try using .loc[row_indexer,col_indexer] = value instead\n",
      "\n",
      "See the caveats in the documentation: https://pandas.pydata.org/pandas-docs/stable/user_guide/indexing.html#returning-a-view-versus-a-copy\n",
      "  train_df['y'] = scaler.fit_transform(train_df['y'].values.reshape(-1, 1))\n",
      "\n",
      "WARNING - (NP.forecaster.fit) - When Global modeling with local normalization, metrics are displayed in normalized scale.\n",
      "INFO - (NP.df_utils._infer_frequency) - Major frequency MS corresponds to [99.265]% of the data.\n"
     ]
    },
    {
     "name": "stdout",
     "output_type": "stream",
     "text": [
      "\n",
      "R2 Score for Colindale North: -0.1146452015004995\n"
     ]
    },
    {
     "name": "stderr",
     "output_type": "stream",
     "text": [
      "INFO - (NP.df_utils._infer_frequency) - Defined frequency is equal to major frequency - MS\n",
      "INFO - (NP.config.init_data_params) - Setting normalization to global as only one dataframe provided for training.\n",
      "INFO - (NP.utils.set_auto_seasonalities) - Disabling weekly seasonality. Run NeuralProphet with weekly_seasonality=True to override this.\n",
      "INFO - (NP.utils.set_auto_seasonalities) - Disabling daily seasonality. Run NeuralProphet with daily_seasonality=True to override this.\n",
      "INFO - (NP.config.set_auto_batch_epoch) - Auto-set batch_size to 16\n",
      "INFO - (NP.config.set_auto_batch_epoch) - Auto-set epochs to 449\n",
      "WARNING - (NP.config.set_lr_finder_args) - Learning rate finder: The number of batches (9) is too small than the required number for the learning rate finder (209). The results might not be optimal.\n",
      "Finding best initial lr: 100%|██████████| 209/209 [00:00<00:00, 219.43it/s]\n"
     ]
    },
    {
     "name": "stdout",
     "output_type": "stream",
     "text": [
      "Epoch 449: 100%|██████████| 449/449 [00:00<00:00, 9996.88it/s, loss=0.0176, v_num=68, MAE=0.622, RMSE=0.784, Loss=0.0176, RegLoss=0.000]  "
     ]
    },
    {
     "name": "stderr",
     "output_type": "stream",
     "text": [
      "INFO - (NP.df_utils._infer_frequency) - Major frequency MS corresponds to [99.265]% of the data.\n",
      "INFO - (NP.df_utils._infer_frequency) - Defined frequency is equal to major frequency - MS\n",
      "INFO - (NP.df_utils.return_df_in_original_format) - Returning df with no ID column\n",
      "INFO - (NP.df_utils._infer_frequency) - Major frequency MS corresponds to [99.324]% of the data.\n",
      "INFO - (NP.df_utils._infer_frequency) - Defined frequency is equal to major frequency - MS\n",
      "INFO - (NP.df_utils._infer_frequency) - Major frequency MS corresponds to [99.324]% of the data.\n",
      "INFO - (NP.df_utils._infer_frequency) - Defined frequency is equal to major frequency - MS\n"
     ]
    },
    {
     "name": "stdout",
     "output_type": "stream",
     "text": [
      "\n",
      "Predicting DataLoader 0: 100%|██████████| 1/1 [00:00<00:00, 143.25it/s]"
     ]
    },
    {
     "name": "stderr",
     "output_type": "stream",
     "text": [
      "INFO - (NP.df_utils.return_df_in_original_format) - Returning df with no ID column\n",
      "WARNING - (py.warnings._showwarnmsg) - C:\\Users\\20211445\\AppData\\Local\\Temp\\ipykernel_7180\\971183299.py:25: SettingWithCopyWarning: \n",
      "A value is trying to be set on a copy of a slice from a DataFrame.\n",
      "Try using .loc[row_indexer,col_indexer] = value instead\n",
      "\n",
      "See the caveats in the documentation: https://pandas.pydata.org/pandas-docs/stable/user_guide/indexing.html#returning-a-view-versus-a-copy\n",
      "  train_df['y'] = scaler.fit_transform(train_df['y'].values.reshape(-1, 1))\n",
      "\n",
      "WARNING - (NP.forecaster.fit) - When Global modeling with local normalization, metrics are displayed in normalized scale.\n"
     ]
    },
    {
     "name": "stdout",
     "output_type": "stream",
     "text": [
      "\n",
      "R2 Score for Cricklewood: -2.100912599355705\n"
     ]
    },
    {
     "name": "stderr",
     "output_type": "stream",
     "text": [
      "INFO - (NP.df_utils._infer_frequency) - Major frequency MS corresponds to [99.265]% of the data.\n",
      "INFO - (NP.df_utils._infer_frequency) - Defined frequency is equal to major frequency - MS\n",
      "INFO - (NP.config.init_data_params) - Setting normalization to global as only one dataframe provided for training.\n",
      "INFO - (NP.utils.set_auto_seasonalities) - Disabling weekly seasonality. Run NeuralProphet with weekly_seasonality=True to override this.\n",
      "INFO - (NP.utils.set_auto_seasonalities) - Disabling daily seasonality. Run NeuralProphet with daily_seasonality=True to override this.\n",
      "INFO - (NP.config.set_auto_batch_epoch) - Auto-set batch_size to 16\n",
      "INFO - (NP.config.set_auto_batch_epoch) - Auto-set epochs to 449\n",
      "WARNING - (NP.config.set_lr_finder_args) - Learning rate finder: The number of batches (9) is too small than the required number for the learning rate finder (209). The results might not be optimal.\n",
      "Finding best initial lr: 100%|██████████| 209/209 [00:01<00:00, 203.25it/s]\n"
     ]
    },
    {
     "name": "stdout",
     "output_type": "stream",
     "text": [
      "Epoch 449: 100%|██████████| 449/449 [00:00<00:00, 10004.00it/s, loss=0.00906, v_num=69, MAE=0.484, RMSE=0.595, Loss=0.00922, RegLoss=0.000] "
     ]
    },
    {
     "name": "stderr",
     "output_type": "stream",
     "text": [
      "INFO - (NP.df_utils._infer_frequency) - Major frequency MS corresponds to [99.265]% of the data.\n",
      "INFO - (NP.df_utils._infer_frequency) - Defined frequency is equal to major frequency - MS\n",
      "INFO - (NP.df_utils.return_df_in_original_format) - Returning df with no ID column\n",
      "INFO - (NP.df_utils._infer_frequency) - Major frequency MS corresponds to [99.324]% of the data.\n",
      "INFO - (NP.df_utils._infer_frequency) - Defined frequency is equal to major frequency - MS\n",
      "INFO - (NP.df_utils._infer_frequency) - Major frequency MS corresponds to [99.324]% of the data.\n",
      "INFO - (NP.df_utils._infer_frequency) - Defined frequency is equal to major frequency - MS\n"
     ]
    },
    {
     "name": "stdout",
     "output_type": "stream",
     "text": [
      "\n",
      "Predicting DataLoader 0: 100%|██████████| 1/1 [00:00<00:00, 167.04it/s]"
     ]
    },
    {
     "name": "stderr",
     "output_type": "stream",
     "text": [
      "INFO - (NP.df_utils.return_df_in_original_format) - Returning df with no ID column\n",
      "WARNING - (py.warnings._showwarnmsg) - C:\\Users\\20211445\\AppData\\Local\\Temp\\ipykernel_7180\\971183299.py:25: SettingWithCopyWarning: \n",
      "A value is trying to be set on a copy of a slice from a DataFrame.\n",
      "Try using .loc[row_indexer,col_indexer] = value instead\n",
      "\n",
      "See the caveats in the documentation: https://pandas.pydata.org/pandas-docs/stable/user_guide/indexing.html#returning-a-view-versus-a-copy\n",
      "  train_df['y'] = scaler.fit_transform(train_df['y'].values.reshape(-1, 1))\n",
      "\n",
      "WARNING - (NP.forecaster.fit) - When Global modeling with local normalization, metrics are displayed in normalized scale.\n",
      "INFO - (NP.df_utils._infer_frequency) - Major frequency MS corresponds to [99.265]% of the data.\n",
      "INFO - (NP.df_utils._infer_frequency) - Defined frequency is equal to major frequency - MS\n"
     ]
    },
    {
     "name": "stdout",
     "output_type": "stream",
     "text": [
      "\n",
      "R2 Score for East Barnet: -1.0046462889960681\n"
     ]
    },
    {
     "name": "stderr",
     "output_type": "stream",
     "text": [
      "INFO - (NP.config.init_data_params) - Setting normalization to global as only one dataframe provided for training.\n",
      "INFO - (NP.utils.set_auto_seasonalities) - Disabling weekly seasonality. Run NeuralProphet with weekly_seasonality=True to override this.\n",
      "INFO - (NP.utils.set_auto_seasonalities) - Disabling daily seasonality. Run NeuralProphet with daily_seasonality=True to override this.\n",
      "INFO - (NP.config.set_auto_batch_epoch) - Auto-set batch_size to 16\n",
      "INFO - (NP.config.set_auto_batch_epoch) - Auto-set epochs to 449\n",
      "WARNING - (NP.config.set_lr_finder_args) - Learning rate finder: The number of batches (9) is too small than the required number for the learning rate finder (209). The results might not be optimal.\n",
      "Finding best initial lr: 100%|██████████| 209/209 [00:00<00:00, 225.16it/s]\n"
     ]
    },
    {
     "name": "stdout",
     "output_type": "stream",
     "text": [
      "Epoch 449: 100%|██████████| 449/449 [00:00<00:00, 9999.38it/s, loss=0.0162, v_num=70, MAE=0.668, RMSE=0.845, Loss=0.0175, RegLoss=0.000]  "
     ]
    },
    {
     "name": "stderr",
     "output_type": "stream",
     "text": [
      "INFO - (NP.df_utils._infer_frequency) - Major frequency MS corresponds to [99.265]% of the data.\n"
     ]
    },
    {
     "name": "stdout",
     "output_type": "stream",
     "text": [
      "\n"
     ]
    },
    {
     "name": "stderr",
     "output_type": "stream",
     "text": [
      "INFO - (NP.df_utils._infer_frequency) - Defined frequency is equal to major frequency - MS\n",
      "INFO - (NP.df_utils.return_df_in_original_format) - Returning df with no ID column\n",
      "INFO - (NP.df_utils._infer_frequency) - Major frequency MS corresponds to [99.324]% of the data.\n",
      "INFO - (NP.df_utils._infer_frequency) - Defined frequency is equal to major frequency - MS\n",
      "INFO - (NP.df_utils._infer_frequency) - Major frequency MS corresponds to [99.324]% of the data.\n",
      "INFO - (NP.df_utils._infer_frequency) - Defined frequency is equal to major frequency - MS\n"
     ]
    },
    {
     "name": "stdout",
     "output_type": "stream",
     "text": [
      "Predicting DataLoader 0: 100%|██████████| 1/1 [00:00<00:00, 200.60it/s]"
     ]
    },
    {
     "name": "stderr",
     "output_type": "stream",
     "text": [
      "INFO - (NP.df_utils.return_df_in_original_format) - Returning df with no ID column\n",
      "WARNING - (py.warnings._showwarnmsg) - C:\\Users\\20211445\\AppData\\Local\\Temp\\ipykernel_7180\\971183299.py:25: SettingWithCopyWarning: \n",
      "A value is trying to be set on a copy of a slice from a DataFrame.\n",
      "Try using .loc[row_indexer,col_indexer] = value instead\n",
      "\n",
      "See the caveats in the documentation: https://pandas.pydata.org/pandas-docs/stable/user_guide/indexing.html#returning-a-view-versus-a-copy\n",
      "  train_df['y'] = scaler.fit_transform(train_df['y'].values.reshape(-1, 1))\n",
      "\n",
      "WARNING - (NP.forecaster.fit) - When Global modeling with local normalization, metrics are displayed in normalized scale.\n",
      "INFO - (NP.df_utils._infer_frequency) - Major frequency MS corresponds to [99.265]% of the data.\n",
      "INFO - (NP.df_utils._infer_frequency) - Defined frequency is equal to major frequency - MS\n"
     ]
    },
    {
     "name": "stdout",
     "output_type": "stream",
     "text": [
      "\n",
      "R2 Score for East Finchley: -0.4366723547816882\n"
     ]
    },
    {
     "name": "stderr",
     "output_type": "stream",
     "text": [
      "INFO - (NP.config.init_data_params) - Setting normalization to global as only one dataframe provided for training.\n",
      "INFO - (NP.utils.set_auto_seasonalities) - Disabling weekly seasonality. Run NeuralProphet with weekly_seasonality=True to override this.\n",
      "INFO - (NP.utils.set_auto_seasonalities) - Disabling daily seasonality. Run NeuralProphet with daily_seasonality=True to override this.\n",
      "INFO - (NP.config.set_auto_batch_epoch) - Auto-set batch_size to 16\n",
      "INFO - (NP.config.set_auto_batch_epoch) - Auto-set epochs to 449\n",
      "WARNING - (NP.config.set_lr_finder_args) - Learning rate finder: The number of batches (9) is too small than the required number for the learning rate finder (209). The results might not be optimal.\n",
      "Finding best initial lr: 100%|██████████| 209/209 [00:00<00:00, 219.88it/s]\n"
     ]
    },
    {
     "name": "stdout",
     "output_type": "stream",
     "text": [
      "Epoch 449: 100%|██████████| 449/449 [00:00<00:00, 9670.95it/s, loss=0.0127, v_num=71, MAE=0.567, RMSE=0.736, Loss=0.0125, RegLoss=0.000]  \n"
     ]
    },
    {
     "name": "stderr",
     "output_type": "stream",
     "text": [
      "INFO - (NP.df_utils._infer_frequency) - Major frequency MS corresponds to [99.265]% of the data.\n",
      "INFO - (NP.df_utils._infer_frequency) - Defined frequency is equal to major frequency - MS\n",
      "INFO - (NP.df_utils.return_df_in_original_format) - Returning df with no ID column\n",
      "INFO - (NP.df_utils._infer_frequency) - Major frequency MS corresponds to [99.324]% of the data.\n",
      "INFO - (NP.df_utils._infer_frequency) - Defined frequency is equal to major frequency - MS\n",
      "INFO - (NP.df_utils._infer_frequency) - Major frequency MS corresponds to [99.324]% of the data.\n",
      "INFO - (NP.df_utils._infer_frequency) - Defined frequency is equal to major frequency - MS\n"
     ]
    },
    {
     "name": "stdout",
     "output_type": "stream",
     "text": [
      "Predicting DataLoader 0: 100%|██████████| 1/1 [00:00<00:00, 167.13it/s]"
     ]
    },
    {
     "name": "stderr",
     "output_type": "stream",
     "text": [
      "INFO - (NP.df_utils.return_df_in_original_format) - Returning df with no ID column\n",
      "WARNING - (py.warnings._showwarnmsg) - C:\\Users\\20211445\\AppData\\Local\\Temp\\ipykernel_7180\\971183299.py:25: SettingWithCopyWarning: \n",
      "A value is trying to be set on a copy of a slice from a DataFrame.\n",
      "Try using .loc[row_indexer,col_indexer] = value instead\n",
      "\n",
      "See the caveats in the documentation: https://pandas.pydata.org/pandas-docs/stable/user_guide/indexing.html#returning-a-view-versus-a-copy\n",
      "  train_df['y'] = scaler.fit_transform(train_df['y'].values.reshape(-1, 1))\n",
      "\n",
      "WARNING - (NP.forecaster.fit) - When Global modeling with local normalization, metrics are displayed in normalized scale.\n"
     ]
    },
    {
     "name": "stdout",
     "output_type": "stream",
     "text": [
      "\n",
      "R2 Score for Edgware: -1.2475356342891222\n"
     ]
    },
    {
     "name": "stderr",
     "output_type": "stream",
     "text": [
      "INFO - (NP.df_utils._infer_frequency) - Major frequency MS corresponds to [99.265]% of the data.\n",
      "INFO - (NP.df_utils._infer_frequency) - Defined frequency is equal to major frequency - MS\n",
      "INFO - (NP.config.init_data_params) - Setting normalization to global as only one dataframe provided for training.\n",
      "INFO - (NP.utils.set_auto_seasonalities) - Disabling weekly seasonality. Run NeuralProphet with weekly_seasonality=True to override this.\n",
      "INFO - (NP.utils.set_auto_seasonalities) - Disabling daily seasonality. Run NeuralProphet with daily_seasonality=True to override this.\n",
      "INFO - (NP.config.set_auto_batch_epoch) - Auto-set batch_size to 16\n",
      "INFO - (NP.config.set_auto_batch_epoch) - Auto-set epochs to 449\n",
      "WARNING - (NP.config.set_lr_finder_args) - Learning rate finder: The number of batches (9) is too small than the required number for the learning rate finder (209). The results might not be optimal.\n",
      "Finding best initial lr: 100%|██████████| 209/209 [00:00<00:00, 212.96it/s]\n"
     ]
    },
    {
     "name": "stdout",
     "output_type": "stream",
     "text": [
      "Epoch 449: 100%|██████████| 449/449 [00:00<00:00, 10231.57it/s, loss=0.0124, v_num=72, MAE=0.627, RMSE=0.742, Loss=0.0121, RegLoss=0.000] "
     ]
    },
    {
     "name": "stderr",
     "output_type": "stream",
     "text": [
      "INFO - (NP.df_utils._infer_frequency) - Major frequency MS corresponds to [99.265]% of the data.\n",
      "INFO - (NP.df_utils._infer_frequency) - Defined frequency is equal to major frequency - MS\n",
      "INFO - (NP.df_utils.return_df_in_original_format) - Returning df with no ID column\n",
      "INFO - (NP.df_utils._infer_frequency) - Major frequency MS corresponds to [99.324]% of the data.\n",
      "INFO - (NP.df_utils._infer_frequency) - Defined frequency is equal to major frequency - MS\n",
      "INFO - (NP.df_utils._infer_frequency) - Major frequency MS corresponds to [99.324]% of the data.\n",
      "INFO - (NP.df_utils._infer_frequency) - Defined frequency is equal to major frequency - MS\n"
     ]
    },
    {
     "name": "stdout",
     "output_type": "stream",
     "text": [
      "\n",
      "Predicting DataLoader 0: 100%|██████████| 1/1 [00:00<00:00, 200.57it/s]"
     ]
    },
    {
     "name": "stderr",
     "output_type": "stream",
     "text": [
      "INFO - (NP.df_utils.return_df_in_original_format) - Returning df with no ID column\n"
     ]
    },
    {
     "name": "stdout",
     "output_type": "stream",
     "text": [
      "\n",
      "R2 Score for Edgwarebury: -4.551601855429313\n"
     ]
    },
    {
     "name": "stderr",
     "output_type": "stream",
     "text": [
      "WARNING - (py.warnings._showwarnmsg) - C:\\Users\\20211445\\AppData\\Local\\Temp\\ipykernel_7180\\971183299.py:25: SettingWithCopyWarning: \n",
      "A value is trying to be set on a copy of a slice from a DataFrame.\n",
      "Try using .loc[row_indexer,col_indexer] = value instead\n",
      "\n",
      "See the caveats in the documentation: https://pandas.pydata.org/pandas-docs/stable/user_guide/indexing.html#returning-a-view-versus-a-copy\n",
      "  train_df['y'] = scaler.fit_transform(train_df['y'].values.reshape(-1, 1))\n",
      "\n",
      "WARNING - (NP.forecaster.fit) - When Global modeling with local normalization, metrics are displayed in normalized scale.\n",
      "INFO - (NP.df_utils._infer_frequency) - Major frequency MS corresponds to [99.265]% of the data.\n",
      "INFO - (NP.df_utils._infer_frequency) - Defined frequency is equal to major frequency - MS\n",
      "INFO - (NP.config.init_data_params) - Setting normalization to global as only one dataframe provided for training.\n",
      "INFO - (NP.utils.set_auto_seasonalities) - Disabling weekly seasonality. Run NeuralProphet with weekly_seasonality=True to override this.\n",
      "INFO - (NP.utils.set_auto_seasonalities) - Disabling daily seasonality. Run NeuralProphet with daily_seasonality=True to override this.\n",
      "INFO - (NP.config.set_auto_batch_epoch) - Auto-set batch_size to 16\n",
      "INFO - (NP.config.set_auto_batch_epoch) - Auto-set epochs to 449\n",
      "WARNING - (NP.config.set_lr_finder_args) - Learning rate finder: The number of batches (9) is too small than the required number for the learning rate finder (209). The results might not be optimal.\n",
      "Finding best initial lr: 100%|██████████| 209/209 [00:00<00:00, 221.99it/s]\n"
     ]
    },
    {
     "name": "stdout",
     "output_type": "stream",
     "text": [
      "Epoch 449: 100%|██████████| 449/449 [00:00<00:00, 9379.49it/s, loss=0.0156, v_num=73, MAE=0.635, RMSE=0.812, Loss=0.0153, RegLoss=0.000]  "
     ]
    },
    {
     "name": "stderr",
     "output_type": "stream",
     "text": [
      "INFO - (NP.df_utils._infer_frequency) - Major frequency MS corresponds to [99.265]% of the data.\n",
      "INFO - (NP.df_utils._infer_frequency) - Defined frequency is equal to major frequency - MS\n",
      "INFO - (NP.df_utils.return_df_in_original_format) - Returning df with no ID column\n",
      "INFO - (NP.df_utils._infer_frequency) - Major frequency MS corresponds to [99.324]% of the data.\n",
      "INFO - (NP.df_utils._infer_frequency) - Defined frequency is equal to major frequency - MS\n"
     ]
    },
    {
     "name": "stdout",
     "output_type": "stream",
     "text": [
      "\n"
     ]
    },
    {
     "name": "stderr",
     "output_type": "stream",
     "text": [
      "INFO - (NP.df_utils._infer_frequency) - Major frequency MS corresponds to [99.324]% of the data.\n",
      "INFO - (NP.df_utils._infer_frequency) - Defined frequency is equal to major frequency - MS\n"
     ]
    },
    {
     "name": "stdout",
     "output_type": "stream",
     "text": [
      "Predicting DataLoader 0: 100%|██████████| 1/1 [00:00<00:00, 250.72it/s]"
     ]
    },
    {
     "name": "stderr",
     "output_type": "stream",
     "text": [
      "INFO - (NP.df_utils.return_df_in_original_format) - Returning df with no ID column\n"
     ]
    },
    {
     "name": "stdout",
     "output_type": "stream",
     "text": [
      "\n"
     ]
    },
    {
     "name": "stderr",
     "output_type": "stream",
     "text": [
      "WARNING - (py.warnings._showwarnmsg) - C:\\Users\\20211445\\AppData\\Local\\Temp\\ipykernel_7180\\971183299.py:25: SettingWithCopyWarning: \n",
      "A value is trying to be set on a copy of a slice from a DataFrame.\n",
      "Try using .loc[row_indexer,col_indexer] = value instead\n",
      "\n",
      "See the caveats in the documentation: https://pandas.pydata.org/pandas-docs/stable/user_guide/indexing.html#returning-a-view-versus-a-copy\n",
      "  train_df['y'] = scaler.fit_transform(train_df['y'].values.reshape(-1, 1))\n",
      "\n",
      "WARNING - (NP.forecaster.fit) - When Global modeling with local normalization, metrics are displayed in normalized scale.\n",
      "INFO - (NP.df_utils._infer_frequency) - Major frequency MS corresponds to [99.265]% of the data.\n",
      "INFO - (NP.df_utils._infer_frequency) - Defined frequency is equal to major frequency - MS\n",
      "INFO - (NP.config.init_data_params) - Setting normalization to global as only one dataframe provided for training.\n",
      "INFO - (NP.utils.set_auto_seasonalities) - Disabling weekly seasonality. Run NeuralProphet with weekly_seasonality=True to override this.\n",
      "INFO - (NP.utils.set_auto_seasonalities) - Disabling daily seasonality. Run NeuralProphet with daily_seasonality=True to override this.\n"
     ]
    },
    {
     "name": "stdout",
     "output_type": "stream",
     "text": [
      "R2 Score for Finchley Church End: -0.07955452638435667\n"
     ]
    },
    {
     "name": "stderr",
     "output_type": "stream",
     "text": [
      "INFO - (NP.config.set_auto_batch_epoch) - Auto-set batch_size to 16\n",
      "INFO - (NP.config.set_auto_batch_epoch) - Auto-set epochs to 449\n",
      "WARNING - (NP.config.set_lr_finder_args) - Learning rate finder: The number of batches (9) is too small than the required number for the learning rate finder (209). The results might not be optimal.\n",
      "Finding best initial lr: 100%|██████████| 209/209 [00:01<00:00, 193.50it/s]\n"
     ]
    },
    {
     "name": "stdout",
     "output_type": "stream",
     "text": [
      "Epoch 449: 100%|██████████| 449/449 [00:00<00:00, 7898.55it/s, loss=0.00935, v_num=74, MAE=0.451, RMSE=0.580, Loss=0.00926, RegLoss=0.000]  "
     ]
    },
    {
     "name": "stderr",
     "output_type": "stream",
     "text": [
      "INFO - (NP.df_utils._infer_frequency) - Major frequency MS corresponds to [99.265]% of the data.\n"
     ]
    },
    {
     "name": "stdout",
     "output_type": "stream",
     "text": [
      "\n"
     ]
    },
    {
     "name": "stderr",
     "output_type": "stream",
     "text": [
      "INFO - (NP.df_utils._infer_frequency) - Defined frequency is equal to major frequency - MS\n",
      "INFO - (NP.df_utils.return_df_in_original_format) - Returning df with no ID column\n",
      "INFO - (NP.df_utils._infer_frequency) - Major frequency MS corresponds to [99.324]% of the data.\n",
      "INFO - (NP.df_utils._infer_frequency) - Defined frequency is equal to major frequency - MS\n",
      "INFO - (NP.df_utils._infer_frequency) - Major frequency MS corresponds to [99.324]% of the data.\n",
      "INFO - (NP.df_utils._infer_frequency) - Defined frequency is equal to major frequency - MS\n"
     ]
    },
    {
     "name": "stdout",
     "output_type": "stream",
     "text": [
      "Predicting DataLoader 0: 100%|██████████| 1/1 [00:00<00:00, 167.10it/s]"
     ]
    },
    {
     "name": "stderr",
     "output_type": "stream",
     "text": [
      "INFO - (NP.df_utils.return_df_in_original_format) - Returning df with no ID column\n",
      "WARNING - (py.warnings._showwarnmsg) - C:\\Users\\20211445\\AppData\\Local\\Temp\\ipykernel_7180\\971183299.py:25: SettingWithCopyWarning: \n",
      "A value is trying to be set on a copy of a slice from a DataFrame.\n",
      "Try using .loc[row_indexer,col_indexer] = value instead\n",
      "\n",
      "See the caveats in the documentation: https://pandas.pydata.org/pandas-docs/stable/user_guide/indexing.html#returning-a-view-versus-a-copy\n",
      "  train_df['y'] = scaler.fit_transform(train_df['y'].values.reshape(-1, 1))\n",
      "\n",
      "WARNING - (NP.forecaster.fit) - When Global modeling with local normalization, metrics are displayed in normalized scale.\n"
     ]
    },
    {
     "name": "stdout",
     "output_type": "stream",
     "text": [
      "\n",
      "R2 Score for Friern Barnet: -1.1120646133571759\n"
     ]
    },
    {
     "name": "stderr",
     "output_type": "stream",
     "text": [
      "INFO - (NP.df_utils._infer_frequency) - Major frequency MS corresponds to [99.265]% of the data.\n",
      "INFO - (NP.df_utils._infer_frequency) - Defined frequency is equal to major frequency - MS\n",
      "INFO - (NP.config.init_data_params) - Setting normalization to global as only one dataframe provided for training.\n",
      "INFO - (NP.utils.set_auto_seasonalities) - Disabling weekly seasonality. Run NeuralProphet with weekly_seasonality=True to override this.\n",
      "INFO - (NP.utils.set_auto_seasonalities) - Disabling daily seasonality. Run NeuralProphet with daily_seasonality=True to override this.\n",
      "INFO - (NP.config.set_auto_batch_epoch) - Auto-set batch_size to 16\n",
      "INFO - (NP.config.set_auto_batch_epoch) - Auto-set epochs to 449\n",
      "WARNING - (NP.config.set_lr_finder_args) - Learning rate finder: The number of batches (9) is too small than the required number for the learning rate finder (209). The results might not be optimal.\n",
      "Finding best initial lr: 100%|██████████| 209/209 [00:01<00:00, 183.82it/s]\n"
     ]
    },
    {
     "name": "stdout",
     "output_type": "stream",
     "text": [
      "Epoch 449: 100%|██████████| 449/449 [00:00<00:00, 9187.31it/s, loss=0.0206, v_num=75, MAE=0.670, RMSE=0.823, Loss=0.0215, RegLoss=0.000]  "
     ]
    },
    {
     "name": "stderr",
     "output_type": "stream",
     "text": [
      "INFO - (NP.df_utils._infer_frequency) - Major frequency MS corresponds to [99.265]% of the data.\n",
      "INFO - (NP.df_utils._infer_frequency) - Defined frequency is equal to major frequency - MS\n",
      "INFO - (NP.df_utils.return_df_in_original_format) - Returning df with no ID column\n",
      "INFO - (NP.df_utils._infer_frequency) - Major frequency MS corresponds to [99.324]% of the data.\n"
     ]
    },
    {
     "name": "stdout",
     "output_type": "stream",
     "text": [
      "\n"
     ]
    },
    {
     "name": "stderr",
     "output_type": "stream",
     "text": [
      "INFO - (NP.df_utils._infer_frequency) - Defined frequency is equal to major frequency - MS\n",
      "INFO - (NP.df_utils._infer_frequency) - Major frequency MS corresponds to [99.324]% of the data.\n",
      "INFO - (NP.df_utils._infer_frequency) - Defined frequency is equal to major frequency - MS\n"
     ]
    },
    {
     "name": "stdout",
     "output_type": "stream",
     "text": [
      "Predicting DataLoader 0: 100%|██████████| 1/1 [00:00<00:00, 200.64it/s]"
     ]
    },
    {
     "name": "stderr",
     "output_type": "stream",
     "text": [
      "INFO - (NP.df_utils.return_df_in_original_format) - Returning df with no ID column\n",
      "WARNING - (py.warnings._showwarnmsg) - C:\\Users\\20211445\\AppData\\Local\\Temp\\ipykernel_7180\\971183299.py:25: SettingWithCopyWarning: \n",
      "A value is trying to be set on a copy of a slice from a DataFrame.\n",
      "Try using .loc[row_indexer,col_indexer] = value instead\n",
      "\n",
      "See the caveats in the documentation: https://pandas.pydata.org/pandas-docs/stable/user_guide/indexing.html#returning-a-view-versus-a-copy\n",
      "  train_df['y'] = scaler.fit_transform(train_df['y'].values.reshape(-1, 1))\n",
      "\n",
      "WARNING - (NP.forecaster.fit) - When Global modeling with local normalization, metrics are displayed in normalized scale.\n"
     ]
    },
    {
     "name": "stdout",
     "output_type": "stream",
     "text": [
      "\n",
      "R2 Score for Garden Suburb: -0.8899592156722715\n"
     ]
    },
    {
     "name": "stderr",
     "output_type": "stream",
     "text": [
      "INFO - (NP.df_utils._infer_frequency) - Major frequency MS corresponds to [99.265]% of the data.\n",
      "INFO - (NP.df_utils._infer_frequency) - Defined frequency is equal to major frequency - MS\n",
      "INFO - (NP.config.init_data_params) - Setting normalization to global as only one dataframe provided for training.\n",
      "INFO - (NP.utils.set_auto_seasonalities) - Disabling weekly seasonality. Run NeuralProphet with weekly_seasonality=True to override this.\n",
      "INFO - (NP.utils.set_auto_seasonalities) - Disabling daily seasonality. Run NeuralProphet with daily_seasonality=True to override this.\n",
      "INFO - (NP.config.set_auto_batch_epoch) - Auto-set batch_size to 16\n",
      "INFO - (NP.config.set_auto_batch_epoch) - Auto-set epochs to 449\n",
      "WARNING - (NP.config.set_lr_finder_args) - Learning rate finder: The number of batches (9) is too small than the required number for the learning rate finder (209). The results might not be optimal.\n",
      "Finding best initial lr: 100%|██████████| 209/209 [00:01<00:00, 192.96it/s]\n"
     ]
    },
    {
     "name": "stdout",
     "output_type": "stream",
     "text": [
      "Epoch 449: 100%|██████████| 449/449 [00:00<00:00, 3783.26it/s, loss=0.0172, v_num=76, MAE=0.617, RMSE=0.772, Loss=0.0171, RegLoss=0.000]  "
     ]
    },
    {
     "name": "stderr",
     "output_type": "stream",
     "text": [
      "INFO - (NP.df_utils._infer_frequency) - Major frequency MS corresponds to [99.265]% of the data.\n",
      "INFO - (NP.df_utils._infer_frequency) - Defined frequency is equal to major frequency - MS\n",
      "INFO - (NP.df_utils.return_df_in_original_format) - Returning df with no ID column\n"
     ]
    },
    {
     "name": "stdout",
     "output_type": "stream",
     "text": [
      "\n"
     ]
    },
    {
     "name": "stderr",
     "output_type": "stream",
     "text": [
      "INFO - (NP.df_utils._infer_frequency) - Major frequency MS corresponds to [99.324]% of the data.\n",
      "INFO - (NP.df_utils._infer_frequency) - Defined frequency is equal to major frequency - MS\n",
      "INFO - (NP.df_utils._infer_frequency) - Major frequency MS corresponds to [99.324]% of the data.\n",
      "INFO - (NP.df_utils._infer_frequency) - Defined frequency is equal to major frequency - MS\n"
     ]
    },
    {
     "name": "stdout",
     "output_type": "stream",
     "text": [
      "Predicting DataLoader 0: 100%|██████████| 1/1 [00:00<00:00, 100.29it/s]"
     ]
    },
    {
     "name": "stderr",
     "output_type": "stream",
     "text": [
      "INFO - (NP.df_utils.return_df_in_original_format) - Returning df with no ID column\n",
      "WARNING - (py.warnings._showwarnmsg) - C:\\Users\\20211445\\AppData\\Local\\Temp\\ipykernel_7180\\971183299.py:25: SettingWithCopyWarning: \n",
      "A value is trying to be set on a copy of a slice from a DataFrame.\n",
      "Try using .loc[row_indexer,col_indexer] = value instead\n",
      "\n",
      "See the caveats in the documentation: https://pandas.pydata.org/pandas-docs/stable/user_guide/indexing.html#returning-a-view-versus-a-copy\n",
      "  train_df['y'] = scaler.fit_transform(train_df['y'].values.reshape(-1, 1))\n",
      "\n",
      "WARNING - (NP.forecaster.fit) - When Global modeling with local normalization, metrics are displayed in normalized scale.\n",
      "INFO - (NP.df_utils._infer_frequency) - Major frequency MS corresponds to [99.265]% of the data.\n",
      "INFO - (NP.df_utils._infer_frequency) - Defined frequency is equal to major frequency - MS\n",
      "INFO - (NP.config.init_data_params) - Setting normalization to global as only one dataframe provided for training.\n",
      "INFO - (NP.utils.set_auto_seasonalities) - Disabling weekly seasonality. Run NeuralProphet with weekly_seasonality=True to override this.\n",
      "INFO - (NP.utils.set_auto_seasonalities) - Disabling daily seasonality. Run NeuralProphet with daily_seasonality=True to override this.\n",
      "INFO - (NP.config.set_auto_batch_epoch) - Auto-set batch_size to 16\n",
      "INFO - (NP.config.set_auto_batch_epoch) - Auto-set epochs to 449\n"
     ]
    },
    {
     "name": "stdout",
     "output_type": "stream",
     "text": [
      "\n",
      "R2 Score for Golders Green: -1.2925773145520054\n"
     ]
    },
    {
     "name": "stderr",
     "output_type": "stream",
     "text": [
      "WARNING - (NP.config.set_lr_finder_args) - Learning rate finder: The number of batches (9) is too small than the required number for the learning rate finder (209). The results might not be optimal.\n",
      "Finding best initial lr: 100%|██████████| 209/209 [00:02<00:00, 81.51it/s]\n"
     ]
    },
    {
     "name": "stdout",
     "output_type": "stream",
     "text": [
      "Epoch 449: 100%|██████████| 449/449 [00:00<00:00, 9568.25it/s, loss=0.0183, v_num=77, MAE=0.683, RMSE=0.840, Loss=0.0186, RegLoss=0.000]  \n"
     ]
    },
    {
     "name": "stderr",
     "output_type": "stream",
     "text": [
      "INFO - (NP.df_utils._infer_frequency) - Major frequency MS corresponds to [99.265]% of the data.\n",
      "INFO - (NP.df_utils._infer_frequency) - Defined frequency is equal to major frequency - MS\n",
      "INFO - (NP.df_utils.return_df_in_original_format) - Returning df with no ID column\n",
      "INFO - (NP.df_utils._infer_frequency) - Major frequency MS corresponds to [99.324]% of the data.\n",
      "INFO - (NP.df_utils._infer_frequency) - Defined frequency is equal to major frequency - MS\n",
      "INFO - (NP.df_utils._infer_frequency) - Major frequency MS corresponds to [99.324]% of the data.\n",
      "INFO - (NP.df_utils._infer_frequency) - Defined frequency is equal to major frequency - MS\n"
     ]
    },
    {
     "name": "stdout",
     "output_type": "stream",
     "text": [
      "Predicting DataLoader 0: 100%|██████████| 1/1 [00:00<00:00, 200.62it/s]"
     ]
    },
    {
     "name": "stderr",
     "output_type": "stream",
     "text": [
      "INFO - (NP.df_utils.return_df_in_original_format) - Returning df with no ID column\n",
      "WARNING - (py.warnings._showwarnmsg) - C:\\Users\\20211445\\AppData\\Local\\Temp\\ipykernel_7180\\971183299.py:25: SettingWithCopyWarning: \n",
      "A value is trying to be set on a copy of a slice from a DataFrame.\n",
      "Try using .loc[row_indexer,col_indexer] = value instead\n",
      "\n",
      "See the caveats in the documentation: https://pandas.pydata.org/pandas-docs/stable/user_guide/indexing.html#returning-a-view-versus-a-copy\n",
      "  train_df['y'] = scaler.fit_transform(train_df['y'].values.reshape(-1, 1))\n",
      "\n",
      "WARNING - (NP.forecaster.fit) - When Global modeling with local normalization, metrics are displayed in normalized scale.\n"
     ]
    },
    {
     "name": "stdout",
     "output_type": "stream",
     "text": [
      "\n",
      "R2 Score for Hendon: -0.1351387202280836\n"
     ]
    },
    {
     "name": "stderr",
     "output_type": "stream",
     "text": [
      "INFO - (NP.df_utils._infer_frequency) - Major frequency MS corresponds to [99.265]% of the data.\n",
      "INFO - (NP.df_utils._infer_frequency) - Defined frequency is equal to major frequency - MS\n",
      "INFO - (NP.config.init_data_params) - Setting normalization to global as only one dataframe provided for training.\n",
      "INFO - (NP.utils.set_auto_seasonalities) - Disabling weekly seasonality. Run NeuralProphet with weekly_seasonality=True to override this.\n",
      "INFO - (NP.utils.set_auto_seasonalities) - Disabling daily seasonality. Run NeuralProphet with daily_seasonality=True to override this.\n",
      "INFO - (NP.config.set_auto_batch_epoch) - Auto-set batch_size to 16\n",
      "INFO - (NP.config.set_auto_batch_epoch) - Auto-set epochs to 449\n",
      "WARNING - (NP.config.set_lr_finder_args) - Learning rate finder: The number of batches (9) is too small than the required number for the learning rate finder (209). The results might not be optimal.\n",
      "Finding best initial lr: 100%|██████████| 209/209 [00:00<00:00, 211.44it/s]\n"
     ]
    },
    {
     "name": "stdout",
     "output_type": "stream",
     "text": [
      "Epoch 449: 100%|██████████| 449/449 [00:00<00:00, 9998.74it/s, loss=0.0131, v_num=78, MAE=0.600, RMSE=0.728, Loss=0.0128, RegLoss=0.000]  "
     ]
    },
    {
     "name": "stderr",
     "output_type": "stream",
     "text": [
      "INFO - (NP.df_utils._infer_frequency) - Major frequency MS corresponds to [99.265]% of the data.\n",
      "INFO - (NP.df_utils._infer_frequency) - Defined frequency is equal to major frequency - MS\n",
      "INFO - (NP.df_utils.return_df_in_original_format) - Returning df with no ID column\n",
      "INFO - (NP.df_utils._infer_frequency) - Major frequency MS corresponds to [99.324]% of the data.\n"
     ]
    },
    {
     "name": "stdout",
     "output_type": "stream",
     "text": [
      "\n"
     ]
    },
    {
     "name": "stderr",
     "output_type": "stream",
     "text": [
      "INFO - (NP.df_utils._infer_frequency) - Defined frequency is equal to major frequency - MS\n",
      "INFO - (NP.df_utils._infer_frequency) - Major frequency MS corresponds to [99.324]% of the data.\n",
      "INFO - (NP.df_utils._infer_frequency) - Defined frequency is equal to major frequency - MS\n"
     ]
    },
    {
     "name": "stdout",
     "output_type": "stream",
     "text": [
      "Predicting DataLoader 0: 100%|██████████| 1/1 [00:00<00:00, 200.65it/s]"
     ]
    },
    {
     "name": "stderr",
     "output_type": "stream",
     "text": [
      "INFO - (NP.df_utils.return_df_in_original_format) - Returning df with no ID column\n",
      "WARNING - (py.warnings._showwarnmsg) - C:\\Users\\20211445\\AppData\\Local\\Temp\\ipykernel_7180\\971183299.py:25: SettingWithCopyWarning: \n",
      "A value is trying to be set on a copy of a slice from a DataFrame.\n",
      "Try using .loc[row_indexer,col_indexer] = value instead\n",
      "\n",
      "See the caveats in the documentation: https://pandas.pydata.org/pandas-docs/stable/user_guide/indexing.html#returning-a-view-versus-a-copy\n",
      "  train_df['y'] = scaler.fit_transform(train_df['y'].values.reshape(-1, 1))\n",
      "\n",
      "WARNING - (NP.forecaster.fit) - When Global modeling with local normalization, metrics are displayed in normalized scale.\n",
      "INFO - (NP.df_utils._infer_frequency) - Major frequency MS corresponds to [99.265]% of the data.\n"
     ]
    },
    {
     "name": "stdout",
     "output_type": "stream",
     "text": [
      "\n",
      "R2 Score for High Barnet: -0.6973391677944065\n"
     ]
    },
    {
     "name": "stderr",
     "output_type": "stream",
     "text": [
      "INFO - (NP.df_utils._infer_frequency) - Defined frequency is equal to major frequency - MS\n",
      "INFO - (NP.config.init_data_params) - Setting normalization to global as only one dataframe provided for training.\n",
      "INFO - (NP.utils.set_auto_seasonalities) - Disabling weekly seasonality. Run NeuralProphet with weekly_seasonality=True to override this.\n",
      "INFO - (NP.utils.set_auto_seasonalities) - Disabling daily seasonality. Run NeuralProphet with daily_seasonality=True to override this.\n",
      "INFO - (NP.config.set_auto_batch_epoch) - Auto-set batch_size to 16\n",
      "INFO - (NP.config.set_auto_batch_epoch) - Auto-set epochs to 449\n",
      "WARNING - (NP.config.set_lr_finder_args) - Learning rate finder: The number of batches (9) is too small than the required number for the learning rate finder (209). The results might not be optimal.\n",
      "Finding best initial lr: 100%|██████████| 209/209 [00:00<00:00, 222.10it/s]\n"
     ]
    },
    {
     "name": "stdout",
     "output_type": "stream",
     "text": [
      "Epoch 449: 100%|██████████| 449/449 [00:00<00:00, 10461.82it/s, loss=0.0124, v_num=79, MAE=0.546, RMSE=0.685, Loss=0.0128, RegLoss=0.000] "
     ]
    },
    {
     "name": "stderr",
     "output_type": "stream",
     "text": [
      "INFO - (NP.df_utils._infer_frequency) - Major frequency MS corresponds to [99.265]% of the data.\n"
     ]
    },
    {
     "name": "stdout",
     "output_type": "stream",
     "text": [
      "\n"
     ]
    },
    {
     "name": "stderr",
     "output_type": "stream",
     "text": [
      "INFO - (NP.df_utils._infer_frequency) - Defined frequency is equal to major frequency - MS\n",
      "INFO - (NP.df_utils.return_df_in_original_format) - Returning df with no ID column\n",
      "INFO - (NP.df_utils._infer_frequency) - Major frequency MS corresponds to [99.324]% of the data.\n",
      "INFO - (NP.df_utils._infer_frequency) - Defined frequency is equal to major frequency - MS\n",
      "INFO - (NP.df_utils._infer_frequency) - Major frequency MS corresponds to [99.324]% of the data.\n",
      "INFO - (NP.df_utils._infer_frequency) - Defined frequency is equal to major frequency - MS\n"
     ]
    },
    {
     "name": "stdout",
     "output_type": "stream",
     "text": [
      "Predicting DataLoader 0: 100%|██████████| 1/1 [00:00<00:00, 167.14it/s]"
     ]
    },
    {
     "name": "stderr",
     "output_type": "stream",
     "text": [
      "INFO - (NP.df_utils.return_df_in_original_format) - Returning df with no ID column\n",
      "WARNING - (py.warnings._showwarnmsg) - C:\\Users\\20211445\\AppData\\Local\\Temp\\ipykernel_7180\\971183299.py:25: SettingWithCopyWarning: \n",
      "A value is trying to be set on a copy of a slice from a DataFrame.\n",
      "Try using .loc[row_indexer,col_indexer] = value instead\n",
      "\n",
      "See the caveats in the documentation: https://pandas.pydata.org/pandas-docs/stable/user_guide/indexing.html#returning-a-view-versus-a-copy\n",
      "  train_df['y'] = scaler.fit_transform(train_df['y'].values.reshape(-1, 1))\n",
      "\n",
      "WARNING - (NP.forecaster.fit) - When Global modeling with local normalization, metrics are displayed in normalized scale.\n",
      "INFO - (NP.df_utils._infer_frequency) - Major frequency MS corresponds to [99.265]% of the data.\n",
      "INFO - (NP.df_utils._infer_frequency) - Defined frequency is equal to major frequency - MS\n"
     ]
    },
    {
     "name": "stdout",
     "output_type": "stream",
     "text": [
      "\n",
      "R2 Score for Mill Hill: -1.3681779925321789\n"
     ]
    },
    {
     "name": "stderr",
     "output_type": "stream",
     "text": [
      "INFO - (NP.config.init_data_params) - Setting normalization to global as only one dataframe provided for training.\n",
      "INFO - (NP.utils.set_auto_seasonalities) - Disabling weekly seasonality. Run NeuralProphet with weekly_seasonality=True to override this.\n",
      "INFO - (NP.utils.set_auto_seasonalities) - Disabling daily seasonality. Run NeuralProphet with daily_seasonality=True to override this.\n",
      "INFO - (NP.config.set_auto_batch_epoch) - Auto-set batch_size to 16\n",
      "INFO - (NP.config.set_auto_batch_epoch) - Auto-set epochs to 449\n",
      "WARNING - (NP.config.set_lr_finder_args) - Learning rate finder: The number of batches (9) is too small than the required number for the learning rate finder (209). The results might not be optimal.\n",
      "Finding best initial lr: 100%|██████████| 209/209 [00:00<00:00, 221.02it/s]\n"
     ]
    },
    {
     "name": "stdout",
     "output_type": "stream",
     "text": [
      "Epoch 449: 100%|██████████| 449/449 [00:00<00:00, 9787.86it/s, loss=0.0119, v_num=80, MAE=0.562, RMSE=0.723, Loss=0.0107, RegLoss=0.000]  "
     ]
    },
    {
     "name": "stderr",
     "output_type": "stream",
     "text": [
      "INFO - (NP.df_utils._infer_frequency) - Major frequency MS corresponds to [99.265]% of the data.\n",
      "INFO - (NP.df_utils._infer_frequency) - Defined frequency is equal to major frequency - MS\n"
     ]
    },
    {
     "name": "stdout",
     "output_type": "stream",
     "text": [
      "\n"
     ]
    },
    {
     "name": "stderr",
     "output_type": "stream",
     "text": [
      "INFO - (NP.df_utils.return_df_in_original_format) - Returning df with no ID column\n",
      "INFO - (NP.df_utils._infer_frequency) - Major frequency MS corresponds to [99.324]% of the data.\n",
      "INFO - (NP.df_utils._infer_frequency) - Defined frequency is equal to major frequency - MS\n",
      "INFO - (NP.df_utils._infer_frequency) - Major frequency MS corresponds to [99.324]% of the data.\n",
      "INFO - (NP.df_utils._infer_frequency) - Defined frequency is equal to major frequency - MS\n"
     ]
    },
    {
     "name": "stdout",
     "output_type": "stream",
     "text": [
      "Predicting DataLoader 0: 100%|██████████| 1/1 [00:00<00:00, 168.06it/s]"
     ]
    },
    {
     "name": "stderr",
     "output_type": "stream",
     "text": [
      "INFO - (NP.df_utils.return_df_in_original_format) - Returning df with no ID column\n",
      "WARNING - (py.warnings._showwarnmsg) - C:\\Users\\20211445\\AppData\\Local\\Temp\\ipykernel_7180\\971183299.py:25: SettingWithCopyWarning: \n",
      "A value is trying to be set on a copy of a slice from a DataFrame.\n",
      "Try using .loc[row_indexer,col_indexer] = value instead\n",
      "\n",
      "See the caveats in the documentation: https://pandas.pydata.org/pandas-docs/stable/user_guide/indexing.html#returning-a-view-versus-a-copy\n",
      "  train_df['y'] = scaler.fit_transform(train_df['y'].values.reshape(-1, 1))\n",
      "\n",
      "WARNING - (NP.forecaster.fit) - When Global modeling with local normalization, metrics are displayed in normalized scale.\n",
      "INFO - (NP.df_utils._infer_frequency) - Major frequency MS corresponds to [99.265]% of the data.\n",
      "INFO - (NP.df_utils._infer_frequency) - Defined frequency is equal to major frequency - MS\n"
     ]
    },
    {
     "name": "stdout",
     "output_type": "stream",
     "text": [
      "\n",
      "R2 Score for Totteridge & Woodside: -3.556242413155829\n"
     ]
    },
    {
     "name": "stderr",
     "output_type": "stream",
     "text": [
      "INFO - (NP.config.init_data_params) - Setting normalization to global as only one dataframe provided for training.\n",
      "INFO - (NP.utils.set_auto_seasonalities) - Disabling weekly seasonality. Run NeuralProphet with weekly_seasonality=True to override this.\n",
      "INFO - (NP.utils.set_auto_seasonalities) - Disabling daily seasonality. Run NeuralProphet with daily_seasonality=True to override this.\n",
      "INFO - (NP.config.set_auto_batch_epoch) - Auto-set batch_size to 16\n",
      "INFO - (NP.config.set_auto_batch_epoch) - Auto-set epochs to 449\n",
      "WARNING - (NP.config.set_lr_finder_args) - Learning rate finder: The number of batches (9) is too small than the required number for the learning rate finder (209). The results might not be optimal.\n",
      "Finding best initial lr: 100%|██████████| 209/209 [00:01<00:00, 208.09it/s]\n"
     ]
    },
    {
     "name": "stdout",
     "output_type": "stream",
     "text": [
      "Epoch 449: 100%|██████████| 449/449 [00:00<00:00, 10239.35it/s, loss=0.0167, v_num=81, MAE=0.630, RMSE=0.763, Loss=0.0169, RegLoss=0.000] "
     ]
    },
    {
     "name": "stderr",
     "output_type": "stream",
     "text": [
      "INFO - (NP.df_utils._infer_frequency) - Major frequency MS corresponds to [99.265]% of the data.\n"
     ]
    },
    {
     "name": "stdout",
     "output_type": "stream",
     "text": [
      "\n"
     ]
    },
    {
     "name": "stderr",
     "output_type": "stream",
     "text": [
      "INFO - (NP.df_utils._infer_frequency) - Defined frequency is equal to major frequency - MS\n",
      "INFO - (NP.df_utils.return_df_in_original_format) - Returning df with no ID column\n",
      "INFO - (NP.df_utils._infer_frequency) - Major frequency MS corresponds to [99.324]% of the data.\n",
      "INFO - (NP.df_utils._infer_frequency) - Defined frequency is equal to major frequency - MS\n",
      "INFO - (NP.df_utils._infer_frequency) - Major frequency MS corresponds to [99.324]% of the data.\n",
      "INFO - (NP.df_utils._infer_frequency) - Defined frequency is equal to major frequency - MS\n"
     ]
    },
    {
     "name": "stdout",
     "output_type": "stream",
     "text": [
      "Predicting DataLoader 0: 100%|██████████| 1/1 [00:00<00:00, 250.99it/s]\n"
     ]
    },
    {
     "name": "stderr",
     "output_type": "stream",
     "text": [
      "INFO - (NP.df_utils.return_df_in_original_format) - Returning df with no ID column\n",
      "WARNING - (py.warnings._showwarnmsg) - C:\\Users\\20211445\\AppData\\Local\\Temp\\ipykernel_7180\\971183299.py:25: SettingWithCopyWarning: \n",
      "A value is trying to be set on a copy of a slice from a DataFrame.\n",
      "Try using .loc[row_indexer,col_indexer] = value instead\n",
      "\n",
      "See the caveats in the documentation: https://pandas.pydata.org/pandas-docs/stable/user_guide/indexing.html#returning-a-view-versus-a-copy\n",
      "  train_df['y'] = scaler.fit_transform(train_df['y'].values.reshape(-1, 1))\n",
      "\n",
      "WARNING - (NP.forecaster.fit) - When Global modeling with local normalization, metrics are displayed in normalized scale.\n"
     ]
    },
    {
     "name": "stdout",
     "output_type": "stream",
     "text": [
      "R2 Score for Underhill: -8.884861674828366\n"
     ]
    },
    {
     "name": "stderr",
     "output_type": "stream",
     "text": [
      "INFO - (NP.df_utils._infer_frequency) - Major frequency MS corresponds to [99.265]% of the data.\n",
      "INFO - (NP.df_utils._infer_frequency) - Defined frequency is equal to major frequency - MS\n",
      "INFO - (NP.config.init_data_params) - Setting normalization to global as only one dataframe provided for training.\n",
      "INFO - (NP.utils.set_auto_seasonalities) - Disabling weekly seasonality. Run NeuralProphet with weekly_seasonality=True to override this.\n",
      "INFO - (NP.utils.set_auto_seasonalities) - Disabling daily seasonality. Run NeuralProphet with daily_seasonality=True to override this.\n",
      "INFO - (NP.config.set_auto_batch_epoch) - Auto-set batch_size to 16\n",
      "INFO - (NP.config.set_auto_batch_epoch) - Auto-set epochs to 449\n",
      "WARNING - (NP.config.set_lr_finder_args) - Learning rate finder: The number of batches (9) is too small than the required number for the learning rate finder (209). The results might not be optimal.\n",
      "Finding best initial lr: 100%|██████████| 209/209 [00:00<00:00, 230.21it/s]\n"
     ]
    },
    {
     "name": "stdout",
     "output_type": "stream",
     "text": [
      "Epoch 449: 100%|██████████| 449/449 [00:00<00:00, 10469.21it/s, loss=0.012, v_num=82, MAE=0.520, RMSE=0.683, Loss=0.0123, RegLoss=0.000]  "
     ]
    },
    {
     "name": "stderr",
     "output_type": "stream",
     "text": [
      "INFO - (NP.df_utils._infer_frequency) - Major frequency MS corresponds to [99.265]% of the data.\n"
     ]
    },
    {
     "name": "stdout",
     "output_type": "stream",
     "text": [
      "\n"
     ]
    },
    {
     "name": "stderr",
     "output_type": "stream",
     "text": [
      "INFO - (NP.df_utils._infer_frequency) - Defined frequency is equal to major frequency - MS\n",
      "INFO - (NP.df_utils.return_df_in_original_format) - Returning df with no ID column\n",
      "INFO - (NP.df_utils._infer_frequency) - Major frequency MS corresponds to [99.324]% of the data.\n",
      "INFO - (NP.df_utils._infer_frequency) - Defined frequency is equal to major frequency - MS\n",
      "INFO - (NP.df_utils._infer_frequency) - Major frequency MS corresponds to [99.324]% of the data.\n",
      "INFO - (NP.df_utils._infer_frequency) - Defined frequency is equal to major frequency - MS\n"
     ]
    },
    {
     "name": "stdout",
     "output_type": "stream",
     "text": [
      "Predicting DataLoader 0: 100%|██████████| 1/1 [00:00<00:00, 200.58it/s]"
     ]
    },
    {
     "name": "stderr",
     "output_type": "stream",
     "text": [
      "INFO - (NP.df_utils.return_df_in_original_format) - Returning df with no ID column\n",
      "WARNING - (py.warnings._showwarnmsg) - C:\\Users\\20211445\\AppData\\Local\\Temp\\ipykernel_7180\\971183299.py:25: SettingWithCopyWarning: \n",
      "A value is trying to be set on a copy of a slice from a DataFrame.\n",
      "Try using .loc[row_indexer,col_indexer] = value instead\n",
      "\n",
      "See the caveats in the documentation: https://pandas.pydata.org/pandas-docs/stable/user_guide/indexing.html#returning-a-view-versus-a-copy\n",
      "  train_df['y'] = scaler.fit_transform(train_df['y'].values.reshape(-1, 1))\n",
      "\n",
      "WARNING - (NP.forecaster.fit) - When Global modeling with local normalization, metrics are displayed in normalized scale.\n"
     ]
    },
    {
     "name": "stdout",
     "output_type": "stream",
     "text": [
      "\n",
      "R2 Score for West Finchley: 0.30670885417298155\n"
     ]
    },
    {
     "name": "stderr",
     "output_type": "stream",
     "text": [
      "INFO - (NP.df_utils._infer_frequency) - Major frequency MS corresponds to [99.265]% of the data.\n",
      "INFO - (NP.df_utils._infer_frequency) - Defined frequency is equal to major frequency - MS\n",
      "INFO - (NP.config.init_data_params) - Setting normalization to global as only one dataframe provided for training.\n",
      "INFO - (NP.utils.set_auto_seasonalities) - Disabling weekly seasonality. Run NeuralProphet with weekly_seasonality=True to override this.\n",
      "INFO - (NP.utils.set_auto_seasonalities) - Disabling daily seasonality. Run NeuralProphet with daily_seasonality=True to override this.\n",
      "INFO - (NP.config.set_auto_batch_epoch) - Auto-set batch_size to 16\n",
      "INFO - (NP.config.set_auto_batch_epoch) - Auto-set epochs to 449\n",
      "WARNING - (NP.config.set_lr_finder_args) - Learning rate finder: The number of batches (9) is too small than the required number for the learning rate finder (209). The results might not be optimal.\n",
      "Finding best initial lr: 100%|██████████| 209/209 [00:00<00:00, 222.90it/s]\n"
     ]
    },
    {
     "name": "stdout",
     "output_type": "stream",
     "text": [
      "Epoch 449: 100%|██████████| 449/449 [00:00<00:00, 9787.15it/s, loss=0.0139, v_num=83, MAE=0.563, RMSE=0.692, Loss=0.0138, RegLoss=0.000]  "
     ]
    },
    {
     "name": "stderr",
     "output_type": "stream",
     "text": [
      "INFO - (NP.df_utils._infer_frequency) - Major frequency MS corresponds to [99.265]% of the data.\n"
     ]
    },
    {
     "name": "stdout",
     "output_type": "stream",
     "text": [
      "\n"
     ]
    },
    {
     "name": "stderr",
     "output_type": "stream",
     "text": [
      "INFO - (NP.df_utils._infer_frequency) - Defined frequency is equal to major frequency - MS\n",
      "INFO - (NP.df_utils.return_df_in_original_format) - Returning df with no ID column\n",
      "INFO - (NP.df_utils._infer_frequency) - Major frequency MS corresponds to [99.324]% of the data.\n",
      "INFO - (NP.df_utils._infer_frequency) - Defined frequency is equal to major frequency - MS\n",
      "INFO - (NP.df_utils._infer_frequency) - Major frequency MS corresponds to [99.324]% of the data.\n",
      "INFO - (NP.df_utils._infer_frequency) - Defined frequency is equal to major frequency - MS\n"
     ]
    },
    {
     "name": "stdout",
     "output_type": "stream",
     "text": [
      "Predicting DataLoader 0: 100%|██████████| 1/1 [00:00<00:00, 250.72it/s]"
     ]
    },
    {
     "name": "stderr",
     "output_type": "stream",
     "text": [
      "INFO - (NP.df_utils.return_df_in_original_format) - Returning df with no ID column\n",
      "WARNING - (py.warnings._showwarnmsg) - C:\\Users\\20211445\\AppData\\Local\\Temp\\ipykernel_7180\\971183299.py:25: SettingWithCopyWarning: \n",
      "A value is trying to be set on a copy of a slice from a DataFrame.\n",
      "Try using .loc[row_indexer,col_indexer] = value instead\n",
      "\n",
      "See the caveats in the documentation: https://pandas.pydata.org/pandas-docs/stable/user_guide/indexing.html#returning-a-view-versus-a-copy\n",
      "  train_df['y'] = scaler.fit_transform(train_df['y'].values.reshape(-1, 1))\n",
      "\n",
      "WARNING - (NP.forecaster.fit) - When Global modeling with local normalization, metrics are displayed in normalized scale.\n",
      "INFO - (NP.df_utils._infer_frequency) - Major frequency MS corresponds to [99.265]% of the data.\n",
      "INFO - (NP.df_utils._infer_frequency) - Defined frequency is equal to major frequency - MS\n"
     ]
    },
    {
     "name": "stdout",
     "output_type": "stream",
     "text": [
      "\n",
      "R2 Score for West Hendon: -7.176470535951934\n"
     ]
    },
    {
     "name": "stderr",
     "output_type": "stream",
     "text": [
      "INFO - (NP.config.init_data_params) - Setting normalization to global as only one dataframe provided for training.\n",
      "INFO - (NP.utils.set_auto_seasonalities) - Disabling weekly seasonality. Run NeuralProphet with weekly_seasonality=True to override this.\n",
      "INFO - (NP.utils.set_auto_seasonalities) - Disabling daily seasonality. Run NeuralProphet with daily_seasonality=True to override this.\n",
      "INFO - (NP.config.set_auto_batch_epoch) - Auto-set batch_size to 16\n",
      "INFO - (NP.config.set_auto_batch_epoch) - Auto-set epochs to 449\n",
      "WARNING - (NP.config.set_lr_finder_args) - Learning rate finder: The number of batches (9) is too small than the required number for the learning rate finder (209). The results might not be optimal.\n",
      "Finding best initial lr: 100%|██████████| 209/209 [00:00<00:00, 228.78it/s]\n"
     ]
    },
    {
     "name": "stdout",
     "output_type": "stream",
     "text": [
      "Epoch 449: 100%|██████████| 449/449 [00:00<00:00, 8494.52it/s, loss=0.0154, v_num=84, MAE=0.607, RMSE=0.744, Loss=0.0157, RegLoss=0.000]  "
     ]
    },
    {
     "name": "stderr",
     "output_type": "stream",
     "text": [
      "INFO - (NP.df_utils._infer_frequency) - Major frequency MS corresponds to [99.265]% of the data.\n",
      "INFO - (NP.df_utils._infer_frequency) - Defined frequency is equal to major frequency - MS\n",
      "INFO - (NP.df_utils.return_df_in_original_format) - Returning df with no ID column\n",
      "INFO - (NP.df_utils._infer_frequency) - Major frequency MS corresponds to [99.324]% of the data.\n"
     ]
    },
    {
     "name": "stdout",
     "output_type": "stream",
     "text": [
      "\n"
     ]
    },
    {
     "name": "stderr",
     "output_type": "stream",
     "text": [
      "INFO - (NP.df_utils._infer_frequency) - Defined frequency is equal to major frequency - MS\n",
      "INFO - (NP.df_utils._infer_frequency) - Major frequency MS corresponds to [99.324]% of the data.\n",
      "INFO - (NP.df_utils._infer_frequency) - Defined frequency is equal to major frequency - MS\n"
     ]
    },
    {
     "name": "stdout",
     "output_type": "stream",
     "text": [
      "Predicting DataLoader 0: 100%|██████████| 1/1 [00:00<00:00, 200.49it/s]"
     ]
    },
    {
     "name": "stderr",
     "output_type": "stream",
     "text": [
      "INFO - (NP.df_utils.return_df_in_original_format) - Returning df with no ID column\n",
      "WARNING - (py.warnings._showwarnmsg) - C:\\Users\\20211445\\AppData\\Local\\Temp\\ipykernel_7180\\971183299.py:25: SettingWithCopyWarning: \n",
      "A value is trying to be set on a copy of a slice from a DataFrame.\n",
      "Try using .loc[row_indexer,col_indexer] = value instead\n",
      "\n",
      "See the caveats in the documentation: https://pandas.pydata.org/pandas-docs/stable/user_guide/indexing.html#returning-a-view-versus-a-copy\n",
      "  train_df['y'] = scaler.fit_transform(train_df['y'].values.reshape(-1, 1))\n",
      "\n",
      "WARNING - (NP.forecaster.fit) - When Global modeling with local normalization, metrics are displayed in normalized scale.\n"
     ]
    },
    {
     "name": "stdout",
     "output_type": "stream",
     "text": [
      "\n",
      "R2 Score for Whetstone: -1.3340178737224315\n"
     ]
    },
    {
     "name": "stderr",
     "output_type": "stream",
     "text": [
      "INFO - (NP.df_utils._infer_frequency) - Major frequency MS corresponds to [99.265]% of the data.\n",
      "INFO - (NP.df_utils._infer_frequency) - Defined frequency is equal to major frequency - MS\n",
      "INFO - (NP.config.init_data_params) - Setting normalization to global as only one dataframe provided for training.\n",
      "INFO - (NP.utils.set_auto_seasonalities) - Disabling weekly seasonality. Run NeuralProphet with weekly_seasonality=True to override this.\n",
      "INFO - (NP.utils.set_auto_seasonalities) - Disabling daily seasonality. Run NeuralProphet with daily_seasonality=True to override this.\n",
      "INFO - (NP.config.set_auto_batch_epoch) - Auto-set batch_size to 16\n",
      "INFO - (NP.config.set_auto_batch_epoch) - Auto-set epochs to 449\n",
      "WARNING - (NP.config.set_lr_finder_args) - Learning rate finder: The number of batches (9) is too small than the required number for the learning rate finder (209). The results might not be optimal.\n",
      "Finding best initial lr: 100%|██████████| 209/209 [00:01<00:00, 185.12it/s]\n"
     ]
    },
    {
     "name": "stdout",
     "output_type": "stream",
     "text": [
      "Epoch 449: 100%|██████████| 449/449 [00:00<00:00, 8886.36it/s, loss=0.0128, v_num=85, MAE=0.547, RMSE=0.691, Loss=0.0131, RegLoss=0.000]  "
     ]
    },
    {
     "name": "stderr",
     "output_type": "stream",
     "text": [
      "INFO - (NP.df_utils._infer_frequency) - Major frequency MS corresponds to [99.265]% of the data.\n"
     ]
    },
    {
     "name": "stdout",
     "output_type": "stream",
     "text": [
      "\n"
     ]
    },
    {
     "name": "stderr",
     "output_type": "stream",
     "text": [
      "INFO - (NP.df_utils._infer_frequency) - Defined frequency is equal to major frequency - MS\n",
      "INFO - (NP.df_utils.return_df_in_original_format) - Returning df with no ID column\n",
      "INFO - (NP.df_utils._infer_frequency) - Major frequency MS corresponds to [99.324]% of the data.\n",
      "INFO - (NP.df_utils._infer_frequency) - Defined frequency is equal to major frequency - MS\n",
      "INFO - (NP.df_utils._infer_frequency) - Major frequency MS corresponds to [99.324]% of the data.\n",
      "INFO - (NP.df_utils._infer_frequency) - Defined frequency is equal to major frequency - MS\n"
     ]
    },
    {
     "name": "stdout",
     "output_type": "stream",
     "text": [
      "Predicting DataLoader 0: 100%|██████████| 1/1 [00:00<00:00, 250.36it/s]"
     ]
    },
    {
     "name": "stderr",
     "output_type": "stream",
     "text": [
      "INFO - (NP.df_utils.return_df_in_original_format) - Returning df with no ID column\n"
     ]
    },
    {
     "name": "stdout",
     "output_type": "stream",
     "text": [
      "\n",
      "R2 Score for Woodhouse: -0.36461601890278716\n"
     ]
    }
   ],
   "source": [
    "from neuralprophet import NeuralProphet\n",
    "from sklearn.metrics import r2_score\n",
    "from sklearn.preprocessing import StandardScaler\n",
    "\n",
    "wards = df_prophet.columns[1:]\n",
    "df_pred2 = pd.DataFrame()\n",
    "\n",
    "for ward in wards:\n",
    "    df_neural = df_prophet[['ds', ward]].copy()\n",
    "    df_neural = df_neural.rename(columns={ward: 'y'})\n",
    "\n",
    "    m = NeuralProphet(\n",
    "        n_changepoints=10,  # Set the number of changepoints\n",
    "        yearly_seasonality='auto',  # Enable or disable yearly seasonality\n",
    "        weekly_seasonality='auto',  # Enable or disable weekly seasonality\n",
    "        daily_seasonality='auto'  # Enable or disable daily seasonality\n",
    "    )\n",
    "\n",
    "    # Create train and test datasets\n",
    "    train_df = df_neural[:-12]  # Use all data except the last 12 months for training\n",
    "    test_df = df_neural[-12:]   # Use the last 12 months for testing\n",
    "\n",
    "    # Perform standard scaling on the target variable\n",
    "    scaler = StandardScaler()\n",
    "    train_df['y'] = scaler.fit_transform(train_df['y'].values.reshape(-1, 1))\n",
    "\n",
    "    # Fit the model\n",
    "    m.fit(train_df, freq='M')\n",
    "\n",
    "    # Generate future dates for prediction\n",
    "    future = m.make_future_dataframe(train_df, periods=12, n_historic_predictions=len(train_df))\n",
    "\n",
    "    # Perform predictions\n",
    "    forecast = m.predict(future)\n",
    "\n",
    "    # Inverse transform the scaled predictions\n",
    "    forecast['yhat'] = scaler.inverse_transform(forecast['yhat1'].values.reshape(-1, 1))\n",
    "\n",
    "    # Extract the predicted values\n",
    "    y_pred = forecast['yhat'].tail(12).values.flatten()\n",
    "\n",
    "    # Extract the actual values\n",
    "    y_true = test_df['y'].values.flatten()\n",
    "\n",
    "    df_pred2[ward] = y_pred\n",
    "    df_pred2[ward + \" true\"] = y_true\n",
    "\n",
    "    # Calculate and print the R2 score for the prediction\n",
    "    r2 = r2_score(y_true, y_pred)\n",
    "    print(f\"R2 Score for {ward}: {r2}\")\n"
   ]
  },
  {
   "cell_type": "code",
   "execution_count": 14,
   "metadata": {},
   "outputs": [
    {
     "data": {
      "text/html": [
       "<div>\n",
       "<style scoped>\n",
       "    .dataframe tbody tr th:only-of-type {\n",
       "        vertical-align: middle;\n",
       "    }\n",
       "\n",
       "    .dataframe tbody tr th {\n",
       "        vertical-align: top;\n",
       "    }\n",
       "\n",
       "    .dataframe thead th {\n",
       "        text-align: right;\n",
       "    }\n",
       "</style>\n",
       "<table border=\"1\" class=\"dataframe\">\n",
       "  <thead>\n",
       "    <tr style=\"text-align: right;\">\n",
       "      <th></th>\n",
       "      <th>Barnet Vale</th>\n",
       "      <th>Barnet Vale true</th>\n",
       "      <th>Brunswick Park</th>\n",
       "      <th>Brunswick Park true</th>\n",
       "      <th>Burnt Oak</th>\n",
       "      <th>Burnt Oak true</th>\n",
       "      <th>Childs Hill</th>\n",
       "      <th>Childs Hill true</th>\n",
       "      <th>Colindale North</th>\n",
       "      <th>Colindale North true</th>\n",
       "      <th>...</th>\n",
       "      <th>Underhill</th>\n",
       "      <th>Underhill true</th>\n",
       "      <th>West Finchley</th>\n",
       "      <th>West Finchley true</th>\n",
       "      <th>West Hendon</th>\n",
       "      <th>West Hendon true</th>\n",
       "      <th>Whetstone</th>\n",
       "      <th>Whetstone true</th>\n",
       "      <th>Woodhouse</th>\n",
       "      <th>Woodhouse true</th>\n",
       "    </tr>\n",
       "  </thead>\n",
       "  <tbody>\n",
       "    <tr>\n",
       "      <th>0</th>\n",
       "      <td>0.288239</td>\n",
       "      <td>7</td>\n",
       "      <td>3.503215</td>\n",
       "      <td>3</td>\n",
       "      <td>10.481247</td>\n",
       "      <td>4</td>\n",
       "      <td>8.766932</td>\n",
       "      <td>18</td>\n",
       "      <td>5.926234</td>\n",
       "      <td>4</td>\n",
       "      <td>...</td>\n",
       "      <td>-0.502593</td>\n",
       "      <td>3</td>\n",
       "      <td>8.004206</td>\n",
       "      <td>5</td>\n",
       "      <td>4.852575</td>\n",
       "      <td>6</td>\n",
       "      <td>1.093791</td>\n",
       "      <td>10</td>\n",
       "      <td>3.386357</td>\n",
       "      <td>4</td>\n",
       "    </tr>\n",
       "    <tr>\n",
       "      <th>1</th>\n",
       "      <td>4.662315</td>\n",
       "      <td>7</td>\n",
       "      <td>3.250648</td>\n",
       "      <td>7</td>\n",
       "      <td>5.897542</td>\n",
       "      <td>11</td>\n",
       "      <td>7.887985</td>\n",
       "      <td>25</td>\n",
       "      <td>5.051756</td>\n",
       "      <td>4</td>\n",
       "      <td>...</td>\n",
       "      <td>-1.037644</td>\n",
       "      <td>6</td>\n",
       "      <td>5.922716</td>\n",
       "      <td>5</td>\n",
       "      <td>6.722033</td>\n",
       "      <td>7</td>\n",
       "      <td>2.476298</td>\n",
       "      <td>7</td>\n",
       "      <td>1.915616</td>\n",
       "      <td>5</td>\n",
       "    </tr>\n",
       "    <tr>\n",
       "      <th>2</th>\n",
       "      <td>1.752704</td>\n",
       "      <td>11</td>\n",
       "      <td>2.337944</td>\n",
       "      <td>4</td>\n",
       "      <td>4.789963</td>\n",
       "      <td>18</td>\n",
       "      <td>9.494211</td>\n",
       "      <td>19</td>\n",
       "      <td>4.074371</td>\n",
       "      <td>4</td>\n",
       "      <td>...</td>\n",
       "      <td>-2.303606</td>\n",
       "      <td>5</td>\n",
       "      <td>7.805750</td>\n",
       "      <td>9</td>\n",
       "      <td>3.028486</td>\n",
       "      <td>8</td>\n",
       "      <td>2.209645</td>\n",
       "      <td>6</td>\n",
       "      <td>3.160411</td>\n",
       "      <td>7</td>\n",
       "    </tr>\n",
       "    <tr>\n",
       "      <th>3</th>\n",
       "      <td>0.280353</td>\n",
       "      <td>6</td>\n",
       "      <td>1.611660</td>\n",
       "      <td>3</td>\n",
       "      <td>5.646634</td>\n",
       "      <td>7</td>\n",
       "      <td>9.179805</td>\n",
       "      <td>15</td>\n",
       "      <td>6.695085</td>\n",
       "      <td>8</td>\n",
       "      <td>...</td>\n",
       "      <td>-1.330299</td>\n",
       "      <td>2</td>\n",
       "      <td>7.074684</td>\n",
       "      <td>6</td>\n",
       "      <td>3.708023</td>\n",
       "      <td>8</td>\n",
       "      <td>1.973149</td>\n",
       "      <td>6</td>\n",
       "      <td>2.841393</td>\n",
       "      <td>5</td>\n",
       "    </tr>\n",
       "    <tr>\n",
       "      <th>4</th>\n",
       "      <td>1.204289</td>\n",
       "      <td>3</td>\n",
       "      <td>2.206275</td>\n",
       "      <td>6</td>\n",
       "      <td>6.815110</td>\n",
       "      <td>9</td>\n",
       "      <td>12.456849</td>\n",
       "      <td>18</td>\n",
       "      <td>6.471677</td>\n",
       "      <td>4</td>\n",
       "      <td>...</td>\n",
       "      <td>-2.499101</td>\n",
       "      <td>2</td>\n",
       "      <td>8.120335</td>\n",
       "      <td>13</td>\n",
       "      <td>2.176328</td>\n",
       "      <td>13</td>\n",
       "      <td>1.491369</td>\n",
       "      <td>6</td>\n",
       "      <td>1.575487</td>\n",
       "      <td>3</td>\n",
       "    </tr>\n",
       "    <tr>\n",
       "      <th>5</th>\n",
       "      <td>0.893230</td>\n",
       "      <td>4</td>\n",
       "      <td>2.211996</td>\n",
       "      <td>9</td>\n",
       "      <td>6.592595</td>\n",
       "      <td>8</td>\n",
       "      <td>7.232060</td>\n",
       "      <td>20</td>\n",
       "      <td>3.976308</td>\n",
       "      <td>6</td>\n",
       "      <td>...</td>\n",
       "      <td>-2.938816</td>\n",
       "      <td>2</td>\n",
       "      <td>6.173803</td>\n",
       "      <td>8</td>\n",
       "      <td>4.698193</td>\n",
       "      <td>9</td>\n",
       "      <td>2.258126</td>\n",
       "      <td>8</td>\n",
       "      <td>2.673272</td>\n",
       "      <td>3</td>\n",
       "    </tr>\n",
       "    <tr>\n",
       "      <th>6</th>\n",
       "      <td>3.113801</td>\n",
       "      <td>4</td>\n",
       "      <td>7.699940</td>\n",
       "      <td>9</td>\n",
       "      <td>6.616300</td>\n",
       "      <td>12</td>\n",
       "      <td>6.804306</td>\n",
       "      <td>30</td>\n",
       "      <td>4.249165</td>\n",
       "      <td>4</td>\n",
       "      <td>...</td>\n",
       "      <td>-0.034059</td>\n",
       "      <td>2</td>\n",
       "      <td>10.432097</td>\n",
       "      <td>14</td>\n",
       "      <td>3.937247</td>\n",
       "      <td>11</td>\n",
       "      <td>2.957571</td>\n",
       "      <td>4</td>\n",
       "      <td>3.716599</td>\n",
       "      <td>8</td>\n",
       "    </tr>\n",
       "    <tr>\n",
       "      <th>7</th>\n",
       "      <td>6.053725</td>\n",
       "      <td>5</td>\n",
       "      <td>9.602265</td>\n",
       "      <td>4</td>\n",
       "      <td>9.196469</td>\n",
       "      <td>11</td>\n",
       "      <td>14.120847</td>\n",
       "      <td>32</td>\n",
       "      <td>5.607444</td>\n",
       "      <td>5</td>\n",
       "      <td>...</td>\n",
       "      <td>0.281648</td>\n",
       "      <td>5</td>\n",
       "      <td>12.505412</td>\n",
       "      <td>16</td>\n",
       "      <td>7.988600</td>\n",
       "      <td>11</td>\n",
       "      <td>7.966235</td>\n",
       "      <td>11</td>\n",
       "      <td>7.855492</td>\n",
       "      <td>15</td>\n",
       "    </tr>\n",
       "    <tr>\n",
       "      <th>8</th>\n",
       "      <td>5.887160</td>\n",
       "      <td>9</td>\n",
       "      <td>5.256741</td>\n",
       "      <td>5</td>\n",
       "      <td>9.906793</td>\n",
       "      <td>13</td>\n",
       "      <td>8.145532</td>\n",
       "      <td>21</td>\n",
       "      <td>5.345204</td>\n",
       "      <td>6</td>\n",
       "      <td>...</td>\n",
       "      <td>-0.680194</td>\n",
       "      <td>3</td>\n",
       "      <td>9.726373</td>\n",
       "      <td>9</td>\n",
       "      <td>4.651284</td>\n",
       "      <td>9</td>\n",
       "      <td>2.059983</td>\n",
       "      <td>10</td>\n",
       "      <td>2.188405</td>\n",
       "      <td>7</td>\n",
       "    </tr>\n",
       "    <tr>\n",
       "      <th>9</th>\n",
       "      <td>2.439546</td>\n",
       "      <td>5</td>\n",
       "      <td>6.970779</td>\n",
       "      <td>7</td>\n",
       "      <td>8.922925</td>\n",
       "      <td>11</td>\n",
       "      <td>8.466866</td>\n",
       "      <td>21</td>\n",
       "      <td>6.355162</td>\n",
       "      <td>5</td>\n",
       "      <td>...</td>\n",
       "      <td>-0.602649</td>\n",
       "      <td>5</td>\n",
       "      <td>10.375956</td>\n",
       "      <td>17</td>\n",
       "      <td>3.586378</td>\n",
       "      <td>11</td>\n",
       "      <td>2.566356</td>\n",
       "      <td>0</td>\n",
       "      <td>2.529852</td>\n",
       "      <td>4</td>\n",
       "    </tr>\n",
       "    <tr>\n",
       "      <th>10</th>\n",
       "      <td>0.951771</td>\n",
       "      <td>2</td>\n",
       "      <td>6.436911</td>\n",
       "      <td>14</td>\n",
       "      <td>7.851434</td>\n",
       "      <td>4</td>\n",
       "      <td>8.087147</td>\n",
       "      <td>21</td>\n",
       "      <td>5.143945</td>\n",
       "      <td>3</td>\n",
       "      <td>...</td>\n",
       "      <td>-3.220321</td>\n",
       "      <td>2</td>\n",
       "      <td>10.344231</td>\n",
       "      <td>5</td>\n",
       "      <td>3.583586</td>\n",
       "      <td>10</td>\n",
       "      <td>1.249308</td>\n",
       "      <td>3</td>\n",
       "      <td>2.022779</td>\n",
       "      <td>6</td>\n",
       "    </tr>\n",
       "    <tr>\n",
       "      <th>11</th>\n",
       "      <td>1.423701</td>\n",
       "      <td>7</td>\n",
       "      <td>5.088943</td>\n",
       "      <td>13</td>\n",
       "      <td>7.567122</td>\n",
       "      <td>11</td>\n",
       "      <td>9.712744</td>\n",
       "      <td>20</td>\n",
       "      <td>5.269703</td>\n",
       "      <td>7</td>\n",
       "      <td>...</td>\n",
       "      <td>-1.731226</td>\n",
       "      <td>1</td>\n",
       "      <td>11.383781</td>\n",
       "      <td>13</td>\n",
       "      <td>6.836239</td>\n",
       "      <td>9</td>\n",
       "      <td>4.020665</td>\n",
       "      <td>4</td>\n",
       "      <td>2.516266</td>\n",
       "      <td>7</td>\n",
       "    </tr>\n",
       "  </tbody>\n",
       "</table>\n",
       "<p>12 rows × 46 columns</p>\n",
       "</div>"
      ],
      "text/plain": [
       "    Barnet Vale  Barnet Vale true  Brunswick Park  Brunswick Park true  \\\n",
       "0      0.288239                 7        3.503215                    3   \n",
       "1      4.662315                 7        3.250648                    7   \n",
       "2      1.752704                11        2.337944                    4   \n",
       "3      0.280353                 6        1.611660                    3   \n",
       "4      1.204289                 3        2.206275                    6   \n",
       "5      0.893230                 4        2.211996                    9   \n",
       "6      3.113801                 4        7.699940                    9   \n",
       "7      6.053725                 5        9.602265                    4   \n",
       "8      5.887160                 9        5.256741                    5   \n",
       "9      2.439546                 5        6.970779                    7   \n",
       "10     0.951771                 2        6.436911                   14   \n",
       "11     1.423701                 7        5.088943                   13   \n",
       "\n",
       "    Burnt Oak  Burnt Oak true  Childs Hill  Childs Hill true  Colindale North  \\\n",
       "0   10.481247               4     8.766932                18         5.926234   \n",
       "1    5.897542              11     7.887985                25         5.051756   \n",
       "2    4.789963              18     9.494211                19         4.074371   \n",
       "3    5.646634               7     9.179805                15         6.695085   \n",
       "4    6.815110               9    12.456849                18         6.471677   \n",
       "5    6.592595               8     7.232060                20         3.976308   \n",
       "6    6.616300              12     6.804306                30         4.249165   \n",
       "7    9.196469              11    14.120847                32         5.607444   \n",
       "8    9.906793              13     8.145532                21         5.345204   \n",
       "9    8.922925              11     8.466866                21         6.355162   \n",
       "10   7.851434               4     8.087147                21         5.143945   \n",
       "11   7.567122              11     9.712744                20         5.269703   \n",
       "\n",
       "    Colindale North true  ...  Underhill  Underhill true  West Finchley  \\\n",
       "0                      4  ...  -0.502593               3       8.004206   \n",
       "1                      4  ...  -1.037644               6       5.922716   \n",
       "2                      4  ...  -2.303606               5       7.805750   \n",
       "3                      8  ...  -1.330299               2       7.074684   \n",
       "4                      4  ...  -2.499101               2       8.120335   \n",
       "5                      6  ...  -2.938816               2       6.173803   \n",
       "6                      4  ...  -0.034059               2      10.432097   \n",
       "7                      5  ...   0.281648               5      12.505412   \n",
       "8                      6  ...  -0.680194               3       9.726373   \n",
       "9                      5  ...  -0.602649               5      10.375956   \n",
       "10                     3  ...  -3.220321               2      10.344231   \n",
       "11                     7  ...  -1.731226               1      11.383781   \n",
       "\n",
       "    West Finchley true  West Hendon  West Hendon true  Whetstone  \\\n",
       "0                    5     4.852575                 6   1.093791   \n",
       "1                    5     6.722033                 7   2.476298   \n",
       "2                    9     3.028486                 8   2.209645   \n",
       "3                    6     3.708023                 8   1.973149   \n",
       "4                   13     2.176328                13   1.491369   \n",
       "5                    8     4.698193                 9   2.258126   \n",
       "6                   14     3.937247                11   2.957571   \n",
       "7                   16     7.988600                11   7.966235   \n",
       "8                    9     4.651284                 9   2.059983   \n",
       "9                   17     3.586378                11   2.566356   \n",
       "10                   5     3.583586                10   1.249308   \n",
       "11                  13     6.836239                 9   4.020665   \n",
       "\n",
       "    Whetstone true  Woodhouse  Woodhouse true  \n",
       "0               10   3.386357               4  \n",
       "1                7   1.915616               5  \n",
       "2                6   3.160411               7  \n",
       "3                6   2.841393               5  \n",
       "4                6   1.575487               3  \n",
       "5                8   2.673272               3  \n",
       "6                4   3.716599               8  \n",
       "7               11   7.855492              15  \n",
       "8               10   2.188405               7  \n",
       "9                0   2.529852               4  \n",
       "10               3   2.022779               6  \n",
       "11               4   2.516266               7  \n",
       "\n",
       "[12 rows x 46 columns]"
      ]
     },
     "execution_count": 14,
     "metadata": {},
     "output_type": "execute_result"
    }
   ],
   "source": [
    "df_pred"
   ]
  },
  {
   "cell_type": "code",
   "execution_count": 22,
   "metadata": {},
   "outputs": [
    {
     "data": {
      "text/plain": [
       "[-2.2365286364497527,\n",
       " -0.5702538215106407,\n",
       " -0.9403106441898175,\n",
       " -6.880107447595273,\n",
       " -0.125672621963135,\n",
       " -2.187550620502627,\n",
       " -1.0149361813705684,\n",
       " -0.44643774137922376,\n",
       " -1.255305466807295,\n",
       " -4.754798351050797,\n",
       " -0.10588482863817594,\n",
       " -1.0762077134528432,\n",
       " -0.8097507277648923,\n",
       " -1.3115713219772074,\n",
       " -0.11483016757256714,\n",
       " -0.7342739405381775,\n",
       " -1.3687995349745865,\n",
       " -3.5385510500100237,\n",
       " -8.334012329556627,\n",
       " 0.3512750672453968,\n",
       " -7.410890433967998,\n",
       " -1.333911726766444,\n",
       " -0.4010471238770046]"
      ]
     },
     "execution_count": 22,
     "metadata": {},
     "output_type": "execute_result"
    }
   ],
   "source": [
    "import pandas as pd\n",
    "from sklearn.metrics import r2_score\n",
    "\n",
    "# Assuming you have a DataFrame named 'df' with columns 'column1', 'column2', 'column3', 'column4', ...\n",
    "\n",
    "# Get the list of column names\n",
    "column_names = df_pred.columns.tolist()\n",
    "\n",
    "\n",
    "# Create an empty list to store the R2 scores\n",
    "r2_scores = []\n",
    "\n",
    "# Iterate through the columns in pairs\n",
    "for i in range(0, len(column_names), 2):\n",
    "    # Get the current pair of column names\n",
    "    col1 = column_names[i]\n",
    "    col2 = column_names[i+1]\n",
    "\n",
    "    # Extract the values of the two columns\n",
    "    y_true = df_pred[col2].values\n",
    "    y_pred = df_pred[col1].values\n",
    "\n",
    "    # Calculate the R2 score\n",
    "    r2 = r2_score(y_true, y_pred)\n",
    "\n",
    "    # Append the R2 score to the list\n",
    "    r2_scores.append(r2)\n",
    "\n",
    "# Print the R2 scores\n",
    "\n",
    "\n",
    "r2_scores\n",
    "\n"
   ]
  },
  {
   "cell_type": "code",
   "execution_count": 18,
   "metadata": {},
   "outputs": [
    {
     "data": {
      "text/plain": [
       "-2.2365286364497527"
      ]
     },
     "execution_count": 18,
     "metadata": {},
     "output_type": "execute_result"
    }
   ],
   "source": [
    "lista=df_pred['Barnet Vale']\n",
    "lista2=df_pred['Barnet Vale true']\n",
    "r2_score(lista2,lista)\n"
   ]
  },
  {
   "cell_type": "code",
   "execution_count": 21,
   "metadata": {},
   "outputs": [
    {
     "data": {
      "text/plain": [
       "['Barnet Vale',\n",
       " 'Barnet Vale true',\n",
       " 'Brunswick Park',\n",
       " 'Brunswick Park true',\n",
       " 'Burnt Oak',\n",
       " 'Burnt Oak true',\n",
       " 'Childs Hill',\n",
       " 'Childs Hill true',\n",
       " 'Colindale North',\n",
       " 'Colindale North true',\n",
       " 'Cricklewood',\n",
       " 'Cricklewood true',\n",
       " 'East Barnet',\n",
       " 'East Barnet true',\n",
       " 'East Finchley',\n",
       " 'East Finchley true',\n",
       " 'Edgware',\n",
       " 'Edgware true',\n",
       " 'Edgwarebury',\n",
       " 'Edgwarebury true',\n",
       " 'Finchley Church End',\n",
       " 'Finchley Church End true',\n",
       " 'Friern Barnet',\n",
       " 'Friern Barnet true',\n",
       " 'Garden Suburb',\n",
       " 'Garden Suburb true',\n",
       " 'Golders Green',\n",
       " 'Golders Green true',\n",
       " 'Hendon',\n",
       " 'Hendon true',\n",
       " 'High Barnet',\n",
       " 'High Barnet true',\n",
       " 'Mill Hill',\n",
       " 'Mill Hill true',\n",
       " 'Totteridge & Woodside',\n",
       " 'Totteridge & Woodside true',\n",
       " 'Underhill',\n",
       " 'Underhill true',\n",
       " 'West Finchley',\n",
       " 'West Finchley true',\n",
       " 'West Hendon',\n",
       " 'West Hendon true',\n",
       " 'Whetstone',\n",
       " 'Whetstone true',\n",
       " 'Woodhouse',\n",
       " 'Woodhouse true']"
      ]
     },
     "execution_count": 21,
     "metadata": {},
     "output_type": "execute_result"
    }
   ],
   "source": []
  },
  {
   "cell_type": "code",
   "execution_count": null,
   "metadata": {},
   "outputs": [],
   "source": []
  }
 ],
 "metadata": {
  "kernelspec": {
   "display_name": "Python 3",
   "language": "python",
   "name": "python3"
  },
  "language_info": {
   "codemirror_mode": {
    "name": "ipython",
    "version": 3
   },
   "file_extension": ".py",
   "mimetype": "text/x-python",
   "name": "python",
   "nbconvert_exporter": "python",
   "pygments_lexer": "ipython3",
   "version": "3.8.10"
  },
  "orig_nbformat": 4
 },
 "nbformat": 4,
 "nbformat_minor": 2
}
